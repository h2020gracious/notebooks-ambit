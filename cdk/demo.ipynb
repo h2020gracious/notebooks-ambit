{
 "cells": [
  {
   "cell_type": "markdown",
   "metadata": {},
   "source": [
    "# Demo notebook \n",
    "\n",
    "- The Chemistry Development Kit example from https://github.com/egonw/cdkbook/\n",
    "- Groovy Kernel (tested with http://beakerx.com/ kernels )"
   ]
  },
  {
   "cell_type": "code",
   "execution_count": 6,
   "metadata": {},
   "outputs": [
    {
     "data": {
      "application/vnd.jupyter.widget-view+json": {
       "model_id": "",
       "version_major": 2,
       "version_minor": 0
      },
      "method": "display_data"
     },
     "metadata": {},
     "output_type": "display_data"
    },
    {
     "data": {
      "application/vnd.jupyter.widget-view+json": {
       "model_id": "",
       "version_major": 2,
       "version_minor": 0
      },
      "method": "display_data"
     },
     "metadata": {},
     "output_type": "display_data"
    },
    {
     "data": {
      "application/vnd.jupyter.widget-view+json": {
       "model_id": "d8bfd95d-d402-4d69-9b26-1af5853c3be0",
       "version_major": 2,
       "version_minor": 0
      },
      "method": "display_data"
     },
     "metadata": {},
     "output_type": "display_data"
    }
   ],
   "source": [
    "%classpath add mvn org.openscience.cdk cdk-core 2.2\n",
    "%classpath add mvn org.openscience.cdk cdk-data 2.2"
   ]
  },
  {
   "cell_type": "code",
   "execution_count": 20,
   "metadata": {},
   "outputs": [
    {
     "name": "stdout",
     "output_type": "stream",
     "text": [
      "Bond(481955317, #O:SINGLE, #S:NONE, #A:2, Atom(2038734214, S:C, AtomType(2038734214, FC:0, Isotope(2038734214, Element(2038734214, S:C, AN:6)))), Atom(2002266520, S:C, AtomType(2002266520, FC:0, Isotope(2002266520, Element(2002266520, S:C, AN:6)))), ElectronContainer(481955317EC:2))\n",
      "C\n"
     ]
    },
    {
     "data": {
      "text/plain": [
       "Bond(483489077, #O:SINGLE, #S:NONE, #A:2, Atom(2002266520, S:C, AtomType(2002266520, FC:0, Isotope(2002266520, Element(2002266520, S:C, AN:6)))), Atom(1347055522, S:O, AtomType(1347055522, FC:0, Isotope(1347055522, Element(1347055522, S:O, AN:8)))), ElectronContainer(483489077EC:2))"
      ]
     },
     "execution_count": 20,
     "metadata": {},
     "output_type": "execute_result"
    }
   ],
   "source": [
    "import org.openscience.cdk.interfaces.*;\n",
    "import org.openscience.cdk.*;\n",
    "\n",
    "IAtom atom1 = new Atom(\"C\")\n",
    "IAtom atom2 = new Atom(\"C\")\n",
    "IAtom atom3 = new Atom(\"O\")\n",
    "IBond bond1 = new Bond(atom1, atom2, IBond.Order.SINGLE);\n",
    "IBond bond2 = new Bond(atom2, atom3, IBond.Order.SINGLE);\n",
    "println bond1\n",
    "println atom1.getSymbol()\n",
    "\n",
    "//autotranslate\n",
    "beakerx.myvariable=atom1.getSymbol()\n",
    "//just return smth from this cell\n",
    "bond2"
   ]
  },
  {
   "cell_type": "code",
   "execution_count": 21,
   "metadata": {},
   "outputs": [
    {
     "data": {
      "text/plain": [
       "C"
      ]
     },
     "execution_count": 21,
     "metadata": {},
     "output_type": "execute_result"
    }
   ],
   "source": [
    "beakerx.myvariable"
   ]
  }
 ],
 "metadata": {
  "kernelspec": {
   "display_name": "Groovy",
   "language": "groovy",
   "name": "groovy"
  },
  "language_info": {
   "codemirror_mode": "groovy",
   "file_extension": ".groovy",
   "mimetype": "",
   "name": "Groovy",
   "nbconverter_exporter": "",
   "version": "2.4.3"
  },
  "toc": {
   "base_numbering": 1,
   "nav_menu": {},
   "number_sections": false,
   "sideBar": false,
   "skip_h1_title": false,
   "title_cell": "Table of Contents",
   "title_sidebar": "Contents",
   "toc_cell": false,
   "toc_position": {},
   "toc_section_display": false,
   "toc_window_display": false
  }
 },
 "nbformat": 4,
 "nbformat_minor": 2
}
