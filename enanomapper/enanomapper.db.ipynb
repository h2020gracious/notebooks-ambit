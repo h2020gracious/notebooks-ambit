{
 "cells": [
  {
   "cell_type": "markdown",
   "metadata": {},
   "source": [
    "# Retrieve data from eNanomapper database\n",
    "https://search.data.enanomapper.net/\n",
    "\n",
    "- This notebook uses Apache Solr API and AMBIT REST API  \n",
    "- see OpenAPI3 interactive documentation at https://api.ideaconsult.net"
   ]
  },
  {
   "cell_type": "code",
   "execution_count": null,
   "metadata": {},
   "outputs": [],
   "source": [
    "from importlib import reload \n",
    "import yaml\n",
    "from pynanomapper import aa\n",
    "from pynanomapper import units\n",
    "import ipywidgets as widgets\n",
    "from ipywidgets import interact, interactive, fixed, interact_manual, Layout\n",
    "import requests\n",
    "\n",
    "from pathlib import Path\n",
    "\n",
    "import measurement\n",
    "from pynanomapper import client_solr\n",
    "from pynanomapper import client_ambit\n",
    "from pynanomapper import annotation\n",
    "\n",
    "import pandas as pd\n",
    "import os.path\n",
    "import numpy as np\n",
    "import datetime, time\n",
    "import json\n",
    "import sys\n",
    "import ipywidgets as widgets\n",
    "\n",
    "import logging\n",
    "from logging.config import fileConfig\n",
    "fileConfig('logging_endpoints_config.ini')\n",
    "\n",
    "global logger\n",
    "logger = logging.getLogger()\n",
    "\n",
    "logger.debug('Started at %s \\t%s',os.name, datetime.datetime.now())\n",
    "import warnings\n",
    "warnings.simplefilter(\"ignore\")\n",
    "\n",
    "OUTPUT_DIR=\"output\"\n",
    "output_dir = Path(OUTPUT_DIR)\n",
    "output_dir.mkdir(exist_ok=True)"
   ]
  },
  {
   "cell_type": "markdown",
   "metadata": {},
   "source": [
    "### Select enanoMapper aggregated search service"
   ]
  },
  {
   "cell_type": "code",
   "execution_count": null,
   "metadata": {},
   "outputs": [],
   "source": [
    "print('Select enanoMapper aggregated search service:')\n",
    "style = {'description_width': 'initial'}\n",
    "config,config_servers, config_security, auth_object, msg = aa.parseOpenAPI3()    \n",
    "service_widget = widgets.Dropdown(\n",
    "    options=config_servers['url'],\n",
    "    description='Service:',\n",
    "    disabled=False,\n",
    "    style=style\n",
    ")\n",
    "if config_security is None:\n",
    "    service = interactive(aa.search_service_open,url=service_widget)\n",
    "else:\n",
    "    print(msg)\n",
    "    apikey_widget=widgets.Text(\n",
    "            placeholder='',\n",
    "            description=config_security,\n",
    "            disabled=False,\n",
    "            style=style\n",
    "    )    \n",
    "    service = interactive(aa.search_service_protected,url=service_widget,apikey=apikey_widget)    \n",
    "\n",
    "display(service)"
   ]
  },
  {
   "cell_type": "code",
   "execution_count": null,
   "metadata": {},
   "outputs": [],
   "source": [
    "service_uri=service_widget.value\n",
    "if auth_object!=None:\n",
    "    auth_object.setKey(apikey_widget.value)\n",
    "print(\"Sending queries to {}\".format(service_uri))\n"
   ]
  },
  {
   "cell_type": "markdown",
   "metadata": {},
   "source": [
    "### Retrieve information about endpoint types "
   ]
  },
  {
   "cell_type": "code",
   "execution_count": null,
   "metadata": {},
   "outputs": [],
   "source": [
    "facets = client_solr.Facets()\n",
    "\n",
    "df = facets.summary(service_uri,auth_object, query=\"*:*\",fields=[\"topcategory_s\",\"endpointcategory_s\"])    \n",
    "df.head()\n"
   ]
  },
  {
   "cell_type": "markdown",
   "metadata": {},
   "source": [
    "### "
   ]
  },
  {
   "cell_type": "code",
   "execution_count": null,
   "metadata": {},
   "outputs": [],
   "source": [
    "top_widget = widgets.Dropdown(\n",
    "    options=df['topcategory_s'].unique(),\n",
    "    value=\"P-CHEM\",\n",
    "    description='Select:',\n",
    "    disabled=False,\n",
    ")\n",
    "category_widget = widgets.Dropdown(\n",
    "    options=list(df[df['topcategory_s']==\"P-CHEM\"][[\"endpointcategory_name\",\"endpointcategory_s\"]].itertuples(index=False,name=None)),\n",
    "    #value=,\n",
    "    description='Category:',\n",
    "    layout=Layout(width='50%'),\n",
    "    disabled=False,\n",
    ")\n",
    "freetext_widget=widgets.Text(\n",
    "    value='NM220,NM101',\n",
    "    description='Free text query',\n",
    "    layout=Layout(width='50%'),\n",
    "    disabled=False\n",
    ")\n",
    "endpoint_widget=widgets.Text(\n",
    "    value='*',\n",
    "    description='Endpoint',\n",
    "    layout=Layout(width='50%'),\n",
    "    disabled=False\n",
    ")\n",
    "def define_query(_top,_section,_freetext,_endpoint):\n",
    "    #category_widget.options=df[df['topcategory_s']==top]['endpointcategory_s'].unique()\n",
    "    filtered = df[df['topcategory_s']==_top]\n",
    "    category_widget.options = list(filtered[[\"endpointcategory_name\",\"endpointcategory_s\"]].itertuples(index=False,name=None))\n",
    "    top = _top\n",
    "    section= _section\n",
    "    \n",
    "    \n",
    "interact(define_query,_top= top_widget,_section=category_widget,_freetext=freetext_widget,_endpoint=endpoint_widget)"
   ]
  },
  {
   "cell_type": "markdown",
   "metadata": {},
   "source": [
    "### Setup the query"
   ]
  },
  {
   "cell_type": "code",
   "execution_count": null,
   "metadata": {},
   "outputs": [],
   "source": [
    "top = top_widget.value\n",
    "section = category_widget.value\n",
    "materialfilter=freetext_widget.value\n",
    "endpoint=endpoint_widget.value\n",
    "if \"\" == materialfilter:\n",
    "    materialfilter=None\n",
    "logger.info('{}\\t{}\\t{}\\t{}'.format(top,section,materialfilter,endpoint))\n",
    "\n",
    "docs_query = client_solr.StudyDocuments()\n",
    "docs_query.settings['endpointfilter'] = ' effectendpoint_s: {}'.format(endpoint)\n",
    "docs_query.settings['query_guidance'] = None\n",
    "docs_query.settings['query_organism'] = None\n",
    "docs_query.setStudyFilter({' topcategory_s': top, 'endpointcategory_s':section}) \n",
    "docs_query.settings['fields'] = \"*\"                    \n",
    "query = docs_query.getQuery(textfilter=materialfilter,facets=None,fq=None, rows=10, _params=True, _conditions=True, _composition=False );\n",
    "logger.info(query)"
   ]
  },
  {
   "cell_type": "markdown",
   "metadata": {},
   "source": [
    "### Run the query"
   ]
  },
  {
   "cell_type": "code",
   "execution_count": null,
   "metadata": {},
   "outputs": [],
   "source": [
    "r = client_solr.get(service_uri,query=query,auth=auth_object)\n",
    "logger.info(r.status_code)\n",
    "docs=r.json()['response']['docs']\n",
    "rows = docs_query.parse(docs,process=None)\n",
    "\n"
   ]
  },
  {
   "cell_type": "markdown",
   "metadata": {},
   "source": [
    "### The search results - display and save in a file"
   ]
  },
  {
   "cell_type": "code",
   "execution_count": null,
   "metadata": {},
   "outputs": [],
   "source": [
    "results_filename = section + \".nosmiles.txt\"\n",
    "results_filepath = output_dir / results_filename\n",
    "results = pd.DataFrame(rows)\n",
    "results.to_csv(results_filepath, sep='\\t', index=False)\n",
    "results.head()"
   ]
  },
  {
   "cell_type": "code",
   "execution_count": null,
   "metadata": {},
   "outputs": [],
   "source": [
    "results.columns"
   ]
  },
  {
   "cell_type": "code",
   "execution_count": null,
   "metadata": {},
   "outputs": [],
   "source": [
    "import numpy as np\n",
    "def highlight_max(s):\n",
    "    is_max = s == s.max()\n",
    "    return ['background-color: red' if v else '' for v in is_max]\n",
    "\n",
    "for criteria in [\"value.range.lo\"]:\n",
    "    tmp = pd.pivot_table(results, values=criteria, index=['m.public.name'], \n",
    "    columns=['p.oht.module','p.oht.section','value.endpoint','p.guidance','value.endpoint_type','value.range.lo.qualifier','value.unit'], aggfunc=np.mean).reset_index()\n",
    "    #tmp.style.highlight_null(null_color='red')\n",
    "    \n",
    "    #display(tmp.style.apply(highlight_max,subset=top_sections))\n",
    "    display(tmp.style.apply(highlight_max))"
   ]
  },
  {
   "cell_type": "code",
   "execution_count": null,
   "metadata": {},
   "outputs": [],
   "source": [
    "tmp=results.groupby(by=[\"m.public.name\",\"p.guidance\",\"value.endpoint\",\"value.endpoint_type\",\"value.range.lo.qualifier\",\"value.unit\"]).agg({\"value.range.lo\" : [\"min\",\"max\",\"mean\",\"std\",\"count\"]}).reset_index()\n",
    "tmp.columns = [\"_\".join(x) for x in tmp.columns.ravel()]\n",
    "print(\"Substances {}\".format(tmp.shape[0]))\n",
    "display(tmp.fillna(''))\n"
   ]
  },
  {
   "cell_type": "markdown",
   "metadata": {},
   "source": [
    "."
   ]
  }
 ],
 "metadata": {
  "kernelspec": {
   "display_name": "Python 3",
   "language": "python",
   "name": "python3"
  },
  "language_info": {
   "codemirror_mode": {
    "name": "ipython",
    "version": 3
   },
   "file_extension": ".py",
   "mimetype": "text/x-python",
   "name": "python",
   "nbconvert_exporter": "python",
   "pygments_lexer": "ipython3",
   "version": "3.7.7"
  },
  "toc": {
   "base_numbering": 1,
   "nav_menu": {},
   "number_sections": false,
   "sideBar": false,
   "skip_h1_title": false,
   "title_cell": "Table of Contents",
   "title_sidebar": "Contents",
   "toc_cell": false,
   "toc_position": {},
   "toc_section_display": false,
   "toc_window_display": false
  }
 },
 "nbformat": 4,
 "nbformat_minor": 2
}
