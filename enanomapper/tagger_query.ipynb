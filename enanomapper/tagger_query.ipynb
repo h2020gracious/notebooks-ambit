{
 "cells": [
  {
   "cell_type": "markdown",
   "metadata": {},
   "source": [
    "# Text annotation \n"
   ]
  },
  {
   "cell_type": "code",
   "execution_count": null,
   "metadata": {},
   "outputs": [],
   "source": [
    "from ipywidgets import widgets, interact, interactive, fixed, interact_manual\n",
    "from pandas.io.json import json_normalize\n",
    "import requests\n",
    "import beakerx\n",
    "from pynanomapper import aa\n",
    "\n"
   ]
  },
  {
   "cell_type": "code",
   "execution_count": null,
   "metadata": {},
   "outputs": [],
   "source": [
    "def search_service_protected(url,apikey):\n",
    "    return (url,apikey)\n",
    "print('Select enanoMapper aggregated search service:')\n",
    "style = {'description_width': 'initial'}\n",
    "config,config_servers, config_security, auth_object, msg = aa.parseOpenAPI3()    \n",
    "service_widget = widgets.Dropdown(\n",
    "    options=config_servers['url'],\n",
    "    description='Service:',\n",
    "    disabled=False,\n",
    "    style=style\n",
    ")\n",
    "if config_security is None:\n",
    "    service = interactive(search_service_open,url=service_widget)\n",
    "else:\n",
    "    print(msg)\n",
    "    apikey_widget=widgets.Text(\n",
    "            placeholder='',\n",
    "            description=config_security,\n",
    "            disabled=False,\n",
    "            style=style\n",
    "    )    \n",
    "    service = interactive(search_service_protected,url=service_widget,apikey=apikey_widget)    \n",
    "\n",
    "display(service)"
   ]
  },
  {
   "cell_type": "code",
   "execution_count": null,
   "metadata": {},
   "outputs": [],
   "source": [
    "service_uri=service_widget.value\n",
    "print(\"Sending queries to {}\".format(service_uri))\n",
    "if auth_object!=None:\n",
    "    auth_object.setKey(apikey_widget.value)\n"
   ]
  },
  {
   "cell_type": "code",
   "execution_count": null,
   "metadata": {},
   "outputs": [],
   "source": [
    "options = {'url': service_uri + '/annotate?overlaps=ALL&tagsLimit=5000','name':'','password':''}\n"
   ]
  },
  {
   "cell_type": "code",
   "execution_count": null,
   "metadata": {},
   "outputs": [],
   "source": [
    "# example query excerpt from https://arxiv.org/abs/1906.00212\n",
    "query = \"HRTEM, with EDX and high-angle annular dark-field scanning transmission electron microscopy were performed using \\\n",
    "JEOL JEMARM200F and JEM-ARM200CF with an acceleration voltage of 200 kV. The JEOL Analysis Station software was used to control the STEM-EDX mapping. \\\n",
    "To minimize the effect of sample drift, a driftcorrection mode was used during acquisition of the elemental map.\\\n",
    "The STEM probe size was ~0.13 nm, generating ~140 pA of current when 40 \\u00b5m of the condenser lens aperture was inserted. \\\n",
    "The collection angle of the HAADF detector was ~97-256 mr\"\n",
    "\n",
    "defcolumn = \"definition\"\n",
    "@interact(query=query)\n",
    "def g(query):\n",
    "    x = requests.post(options['url'], data = query.encode(encoding='utf-8'),  auth=auth_object)\n",
    "    if x.status_code==200:\n",
    "        #print(x.json())\n",
    "        tags=x.json()[\"tags\"]\n",
    "        results = json_normalize(x.json()['response']['docs'])\n",
    "        for tag in tags:\n",
    "            #print(tag)\n",
    "            _id=tag[5][0]\n",
    "            term = results[results[\"id\"].isin(tag[5])]      \n",
    "            print(\"{}\\t [at offset {}:{}]\".format(query[tag[1]:tag[3]],tag[1],tag[3]))\n",
    "            c = [\"id\",\"name\",\"ontology\"]\n",
    "            if defcolumn in term.columns.values:\n",
    "                c.extend([defcolumn])\n",
    "            display(term[c])\n",
    "\n",
    "        #display(results)\n",
    "        #print(x.json())\n",
    "    else:\n",
    "\n",
    "        display(x.status_code)  \n",
    "    return (query)\n",
    "\n"
   ]
  },
  {
   "cell_type": "code",
   "execution_count": null,
   "metadata": {},
   "outputs": [],
   "source": [
    "# tbd create enm ontology github issue  automatically \n",
    "# https://gist.github.com/JeffPaine/3145490\n"
   ]
  },
  {
   "cell_type": "code",
   "execution_count": null,
   "metadata": {},
   "outputs": [],
   "source": [
    "%%javascript\n",
    "var response=\"{'responseHeader': {'status': 0, 'QTime': 0}, 'tagsCount': 2, 'tags': [['startOffset', 0, 'endOffset', 4, 'ids', ['EFO_0001086']], ['startOffset', 5, 'endOffset', 10, 'ids', ['EFO_0001099']]], 'response': {'numFound': 2, 'start': 0, 'docs': [{'Parents': ['http://purl.obolibrary.org/obo/BTO_0001616', 'http://www.ebi.ac.uk/efo/EFO_0002926', 'http://purl.obolibrary.org/obo/BTO_0000797'], 'ontology': ['EFO'], 'id': 'EFO_0001099', 'prefix': ['http://www.ebi.ac.uk/efo'], 'name': ['Caco-2', 'Caco2'], '_version_': 1643924168342765576}, {'Parents': ['http://www.ebi.ac.uk/efo/EFO_0002888', 'http://www.ebi.ac.uk/efo/EFO_0002934'], 'ontology': ['EFO'], 'id': 'EFO_0001086', 'prefix': ['http://www.ebi.ac.uk/efo'], 'name': ['A549', 'A-549', 'A549 cell'], '_version_': 1643924168630075394}]}}\"\n",
    "\n",
    "var ranges = $.map( response[\"tags\"], function( val, i ) {\n",
    "  return val[0];\n",
    "});\n",
    "\n",
    "\n",
    "element.text(ranges.join())"
   ]
  },
  {
   "cell_type": "code",
   "execution_count": null,
   "metadata": {},
   "outputs": [],
   "source": []
  }
 ],
 "metadata": {
  "kernelspec": {
   "display_name": "Python 3",
   "language": "python",
   "name": "python3"
  },
  "language_info": {
   "codemirror_mode": {
    "name": "ipython",
    "version": 3
   },
   "file_extension": ".py",
   "mimetype": "text/x-python",
   "name": "python",
   "nbconvert_exporter": "python",
   "pygments_lexer": "ipython3",
   "version": "3.7.3"
  },
  "toc": {
   "base_numbering": 1,
   "nav_menu": {},
   "number_sections": false,
   "sideBar": false,
   "skip_h1_title": false,
   "title_cell": "Table of Contents",
   "title_sidebar": "Contents",
   "toc_cell": false,
   "toc_position": {},
   "toc_section_display": false,
   "toc_window_display": false
  }
 },
 "nbformat": 4,
 "nbformat_minor": 2
}
