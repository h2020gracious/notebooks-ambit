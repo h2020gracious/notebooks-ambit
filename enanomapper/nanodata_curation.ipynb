{
 "cells": [
  {
   "cell_type": "markdown",
   "metadata": {},
   "source": [
    "# Nanosafety data annotation"
   ]
  },
  {
   "cell_type": "code",
   "execution_count": null,
   "metadata": {},
   "outputs": [],
   "source": [
    "import yaml\n",
    "from pynanomapper import aa\n",
    "from pynanomapper import units\n",
    "import ipywidgets as widgets\n",
    "from ipywidgets import interact, interactive, fixed, interact_manual\n",
    "import requests\n",
    "from importlib import reload \n",
    "from pynanomapper import client_solr\n",
    "from pynanomapper import client_ambit\n",
    "from pynanomapper import annotation\n",
    "import pandas as pd\n",
    "import numpy as np\n",
    "import json\n",
    "import pandas as pd\n",
    "import importlib\n",
    "import qgrid\n",
    "import warnings\n",
    "import seaborn as sns\n",
    "\n",
    "import matplotlib.pyplot as plt\n",
    "import io\n",
    "import qgrid\n",
    "from measurement.utils import guess\n",
    "from measurement.measures import Distance, Temperature, Volume, Area, Frequency, Mass, Time\n",
    "#init_notebook_mode(connected=True)\n",
    "warnings.simplefilter(\"ignore\")\n",
    "\n",
    "import logging\n",
    "from logging.config import fileConfig\n",
    "fileConfig('logging_endpoints_config.ini')\n",
    "global logger\n",
    "logger = logging.getLogger()\n",
    "logger.debug('Started at %s \\t%s',os.name, datetime.datetime.now())\n"
   ]
  },
  {
   "cell_type": "code",
   "execution_count": null,
   "metadata": {},
   "outputs": [],
   "source": [
    "print('Select enanoMapper aggregated search service:')\n",
    "style = {'description_width': 'initial'}\n",
    "config,config_servers, config_security, auth_object, msg = aa.parseOpenAPI3()    \n",
    "service_widget = widgets.Dropdown(\n",
    "    options=config_servers['url'],\n",
    "    description='Service:',\n",
    "    disabled=False,\n",
    "    style=style\n",
    ")\n",
    "if config_security is None:\n",
    "    service = interactive(aa.search_service_open,url=service_widget)\n",
    "else:\n",
    "    print(msg)\n",
    "    apikey_widget=widgets.Text(\n",
    "            placeholder='',\n",
    "            description=config_security,\n",
    "            disabled=False,\n",
    "            style=style\n",
    "    )    \n",
    "    service = interactive(aa.search_service_protected,url=service_widget,apikey=apikey_widget)    \n",
    "\n",
    "display(service)"
   ]
  },
  {
   "cell_type": "code",
   "execution_count": null,
   "metadata": {},
   "outputs": [],
   "source": [
    "service_uri=service_widget.value\n",
    "if auth_object!=None:\n",
    "    auth_object.setKey(apikey_widget.value)\n",
    "print(\"Sending queries to {}\".format(service_uri))\n",
    "facets = client_solr.Facets()\n"
   ]
  },
  {
   "cell_type": "code",
   "execution_count": null,
   "metadata": {},
   "outputs": [],
   "source": [
    "try:\n",
    "    with open('./config.solr.json') as f:\n",
    "        config = json.load(f)\n",
    "    solr_query=config[\"query\"]   \n",
    "except Exception as err:        \n",
    "    config = None\n",
    "    logger.error(\"Something went wrong\",err)\n"
   ]
  },
  {
   "cell_type": "code",
   "execution_count": null,
   "metadata": {},
   "outputs": [],
   "source": [
    "term_widget = widgets.Dropdown(\n",
    "    options=solr_query.keys(),\n",
    "    description='term:',\n",
    "    disabled=False,\n",
    ")\n",
    "\n",
    "display(term_widget)"
   ]
  },
  {
   "cell_type": "code",
   "execution_count": null,
   "metadata": {},
   "outputs": [],
   "source": [
    "project=service_widget.value\n",
    "solr_url=service_uri + \"/select\"\n",
    "#nested facet\n",
    "synonym_facet=\",facet: {field2: {\"+ \"{}:{},{}:{} ,limit : -1, mincount:1 \".format(\"type\",\"terms\",\"field\",solr_query[term_widget.value][\"synonym\"]) +\"}}\"\n",
    "json_facet=\"{field1: {\" + \"{}:{},{}:{} ,limit : -1, mincount:1 \".format(\"type\",\"terms\",\"field\",solr_query[term_widget.value][\"field\"]) + synonym_facet + \" }}\"\n",
    "\n",
    "query={'q': solr_query[term_widget.value][\"q\"],\"wt\" : \"json\", \"json.facet\": json_facet, 'rows': 0}\n",
    "logger.debug(solr_url)\n",
    "logger.info(query)"
   ]
  },
  {
   "cell_type": "code",
   "execution_count": null,
   "metadata": {},
   "outputs": [],
   "source": [
    "  \n",
    "r = requests.post(solr_url,data=query, auth=auth_object ,stream=False)\n",
    "logger.info(r.status_code)\n",
    "#print(r.json())"
   ]
  },
  {
   "cell_type": "code",
   "execution_count": null,
   "metadata": {},
   "outputs": [],
   "source": [
    "import pandas as pd\n",
    "key1 = \"field1\"\n",
    "key2 = \"field2\"\n",
    "\n",
    "fields = r.json()[\"facets\"][key1][\"buckets\"]\n",
    "fields_name=[]\n",
    "fields_count=[]\n",
    "field_synonym=[]\n",
    "for value in fields:\n",
    "    fields_name.append(value['val'])\n",
    "    fields_count.append(value['count'])\n",
    "    _synonym=''\n",
    "    try:\n",
    "        for synonym in value[key2]['buckets']:\n",
    "            if synonym['val'].startswith(\"EP_\"):\n",
    "                continue\n",
    "            _synonym = _synonym + \" \" + synonym['val']\n",
    "\n",
    "    except Exception as err:\n",
    "        pass\n",
    "    field_synonym.append(_synonym.strip())    \n",
    "\n",
    "df = pd.DataFrame({term_widget.value : fields_name, \"count\" : fields_count, key2 : field_synonym})\n",
    "df"
   ]
  },
  {
   "cell_type": "code",
   "execution_count": null,
   "metadata": {},
   "outputs": [],
   "source": [
    "propertiesfile_widget=widgets.Text(\n",
    "    placeholder='',\n",
    "    description='Annotation file',\n",
    "    disabled=False\n",
    "    \n",
    ")\n",
    "display(propertiesfile_widget)\n"
   ]
  },
  {
   "cell_type": "code",
   "execution_count": null,
   "metadata": {
    "scrolled": true
   },
   "outputs": [],
   "source": [
    "import os, os.path\n",
    "from jproperties import Properties\n",
    "\n",
    "p = Properties()\n",
    "if (solr_query[term_widget.value]['annotation']!=''):\n",
    "    if propertiesfile_widget.value == '':\n",
    "        prop_file='./annotation/'+ solr_query[term_widget.value]['annotation']\n",
    "    else:\n",
    "        prop_file= os.path.normcase(os.path.join(propertiesfile_widget.value,solr_query[term_widget.value]['annotation']))\n",
    "    try:\n",
    "        with open(prop_file, \"rb\") as f:\n",
    "            p.load(f, \"utf-8\") \n",
    "\n",
    "    except Exception as err:\n",
    "        p = None\n",
    "        print(err)\n",
    "    "
   ]
  },
  {
   "cell_type": "code",
   "execution_count": null,
   "metadata": {
    "scrolled": true
   },
   "outputs": [],
   "source": [
    "def _annotate(x):\n",
    "    if p is None:\n",
    "        return None\n",
    "    x=x.replace(\" \",\"_\").upper().strip()\n",
    "    \n",
    "    if x in p:\n",
    "        value, meta = p[x]\n",
    "        return value\n",
    "    else:\n",
    "        return None\n",
    "    \n",
    "\n",
    "df[\"_annotation\"] = df[term_widget.value].apply(lambda x: ( _annotate(x)))\n",
    "df[[term_widget.value,\"_annotation\"]]"
   ]
  },
  {
   "cell_type": "code",
   "execution_count": null,
   "metadata": {},
   "outputs": [],
   "source": [
    "def store(p):\n",
    "    if p != None:\n",
    "        with open('./annotation/' + solr_query[term_widget.value]['annotation'], \"wb\") as f:\n",
    "            p.store(f, encoding=\"utf-8\")\n",
    "#store(p)            "
   ]
  }
 ],
 "metadata": {
  "kernelspec": {
   "display_name": "Python 3",
   "language": "python",
   "name": "python3"
  },
  "language_info": {
   "codemirror_mode": {
    "name": "ipython",
    "version": 3
   },
   "file_extension": ".py",
   "mimetype": "text/x-python",
   "name": "python",
   "nbconvert_exporter": "python",
   "pygments_lexer": "ipython3",
   "version": "3.7.3"
  },
  "toc": {
   "base_numbering": 1,
   "nav_menu": {},
   "number_sections": false,
   "sideBar": false,
   "skip_h1_title": false,
   "title_cell": "Table of Contents",
   "title_sidebar": "Contents",
   "toc_cell": false,
   "toc_position": {},
   "toc_section_display": false,
   "toc_window_display": false
  }
 },
 "nbformat": 4,
 "nbformat_minor": 2
}
