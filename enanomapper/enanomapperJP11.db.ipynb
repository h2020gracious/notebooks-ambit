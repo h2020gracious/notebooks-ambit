{
 "cells": [
  {
   "cell_type": "markdown",
   "metadata": {},
   "source": [
    "# Retrieve data from eNanomapper database\n",
    "https://search.data.enanomapper.net/\n",
    "\n",
    "- This notebook uses Apache Solr API and AMBIT REST API  (see Swagger interactive documentation at http://enanomapper.github.io/API/ )"
   ]
  },
  {
   "cell_type": "code",
   "execution_count": 1,
   "metadata": {
    "scrolled": true
   },
   "outputs": [],
   "source": [
    "import pandas as pd\n",
    "import os.path\n",
    "import numpy as np\n",
    "import datetime, time\n",
    "import urllib3\n",
    "import json\n",
    "import sys\n",
    "import ipywidgets as widgets\n",
    "import logging\n",
    "from logging.config import fileConfig\n",
    "fileConfig('logging_endpoints_config.ini')\n",
    "\n",
    "from jaqpotpy import Jaqpot\n",
    "\n",
    "global logger\n",
    "logger = logging.getLogger()\n",
    "\n",
    "%run units.py\n",
    "#!python units.py\n",
    "\n",
    "logger.debug('Started at %s \\t%s',os.name, datetime.datetime.now())\n",
    "\n",
    "urllib3.disable_warnings()"
   ]
  },
  {
   "cell_type": "code",
   "execution_count": 2,
   "metadata": {},
   "outputs": [],
   "source": [
    "%run solrapi.py"
   ]
  },
  {
   "cell_type": "code",
   "execution_count": 3,
   "metadata": {},
   "outputs": [],
   "source": [
    "%run enmapi.py"
   ]
  },
  {
   "cell_type": "code",
   "execution_count": 4,
   "metadata": {},
   "outputs": [],
   "source": [
    "http_pool=urllib3.PoolManager()"
   ]
  },
  {
   "cell_type": "markdown",
   "metadata": {},
   "source": [
    "### Retrieve endpoints using AMBIT REST API"
   ]
  },
  {
   "cell_type": "code",
   "execution_count": 5,
   "metadata": {},
   "outputs": [
    {
     "name": "stderr",
     "output_type": "stream",
     "text": [
      "2020-02-12 16:44:14,152  INFO     Sending query to https://apps.ideaconsult.net/nanoreg1/query/study\n",
      "2020-02-12 16:44:14,294  INFO     Received response \n"
     ]
    },
    {
     "name": "stdout",
     "output_type": "stream",
     "text": [
      "https://apps.ideaconsult.net/nanoreg1\n"
     ]
    }
   ],
   "source": [
    "ambit=AMBITQuery(key=\"study\")\n",
    "print(ambit.root)\n",
    "data = ambit.get(http_pool)\n"
   ]
  },
  {
   "cell_type": "code",
   "execution_count": 6,
   "metadata": {},
   "outputs": [
    {
     "data": {
      "application/vnd.jupyter.widget-view+json": {
       "model_id": "bc4c2e86384944b7b69adb550e8e481a",
       "version_major": 2,
       "version_minor": 0
      },
      "text/plain": [
       "Dropdown(description='Select:', options=('ECOTOX', 'P-CHEM', 'TOX'), value='ECOTOX')"
      ]
     },
     "metadata": {},
     "output_type": "display_data"
    }
   ],
   "source": [
    "#Select endpoint\n",
    "_sections={}\n",
    "\n",
    "top_sections = []\n",
    "for facet in data['facet']:\n",
    "    #print(\"{}\\t{}\\t{}\\t{}\".format(facet['subcategory'],facet['endpoint'],facet['count'],facet['value']))\n",
    "    top = facet['subcategory']\n",
    "    if not top in top_sections:\n",
    "        top_sections.append(top)\n",
    "        \n",
    "    if not top in _sections:\n",
    "        _sections[top] = []\n",
    "    \n",
    "    _sections[top].append(facet['endpoint'])\n",
    "\n",
    "top_widget = widgets.Dropdown(\n",
    "    options=top_sections,\n",
    "    value=top_sections[0],\n",
    "    description='Select:',\n",
    "    disabled=False,\n",
    ")\n",
    "display(top_widget)\n"
   ]
  },
  {
   "cell_type": "code",
   "execution_count": 7,
   "metadata": {},
   "outputs": [
    {
     "data": {
      "application/vnd.jupyter.widget-view+json": {
       "model_id": "334b14bf36764d398e3659be9e22ba6f",
       "version_major": 2,
       "version_minor": 0
      },
      "text/plain": [
       "Dropdown(description='Endpoint:', index=1, options=('EC_ALGAETOX_SECTION', 'EC_DAPHNIATOX_SECTION', 'EC_FISHTO…"
      ]
     },
     "metadata": {},
     "output_type": "display_data"
    }
   ],
   "source": [
    "top=top_widget.value\n",
    "category_widget = widgets.Dropdown(\n",
    "    options=_sections[top],\n",
    "    value=_sections[top][1],\n",
    "    description='Endpoint:',\n",
    "    disabled=False,\n",
    ")\n",
    "display(category_widget)"
   ]
  },
  {
   "cell_type": "markdown",
   "metadata": {},
   "source": [
    "#### Setup the query"
   ]
  },
  {
   "cell_type": "code",
   "execution_count": 8,
   "metadata": {},
   "outputs": [
    {
     "data": {
      "application/vnd.jupyter.widget-view+json": {
       "model_id": "157dc6ba9f774cdfa77c021315a72382",
       "version_major": 2,
       "version_minor": 0
      },
      "text/plain": [
       "Text(value='NM220,NM101,NM103,NM102', description='Search')"
      ]
     },
     "metadata": {},
     "output_type": "display_data"
    }
   ],
   "source": [
    "freetext_widget=widgets.Text(\n",
    "    value='NM220,NM101,NM103,NM102',\n",
    "    description='Search',\n",
    "    disabled=False\n",
    ")\n",
    "freetext_widget"
   ]
  },
  {
   "cell_type": "code",
   "execution_count": 9,
   "metadata": {},
   "outputs": [
    {
     "name": "stderr",
     "output_type": "stream",
     "text": [
      "2020-02-12 16:44:20,963  INFO     {'endpointfilter': ' effectendpoint_s: *', 'studyfilter': ' topcategory_s:(ECOTOX) AND endpointcategory_s:(EC_DAPHNIATOX_SECTION)', 'query_guidance': None, 'query_organism': None, 'fields': None}\n",
      "2020-02-12 16:44:20,964  INFO     Free text query: NM220,NM101,NM103,NM102\n"
     ]
    }
   ],
   "source": [
    "materialfilter=freetext_widget.value\n",
    "if \"\" == materialfilter:\n",
    "    materialfilter=None\n",
    "    \n",
    "section=category_widget.value\n",
    "fields=None\n",
    "if section in _fields:\n",
    "    fields=_fields[section]\n",
    "\n",
    "endpoint=\"*\"\n",
    "if section in _endpoint:\n",
    "    endpoint=_endpoint[section]\n",
    "    \n",
    "settings = {'endpointfilter': ' effectendpoint_s: {}'.format(endpoint),\n",
    "            'studyfilter': ' topcategory_s:({}) AND endpointcategory_s:({})'.format(top,section),            \n",
    "            'query_guidance': None, \n",
    "            'query_organism': None,\n",
    "            'fields' : fields\n",
    "           }\n",
    "    \n",
    "logger.info(settings)  \n",
    "logger.info(\"Free text query: {}\".format(materialfilter))"
   ]
  },
  {
   "cell_type": "markdown",
   "metadata": {},
   "source": [
    "### Run the query"
   ]
  },
  {
   "cell_type": "code",
   "execution_count": 11,
   "metadata": {},
   "outputs": [
    {
     "data": {
      "application/vnd.jupyter.widget-view+json": {
       "model_id": "aa0e73a4579a4812acd66a387ca7e60a",
       "version_major": 2,
       "version_minor": 0
      },
      "text/plain": [
       "Dropdown(description='Service:', options=('nanoreg1', 'enm'), value='nanoreg1')"
      ]
     },
     "metadata": {},
     "output_type": "display_data"
    },
    {
     "data": {
      "application/vnd.jupyter.widget-view+json": {
       "model_id": "dad28d0f9f90476a92c422e260b5df11",
       "version_major": 2,
       "version_minor": 0
      },
      "text/plain": [
       "Text(value='', description='User name:', placeholder='')"
      ]
     },
     "metadata": {},
     "output_type": "display_data"
    },
    {
     "data": {
      "application/vnd.jupyter.widget-view+json": {
       "model_id": "29a94f7085c5497484058baab362f1a3",
       "version_major": 2,
       "version_minor": 0
      },
      "text/plain": [
       "Password(description='Password:', placeholder='')"
      ]
     },
     "metadata": {},
     "output_type": "display_data"
    }
   ],
   "source": [
    "\n",
    "try:\n",
    "    with open('./config.solr.json') as f:\n",
    "        solr_services = json.load(f)\n",
    "except:        \n",
    "    solr_services = None\n",
    "    logger.error(\"Something went wrong\")\n",
    "\n",
    "service_widget = widgets.Dropdown(\n",
    "    options=solr_services.keys(),\n",
    "    description='Service:',\n",
    "    disabled=False,\n",
    ")\n",
    "display(service_widget)\n",
    "\n",
    "name_widget=widgets.Text(\n",
    "    placeholder='',\n",
    "    description='User name:',\n",
    "    disabled=False\n",
    ")\n",
    "password_widget = widgets.Password(description='Password:', placeholder='')\n",
    "display(name_widget)\n",
    "password_widget"
   ]
  },
  {
   "cell_type": "code",
   "execution_count": 12,
   "metadata": {},
   "outputs": [
    {
     "name": "stderr",
     "output_type": "stream",
     "text": [
      "2020-02-12 16:44:42,422  INFO     {'url': 'https://solr.ideaconsult.net/solr/nanoreg_shard1_replica1/select', 'fl': 'name_hs,publicname_hs,substanceType_hs,s_uuid_hs,[child parentFilter=filter(type_s:substance) childFilter=\"filter(type_s:study AND  topcategory_s:(ECOTOX) AND endpointcategory_s:(EC_DAPHNIATOX_SECTION) AND  effectendpoint_s: *)  OR filter(type_s:params AND  topcategory_s:(ECOTOX) AND endpointcategory_s:(EC_DAPHNIATOX_SECTION))  OR filter(type_s:conditions AND  topcategory_s:(ECOTOX) AND endpointcategory_s:(EC_DAPHNIATOX_SECTION)) OR filter(type_s:composition AND component_s:CONSTITUENT)\" limit=10000]', 'fq': '', 'q': '{!parent which=type_s:substance}'}\n",
      "2020-02-12 16:44:42,425  INFO     Sending query to https://solr.ideaconsult.net/solr/nanoreg_shard1_replica1/select\n",
      "2020-02-12 16:44:42,579  INFO     {\n",
      "  \"name_hs\": \"NM-100 (TiO2 50-150 nm)\",\n",
      "  \"publicname_hs\": \"JRCNM01000a\",\n",
      "  \"substanceType_hs\": \"NPO_1486\",\n",
      "  \"s_uuid_hs\": \"NNRG-18280a4a-45e9-adc0-df3b-125397b1255f\"\n",
      "}\n"
     ]
    }
   ],
   "source": [
    "query=getSolrQuery(settings,url=solr_services[service_widget.value])\n",
    "rows = []  \n",
    "\n",
    "#logger.info(settings)\n",
    "logger.info(query)\n",
    "rows = sendSolrRequest(settings=settings,http=http_pool,textfilter=materialfilter,query=query,rows=rows,basic_auth=\"{}:{}\".format(name_widget.value,password_widget.value))"
   ]
  },
  {
   "cell_type": "code",
   "execution_count": 13,
   "metadata": {},
   "outputs": [
    {
     "data": {
      "text/html": [
       "<div>\n",
       "<style scoped>\n",
       "    .dataframe tbody tr th:only-of-type {\n",
       "        vertical-align: middle;\n",
       "    }\n",
       "\n",
       "    .dataframe tbody tr th {\n",
       "        vertical-align: top;\n",
       "    }\n",
       "\n",
       "    .dataframe thead th {\n",
       "        text-align: right;\n",
       "    }\n",
       "</style>\n",
       "<table border=\"1\" class=\"dataframe\">\n",
       "  <thead>\n",
       "    <tr style=\"text-align: right;\">\n",
       "      <th></th>\n",
       "      <th>public.name</th>\n",
       "      <th>r.purposeFlag</th>\n",
       "      <th>r.reliability</th>\n",
       "      <th>r.studyResultType</th>\n",
       "      <th>substance.name</th>\n",
       "      <th>substance.type</th>\n",
       "      <th>substance.uuid</th>\n",
       "      <th>value.endpoint</th>\n",
       "      <th>value.lo</th>\n",
       "      <th>value.qualifier.lo</th>\n",
       "      <th>...</th>\n",
       "      <th>x.params.MEDIUM.ionictrength_d</th>\n",
       "      <th>x.params.MEDIUM.ph_LOQUALIFIER</th>\n",
       "      <th>x.params.MEDIUM.ph_LOVALUE_d</th>\n",
       "      <th>x.params.MEDIUM.ph_UPQUALIFIER</th>\n",
       "      <th>x.params.MEDIUM.ph_UPVALUE_d</th>\n",
       "      <th>x.params.MEDIUM.temperature_UNIT</th>\n",
       "      <th>x.params.MEDIUM.temperature_d</th>\n",
       "      <th>x.params.Vial</th>\n",
       "      <th>x.params.guidance</th>\n",
       "      <th>x.reference_year</th>\n",
       "    </tr>\n",
       "  </thead>\n",
       "  <tbody>\n",
       "    <tr>\n",
       "      <th>0</th>\n",
       "      <td>JRCNM01001a</td>\n",
       "      <td></td>\n",
       "      <td>None</td>\n",
       "      <td>Measured</td>\n",
       "      <td>NM-101 (TiO2 6 nm)</td>\n",
       "      <td>NPO_1486</td>\n",
       "      <td>NNRG-a51b2e58-4105-9643-3016-3f4b431171e2</td>\n",
       "      <td>L.L. (LOWER LIMIT)</td>\n",
       "      <td>32.32</td>\n",
       "      <td></td>\n",
       "      <td>...</td>\n",
       "      <td>884.0</td>\n",
       "      <td>NaN</td>\n",
       "      <td>NaN</td>\n",
       "      <td>NaN</td>\n",
       "      <td>NaN</td>\n",
       "      <td>Celsius</td>\n",
       "      <td>22.0</td>\n",
       "      <td>JRCNM01001a990498</td>\n",
       "      <td>SOP-TOXICITY TEST WITH DAPHNIA MAGNA (WITHOUT ...</td>\n",
       "      <td>2016</td>\n",
       "    </tr>\n",
       "    <tr>\n",
       "      <th>1</th>\n",
       "      <td>JRCNM01001a</td>\n",
       "      <td></td>\n",
       "      <td>None</td>\n",
       "      <td>Measured</td>\n",
       "      <td>NM-101 (TiO2 6 nm)</td>\n",
       "      <td>NPO_1486</td>\n",
       "      <td>NNRG-a51b2e58-4105-9643-3016-3f4b431171e2</td>\n",
       "      <td>U.L. (UPPER LIMIT)</td>\n",
       "      <td>106.03</td>\n",
       "      <td></td>\n",
       "      <td>...</td>\n",
       "      <td>884.0</td>\n",
       "      <td>NaN</td>\n",
       "      <td>NaN</td>\n",
       "      <td>NaN</td>\n",
       "      <td>NaN</td>\n",
       "      <td>Celsius</td>\n",
       "      <td>22.0</td>\n",
       "      <td>JRCNM01001a990498</td>\n",
       "      <td>SOP-TOXICITY TEST WITH DAPHNIA MAGNA (WITHOUT ...</td>\n",
       "      <td>2016</td>\n",
       "    </tr>\n",
       "    <tr>\n",
       "      <th>2</th>\n",
       "      <td>JRCNM01001a</td>\n",
       "      <td></td>\n",
       "      <td>None</td>\n",
       "      <td>Measured</td>\n",
       "      <td>NM-101 (TiO2 6 nm)</td>\n",
       "      <td>NPO_1486</td>\n",
       "      <td>NNRG-a51b2e58-4105-9643-3016-3f4b431171e2</td>\n",
       "      <td>LC20</td>\n",
       "      <td>61.20</td>\n",
       "      <td></td>\n",
       "      <td>...</td>\n",
       "      <td>884.0</td>\n",
       "      <td>NaN</td>\n",
       "      <td>NaN</td>\n",
       "      <td>NaN</td>\n",
       "      <td>NaN</td>\n",
       "      <td>Celsius</td>\n",
       "      <td>22.0</td>\n",
       "      <td>JRCNM01001a990498</td>\n",
       "      <td>SOP-TOXICITY TEST WITH DAPHNIA MAGNA (WITHOUT ...</td>\n",
       "      <td>2016</td>\n",
       "    </tr>\n",
       "    <tr>\n",
       "      <th>3</th>\n",
       "      <td>JRCNM01001a</td>\n",
       "      <td></td>\n",
       "      <td>None</td>\n",
       "      <td>Measured</td>\n",
       "      <td>NM-101 (TiO2 6 nm)</td>\n",
       "      <td>NPO_1486</td>\n",
       "      <td>NNRG-a51b2e58-4105-9643-3016-3f4b431171e2</td>\n",
       "      <td>L.L. (LOWER LIMIT)</td>\n",
       "      <td>89.32</td>\n",
       "      <td></td>\n",
       "      <td>...</td>\n",
       "      <td>884.0</td>\n",
       "      <td>NaN</td>\n",
       "      <td>NaN</td>\n",
       "      <td>NaN</td>\n",
       "      <td>NaN</td>\n",
       "      <td>Celsius</td>\n",
       "      <td>22.0</td>\n",
       "      <td>JRCNM01001a990498</td>\n",
       "      <td>SOP-TOXICITY TEST WITH DAPHNIA MAGNA (WITHOUT ...</td>\n",
       "      <td>2016</td>\n",
       "    </tr>\n",
       "    <tr>\n",
       "      <th>4</th>\n",
       "      <td>JRCNM01001a</td>\n",
       "      <td></td>\n",
       "      <td>None</td>\n",
       "      <td>Measured</td>\n",
       "      <td>NM-101 (TiO2 6 nm)</td>\n",
       "      <td>NPO_1486</td>\n",
       "      <td>NNRG-a51b2e58-4105-9643-3016-3f4b431171e2</td>\n",
       "      <td>U.L. (UPPER LIMIT)</td>\n",
       "      <td>281.47</td>\n",
       "      <td></td>\n",
       "      <td>...</td>\n",
       "      <td>884.0</td>\n",
       "      <td>NaN</td>\n",
       "      <td>NaN</td>\n",
       "      <td>NaN</td>\n",
       "      <td>NaN</td>\n",
       "      <td>Celsius</td>\n",
       "      <td>22.0</td>\n",
       "      <td>JRCNM01001a990498</td>\n",
       "      <td>SOP-TOXICITY TEST WITH DAPHNIA MAGNA (WITHOUT ...</td>\n",
       "      <td>2016</td>\n",
       "    </tr>\n",
       "  </tbody>\n",
       "</table>\n",
       "<p>5 rows × 48 columns</p>\n",
       "</div>"
      ],
      "text/plain": [
       "   public.name r.purposeFlag r.reliability r.studyResultType  \\\n",
       "0  JRCNM01001a                        None          Measured   \n",
       "1  JRCNM01001a                        None          Measured   \n",
       "2  JRCNM01001a                        None          Measured   \n",
       "3  JRCNM01001a                        None          Measured   \n",
       "4  JRCNM01001a                        None          Measured   \n",
       "\n",
       "       substance.name substance.type  \\\n",
       "0  NM-101 (TiO2 6 nm)       NPO_1486   \n",
       "1  NM-101 (TiO2 6 nm)       NPO_1486   \n",
       "2  NM-101 (TiO2 6 nm)       NPO_1486   \n",
       "3  NM-101 (TiO2 6 nm)       NPO_1486   \n",
       "4  NM-101 (TiO2 6 nm)       NPO_1486   \n",
       "\n",
       "                              substance.uuid      value.endpoint  value.lo  \\\n",
       "0  NNRG-a51b2e58-4105-9643-3016-3f4b431171e2  L.L. (LOWER LIMIT)     32.32   \n",
       "1  NNRG-a51b2e58-4105-9643-3016-3f4b431171e2  U.L. (UPPER LIMIT)    106.03   \n",
       "2  NNRG-a51b2e58-4105-9643-3016-3f4b431171e2                LC20     61.20   \n",
       "3  NNRG-a51b2e58-4105-9643-3016-3f4b431171e2  L.L. (LOWER LIMIT)     89.32   \n",
       "4  NNRG-a51b2e58-4105-9643-3016-3f4b431171e2  U.L. (UPPER LIMIT)    281.47   \n",
       "\n",
       "  value.qualifier.lo  ... x.params.MEDIUM.ionictrength_d  \\\n",
       "0                     ...                          884.0   \n",
       "1                     ...                          884.0   \n",
       "2                     ...                          884.0   \n",
       "3                     ...                          884.0   \n",
       "4                     ...                          884.0   \n",
       "\n",
       "  x.params.MEDIUM.ph_LOQUALIFIER x.params.MEDIUM.ph_LOVALUE_d  \\\n",
       "0                            NaN                          NaN   \n",
       "1                            NaN                          NaN   \n",
       "2                            NaN                          NaN   \n",
       "3                            NaN                          NaN   \n",
       "4                            NaN                          NaN   \n",
       "\n",
       "  x.params.MEDIUM.ph_UPQUALIFIER x.params.MEDIUM.ph_UPVALUE_d  \\\n",
       "0                            NaN                          NaN   \n",
       "1                            NaN                          NaN   \n",
       "2                            NaN                          NaN   \n",
       "3                            NaN                          NaN   \n",
       "4                            NaN                          NaN   \n",
       "\n",
       "  x.params.MEDIUM.temperature_UNIT x.params.MEDIUM.temperature_d  \\\n",
       "0                          Celsius                          22.0   \n",
       "1                          Celsius                          22.0   \n",
       "2                          Celsius                          22.0   \n",
       "3                          Celsius                          22.0   \n",
       "4                          Celsius                          22.0   \n",
       "\n",
       "       x.params.Vial                                  x.params.guidance  \\\n",
       "0  JRCNM01001a990498  SOP-TOXICITY TEST WITH DAPHNIA MAGNA (WITHOUT ...   \n",
       "1  JRCNM01001a990498  SOP-TOXICITY TEST WITH DAPHNIA MAGNA (WITHOUT ...   \n",
       "2  JRCNM01001a990498  SOP-TOXICITY TEST WITH DAPHNIA MAGNA (WITHOUT ...   \n",
       "3  JRCNM01001a990498  SOP-TOXICITY TEST WITH DAPHNIA MAGNA (WITHOUT ...   \n",
       "4  JRCNM01001a990498  SOP-TOXICITY TEST WITH DAPHNIA MAGNA (WITHOUT ...   \n",
       "\n",
       "  x.reference_year  \n",
       "0             2016  \n",
       "1             2016  \n",
       "2             2016  \n",
       "3             2016  \n",
       "4             2016  \n",
       "\n",
       "[5 rows x 48 columns]"
      ]
     },
     "execution_count": 13,
     "metadata": {},
     "output_type": "execute_result"
    }
   ],
   "source": [
    "#print(\"Substances: {}\".format(len(rows)))\n",
    "df = pd.DataFrame(rows)\n",
    "df.to_csv(section+\".nosmiles.txt\",sep='\\t',index=False)\n",
    "#df.head()\n",
    "df.head()"
   ]
  },
  {
   "cell_type": "code",
   "execution_count": 14,
   "metadata": {},
   "outputs": [
    {
     "data": {
      "text/html": [
       "<style  type=\"text/css\" >\n",
       "    #T_3994f1ba_4da6_11ea_aa26_f21898430d3brow0_col6 {\n",
       "            background-color:  red;\n",
       "        }    #T_3994f1ba_4da6_11ea_aa26_f21898430d3brow0_col8 {\n",
       "            background-color:  red;\n",
       "        }    #T_3994f1ba_4da6_11ea_aa26_f21898430d3brow1_col1 {\n",
       "            background-color:  red;\n",
       "        }    #T_3994f1ba_4da6_11ea_aa26_f21898430d3brow1_col2 {\n",
       "            background-color:  red;\n",
       "        }    #T_3994f1ba_4da6_11ea_aa26_f21898430d3brow1_col3 {\n",
       "            background-color:  red;\n",
       "        }    #T_3994f1ba_4da6_11ea_aa26_f21898430d3brow1_col4 {\n",
       "            background-color:  red;\n",
       "        }    #T_3994f1ba_4da6_11ea_aa26_f21898430d3brow2_col5 {\n",
       "            background-color:  red;\n",
       "        }    #T_3994f1ba_4da6_11ea_aa26_f21898430d3brow2_col7 {\n",
       "            background-color:  red;\n",
       "        }</style><table id=\"T_3994f1ba_4da6_11ea_aa26_f21898430d3b\" ><thead>    <tr>        <th class=\"index_name level0\" >x.oht.top</th>        <th class=\"col_heading level0 col0\" >public.name</th>        <th class=\"col_heading level0 col1\" colspan=8>ECOTOX</th>    </tr>    <tr>        <th class=\"index_name level1\" >x.oht.section</th>        <th class=\"col_heading level1 col0\" ></th>        <th class=\"col_heading level1 col1\" colspan=8>EC_DAPHNIATOX_SECTION</th>    </tr>    <tr>        <th class=\"index_name level2\" >x.guidance</th>        <th class=\"col_heading level2 col0\" ></th>        <th class=\"col_heading level2 col1\" colspan=4>SOP-TOXICITY TEST WITH DAPHNIA MAGNA (WITHOUT NOM)</th>        <th class=\"col_heading level2 col5\" colspan=4>SOP-TOXICITY TEST WITH MICROALGAE P.SUBCAPITATA WITH NOM</th>    </tr>    <tr>        <th class=\"index_name level3\" >value.endpoint</th>        <th class=\"col_heading level3 col0\" ></th>        <th class=\"col_heading level3 col1\" >L.L. (LOWER LIMIT)</th>        <th class=\"col_heading level3 col2\" >LC20</th>        <th class=\"col_heading level3 col3\" >LC50</th>        <th class=\"col_heading level3 col4\" >U.L. (UPPER LIMIT)</th>        <th class=\"col_heading level3 col5\" >EC20 (48H)</th>        <th class=\"col_heading level3 col6\" >EC20 (72H)</th>        <th class=\"col_heading level3 col7\" >EC50 (48H)</th>        <th class=\"col_heading level3 col8\" >EC50 (72H)</th>    </tr>    <tr>        <th class=\"index_name level4\" >value.qualifier.lo</th>        <th class=\"col_heading level4 col0\" ></th>        <th class=\"col_heading level4 col1\" ></th>        <th class=\"col_heading level4 col2\" ></th>        <th class=\"col_heading level4 col3\" ></th>        <th class=\"col_heading level4 col4\" ></th>        <th class=\"col_heading level4 col5\" ></th>        <th class=\"col_heading level4 col6\" ></th>        <th class=\"col_heading level4 col7\" ></th>        <th class=\"col_heading level4 col8\" ></th>    </tr>    <tr>        <th class=\"index_name level5\" >value.unit</th>        <th class=\"col_heading level5 col0\" ></th>        <th class=\"col_heading level5 col1\" >mg/l</th>        <th class=\"col_heading level5 col2\" ></th>        <th class=\"col_heading level5 col3\" ></th>        <th class=\"col_heading level5 col4\" >mg/l</th>        <th class=\"col_heading level5 col5\" >mg/l</th>        <th class=\"col_heading level5 col6\" >mg/l</th>        <th class=\"col_heading level5 col7\" >mg/l</th>        <th class=\"col_heading level5 col8\" >mg/l</th>    </tr></thead><tbody>\n",
       "                <tr>\n",
       "                        <th id=\"T_3994f1ba_4da6_11ea_aa26_f21898430d3blevel0_row0\" class=\"row_heading level0 row0\" >0</th>\n",
       "                        <td id=\"T_3994f1ba_4da6_11ea_aa26_f21898430d3brow0_col0\" class=\"data row0 col0\" >JRCNM01000a</td>\n",
       "                        <td id=\"T_3994f1ba_4da6_11ea_aa26_f21898430d3brow0_col1\" class=\"data row0 col1\" >nan</td>\n",
       "                        <td id=\"T_3994f1ba_4da6_11ea_aa26_f21898430d3brow0_col2\" class=\"data row0 col2\" >nan</td>\n",
       "                        <td id=\"T_3994f1ba_4da6_11ea_aa26_f21898430d3brow0_col3\" class=\"data row0 col3\" >nan</td>\n",
       "                        <td id=\"T_3994f1ba_4da6_11ea_aa26_f21898430d3brow0_col4\" class=\"data row0 col4\" >nan</td>\n",
       "                        <td id=\"T_3994f1ba_4da6_11ea_aa26_f21898430d3brow0_col5\" class=\"data row0 col5\" >100</td>\n",
       "                        <td id=\"T_3994f1ba_4da6_11ea_aa26_f21898430d3brow0_col6\" class=\"data row0 col6\" >100</td>\n",
       "                        <td id=\"T_3994f1ba_4da6_11ea_aa26_f21898430d3brow0_col7\" class=\"data row0 col7\" >100</td>\n",
       "                        <td id=\"T_3994f1ba_4da6_11ea_aa26_f21898430d3brow0_col8\" class=\"data row0 col8\" >100</td>\n",
       "            </tr>\n",
       "            <tr>\n",
       "                        <th id=\"T_3994f1ba_4da6_11ea_aa26_f21898430d3blevel0_row1\" class=\"row_heading level0 row1\" >1</th>\n",
       "                        <td id=\"T_3994f1ba_4da6_11ea_aa26_f21898430d3brow1_col0\" class=\"data row1 col0\" >JRCNM01001a</td>\n",
       "                        <td id=\"T_3994f1ba_4da6_11ea_aa26_f21898430d3brow1_col1\" class=\"data row1 col1\" >60.82</td>\n",
       "                        <td id=\"T_3994f1ba_4da6_11ea_aa26_f21898430d3brow1_col2\" class=\"data row1 col2\" >61.2</td>\n",
       "                        <td id=\"T_3994f1ba_4da6_11ea_aa26_f21898430d3brow1_col3\" class=\"data row1 col3\" >131.14</td>\n",
       "                        <td id=\"T_3994f1ba_4da6_11ea_aa26_f21898430d3brow1_col4\" class=\"data row1 col4\" >193.75</td>\n",
       "                        <td id=\"T_3994f1ba_4da6_11ea_aa26_f21898430d3brow1_col5\" class=\"data row1 col5\" >nan</td>\n",
       "                        <td id=\"T_3994f1ba_4da6_11ea_aa26_f21898430d3brow1_col6\" class=\"data row1 col6\" >nan</td>\n",
       "                        <td id=\"T_3994f1ba_4da6_11ea_aa26_f21898430d3brow1_col7\" class=\"data row1 col7\" >nan</td>\n",
       "                        <td id=\"T_3994f1ba_4da6_11ea_aa26_f21898430d3brow1_col8\" class=\"data row1 col8\" >nan</td>\n",
       "            </tr>\n",
       "            <tr>\n",
       "                        <th id=\"T_3994f1ba_4da6_11ea_aa26_f21898430d3blevel0_row2\" class=\"row_heading level0 row2\" >2</th>\n",
       "                        <td id=\"T_3994f1ba_4da6_11ea_aa26_f21898430d3brow2_col0\" class=\"data row2 col0\" >JRCNM01003a</td>\n",
       "                        <td id=\"T_3994f1ba_4da6_11ea_aa26_f21898430d3brow2_col1\" class=\"data row2 col1\" >nan</td>\n",
       "                        <td id=\"T_3994f1ba_4da6_11ea_aa26_f21898430d3brow2_col2\" class=\"data row2 col2\" >nan</td>\n",
       "                        <td id=\"T_3994f1ba_4da6_11ea_aa26_f21898430d3brow2_col3\" class=\"data row2 col3\" >nan</td>\n",
       "                        <td id=\"T_3994f1ba_4da6_11ea_aa26_f21898430d3brow2_col4\" class=\"data row2 col4\" >nan</td>\n",
       "                        <td id=\"T_3994f1ba_4da6_11ea_aa26_f21898430d3brow2_col5\" class=\"data row2 col5\" >103.9</td>\n",
       "                        <td id=\"T_3994f1ba_4da6_11ea_aa26_f21898430d3brow2_col6\" class=\"data row2 col6\" >3.58</td>\n",
       "                        <td id=\"T_3994f1ba_4da6_11ea_aa26_f21898430d3brow2_col7\" class=\"data row2 col7\" >1399</td>\n",
       "                        <td id=\"T_3994f1ba_4da6_11ea_aa26_f21898430d3brow2_col8\" class=\"data row2 col8\" >22.26</td>\n",
       "            </tr>\n",
       "    </tbody></table>"
      ],
      "text/plain": [
       "<pandas.io.formats.style.Styler at 0x115616ef0>"
      ]
     },
     "metadata": {},
     "output_type": "display_data"
    }
   ],
   "source": [
    "import numpy as np\n",
    "def highlight_max(s):\n",
    "    is_max = s == s.max()\n",
    "    return ['background-color: red' if v else '' for v in is_max]\n",
    "\n",
    "for criteria in [\"value.lo\"]:\n",
    "    tmp = pd.pivot_table(df, values=criteria, index=['public.name'], columns=['x.oht.top','x.oht.section','x.guidance','value.endpoint','value.qualifier.lo','value.unit'], aggfunc=np.mean).reset_index()\n",
    "    #tmp.style.highlight_null(null_color='red')\n",
    "    \n",
    "    display(tmp.style.apply(highlight_max,subset=top_sections))"
   ]
  },
  {
   "cell_type": "code",
   "execution_count": 15,
   "metadata": {},
   "outputs": [
    {
     "name": "stdout",
     "output_type": "stream",
     "text": [
      "Substances 12\n"
     ]
    },
    {
     "data": {
      "text/html": [
       "<div>\n",
       "<style scoped>\n",
       "    .dataframe tbody tr th:only-of-type {\n",
       "        vertical-align: middle;\n",
       "    }\n",
       "\n",
       "    .dataframe tbody tr th {\n",
       "        vertical-align: top;\n",
       "    }\n",
       "\n",
       "    .dataframe thead th {\n",
       "        text-align: right;\n",
       "    }\n",
       "</style>\n",
       "<table border=\"1\" class=\"dataframe\">\n",
       "  <thead>\n",
       "    <tr style=\"text-align: right;\">\n",
       "      <th></th>\n",
       "      <th>public.name_</th>\n",
       "      <th>x.guidance_</th>\n",
       "      <th>value.endpoint_</th>\n",
       "      <th>value.qualifier.lo_</th>\n",
       "      <th>value.unit_</th>\n",
       "      <th>value.lo_min</th>\n",
       "      <th>value.lo_max</th>\n",
       "      <th>value.lo_mean</th>\n",
       "      <th>value.lo_std</th>\n",
       "      <th>value.lo_count</th>\n",
       "    </tr>\n",
       "  </thead>\n",
       "  <tbody>\n",
       "    <tr>\n",
       "      <th>0</th>\n",
       "      <td>JRCNM01000a</td>\n",
       "      <td>SOP-TOXICITY TEST WITH MICROALGAE P.SUBCAPITAT...</td>\n",
       "      <td>EC20 (48H)</td>\n",
       "      <td></td>\n",
       "      <td>mg/l</td>\n",
       "      <td>100.00</td>\n",
       "      <td>100.00</td>\n",
       "      <td>100.00</td>\n",
       "      <td>0.000000</td>\n",
       "      <td>3</td>\n",
       "    </tr>\n",
       "    <tr>\n",
       "      <th>1</th>\n",
       "      <td>JRCNM01000a</td>\n",
       "      <td>SOP-TOXICITY TEST WITH MICROALGAE P.SUBCAPITAT...</td>\n",
       "      <td>EC20 (72H)</td>\n",
       "      <td></td>\n",
       "      <td>mg/l</td>\n",
       "      <td>100.00</td>\n",
       "      <td>100.00</td>\n",
       "      <td>100.00</td>\n",
       "      <td>0.000000</td>\n",
       "      <td>3</td>\n",
       "    </tr>\n",
       "    <tr>\n",
       "      <th>2</th>\n",
       "      <td>JRCNM01000a</td>\n",
       "      <td>SOP-TOXICITY TEST WITH MICROALGAE P.SUBCAPITAT...</td>\n",
       "      <td>EC50 (48H)</td>\n",
       "      <td></td>\n",
       "      <td>mg/l</td>\n",
       "      <td>100.00</td>\n",
       "      <td>100.00</td>\n",
       "      <td>100.00</td>\n",
       "      <td>0.000000</td>\n",
       "      <td>3</td>\n",
       "    </tr>\n",
       "    <tr>\n",
       "      <th>3</th>\n",
       "      <td>JRCNM01000a</td>\n",
       "      <td>SOP-TOXICITY TEST WITH MICROALGAE P.SUBCAPITAT...</td>\n",
       "      <td>EC50 (72H)</td>\n",
       "      <td></td>\n",
       "      <td>mg/l</td>\n",
       "      <td>100.00</td>\n",
       "      <td>100.00</td>\n",
       "      <td>100.00</td>\n",
       "      <td>0.000000</td>\n",
       "      <td>3</td>\n",
       "    </tr>\n",
       "    <tr>\n",
       "      <th>4</th>\n",
       "      <td>JRCNM01001a</td>\n",
       "      <td>SOP-TOXICITY TEST WITH DAPHNIA MAGNA (WITHOUT ...</td>\n",
       "      <td>L.L. (LOWER LIMIT)</td>\n",
       "      <td></td>\n",
       "      <td>mg/l</td>\n",
       "      <td>32.32</td>\n",
       "      <td>89.32</td>\n",
       "      <td>60.82</td>\n",
       "      <td>40.305087</td>\n",
       "      <td>2</td>\n",
       "    </tr>\n",
       "    <tr>\n",
       "      <th>5</th>\n",
       "      <td>JRCNM01001a</td>\n",
       "      <td>SOP-TOXICITY TEST WITH DAPHNIA MAGNA (WITHOUT ...</td>\n",
       "      <td>LC20</td>\n",
       "      <td></td>\n",
       "      <td></td>\n",
       "      <td>61.20</td>\n",
       "      <td>61.20</td>\n",
       "      <td>61.20</td>\n",
       "      <td>NaN</td>\n",
       "      <td>1</td>\n",
       "    </tr>\n",
       "    <tr>\n",
       "      <th>6</th>\n",
       "      <td>JRCNM01001a</td>\n",
       "      <td>SOP-TOXICITY TEST WITH DAPHNIA MAGNA (WITHOUT ...</td>\n",
       "      <td>LC50</td>\n",
       "      <td></td>\n",
       "      <td></td>\n",
       "      <td>131.14</td>\n",
       "      <td>131.14</td>\n",
       "      <td>131.14</td>\n",
       "      <td>NaN</td>\n",
       "      <td>1</td>\n",
       "    </tr>\n",
       "    <tr>\n",
       "      <th>7</th>\n",
       "      <td>JRCNM01001a</td>\n",
       "      <td>SOP-TOXICITY TEST WITH DAPHNIA MAGNA (WITHOUT ...</td>\n",
       "      <td>U.L. (UPPER LIMIT)</td>\n",
       "      <td></td>\n",
       "      <td>mg/l</td>\n",
       "      <td>106.03</td>\n",
       "      <td>281.47</td>\n",
       "      <td>193.75</td>\n",
       "      <td>124.054814</td>\n",
       "      <td>2</td>\n",
       "    </tr>\n",
       "    <tr>\n",
       "      <th>8</th>\n",
       "      <td>JRCNM01003a</td>\n",
       "      <td>SOP-TOXICITY TEST WITH MICROALGAE P.SUBCAPITAT...</td>\n",
       "      <td>EC20 (48H)</td>\n",
       "      <td></td>\n",
       "      <td>mg/l</td>\n",
       "      <td>103.90</td>\n",
       "      <td>103.90</td>\n",
       "      <td>103.90</td>\n",
       "      <td>0.000000</td>\n",
       "      <td>3</td>\n",
       "    </tr>\n",
       "    <tr>\n",
       "      <th>9</th>\n",
       "      <td>JRCNM01003a</td>\n",
       "      <td>SOP-TOXICITY TEST WITH MICROALGAE P.SUBCAPITAT...</td>\n",
       "      <td>EC20 (72H)</td>\n",
       "      <td></td>\n",
       "      <td>mg/l</td>\n",
       "      <td>3.58</td>\n",
       "      <td>3.58</td>\n",
       "      <td>3.58</td>\n",
       "      <td>0.000000</td>\n",
       "      <td>3</td>\n",
       "    </tr>\n",
       "    <tr>\n",
       "      <th>10</th>\n",
       "      <td>JRCNM01003a</td>\n",
       "      <td>SOP-TOXICITY TEST WITH MICROALGAE P.SUBCAPITAT...</td>\n",
       "      <td>EC50 (48H)</td>\n",
       "      <td></td>\n",
       "      <td>mg/l</td>\n",
       "      <td>1399.00</td>\n",
       "      <td>1399.00</td>\n",
       "      <td>1399.00</td>\n",
       "      <td>0.000000</td>\n",
       "      <td>3</td>\n",
       "    </tr>\n",
       "    <tr>\n",
       "      <th>11</th>\n",
       "      <td>JRCNM01003a</td>\n",
       "      <td>SOP-TOXICITY TEST WITH MICROALGAE P.SUBCAPITAT...</td>\n",
       "      <td>EC50 (72H)</td>\n",
       "      <td></td>\n",
       "      <td>mg/l</td>\n",
       "      <td>22.26</td>\n",
       "      <td>22.26</td>\n",
       "      <td>22.26</td>\n",
       "      <td>0.000000</td>\n",
       "      <td>3</td>\n",
       "    </tr>\n",
       "  </tbody>\n",
       "</table>\n",
       "</div>"
      ],
      "text/plain": [
       "   public.name_                                        x.guidance_  \\\n",
       "0   JRCNM01000a  SOP-TOXICITY TEST WITH MICROALGAE P.SUBCAPITAT...   \n",
       "1   JRCNM01000a  SOP-TOXICITY TEST WITH MICROALGAE P.SUBCAPITAT...   \n",
       "2   JRCNM01000a  SOP-TOXICITY TEST WITH MICROALGAE P.SUBCAPITAT...   \n",
       "3   JRCNM01000a  SOP-TOXICITY TEST WITH MICROALGAE P.SUBCAPITAT...   \n",
       "4   JRCNM01001a  SOP-TOXICITY TEST WITH DAPHNIA MAGNA (WITHOUT ...   \n",
       "5   JRCNM01001a  SOP-TOXICITY TEST WITH DAPHNIA MAGNA (WITHOUT ...   \n",
       "6   JRCNM01001a  SOP-TOXICITY TEST WITH DAPHNIA MAGNA (WITHOUT ...   \n",
       "7   JRCNM01001a  SOP-TOXICITY TEST WITH DAPHNIA MAGNA (WITHOUT ...   \n",
       "8   JRCNM01003a  SOP-TOXICITY TEST WITH MICROALGAE P.SUBCAPITAT...   \n",
       "9   JRCNM01003a  SOP-TOXICITY TEST WITH MICROALGAE P.SUBCAPITAT...   \n",
       "10  JRCNM01003a  SOP-TOXICITY TEST WITH MICROALGAE P.SUBCAPITAT...   \n",
       "11  JRCNM01003a  SOP-TOXICITY TEST WITH MICROALGAE P.SUBCAPITAT...   \n",
       "\n",
       "       value.endpoint_ value.qualifier.lo_ value.unit_  value.lo_min  \\\n",
       "0           EC20 (48H)                            mg/l        100.00   \n",
       "1           EC20 (72H)                            mg/l        100.00   \n",
       "2           EC50 (48H)                            mg/l        100.00   \n",
       "3           EC50 (72H)                            mg/l        100.00   \n",
       "4   L.L. (LOWER LIMIT)                            mg/l         32.32   \n",
       "5                 LC20                                         61.20   \n",
       "6                 LC50                                        131.14   \n",
       "7   U.L. (UPPER LIMIT)                            mg/l        106.03   \n",
       "8           EC20 (48H)                            mg/l        103.90   \n",
       "9           EC20 (72H)                            mg/l          3.58   \n",
       "10          EC50 (48H)                            mg/l       1399.00   \n",
       "11          EC50 (72H)                            mg/l         22.26   \n",
       "\n",
       "    value.lo_max  value.lo_mean  value.lo_std  value.lo_count  \n",
       "0         100.00         100.00      0.000000               3  \n",
       "1         100.00         100.00      0.000000               3  \n",
       "2         100.00         100.00      0.000000               3  \n",
       "3         100.00         100.00      0.000000               3  \n",
       "4          89.32          60.82     40.305087               2  \n",
       "5          61.20          61.20           NaN               1  \n",
       "6         131.14         131.14           NaN               1  \n",
       "7         281.47         193.75    124.054814               2  \n",
       "8         103.90         103.90      0.000000               3  \n",
       "9           3.58           3.58      0.000000               3  \n",
       "10       1399.00        1399.00      0.000000               3  \n",
       "11         22.26          22.26      0.000000               3  "
      ]
     },
     "metadata": {},
     "output_type": "display_data"
    }
   ],
   "source": [
    "tmp=df.groupby(by=[\"public.name\",\"x.guidance\",\"value.endpoint\",\"value.qualifier.lo\",\"value.unit\"]).agg({\"value.lo\" : [\"min\",\"max\",\"mean\",\"std\",\"count\"]}).reset_index()\n",
    "tmp.columns = [\"_\".join(x) for x in tmp.columns.ravel()]\n",
    "print(\"Substances {}\".format(tmp.shape[0]))\n",
    "display(tmp)\n"
   ]
  },
  {
   "cell_type": "code",
   "execution_count": 16,
   "metadata": {},
   "outputs": [
    {
     "name": "stdout",
     "output_type": "stream",
     "text": [
      "Dataset created with id: ERR7a53bb950e3b41f7a632b5c052c18a3f\n"
     ]
    }
   ],
   "source": [
    "#Communication with Jaqpot\n",
    "#pip install git+https://github.com/KinkyDesign/jaqpotpy.git\n",
    "\n",
    "\n",
    "jaqpot = Jaqpot(\"http://api.jaqpot.org/jaqpot/services/\")\n",
    "jaqpot.request_key(\"guest\", \"guest\")\n",
    "jaqpot.upload_dataset(df=tmp, title=\"Nanoreg Substances\", description=\"Descriptors derived from Nanoreg Substances\")"
   ]
  },
  {
   "cell_type": "code",
   "execution_count": 17,
   "metadata": {},
   "outputs": [],
   "source": [
    "%load_ext rpy2.ipython"
   ]
  },
  {
   "cell_type": "code",
   "execution_count": 18,
   "metadata": {},
   "outputs": [
    {
     "name": "stderr",
     "output_type": "stream",
     "text": [
      "2020-02-12 16:45:01,299  WARNING  R[write to console]: Loading required package: ggplot2\n",
      "\n"
     ]
    },
    {
     "data": {
      "text/plain": [
       "array([1], dtype=int32)"
      ]
     },
     "execution_count": 18,
     "metadata": {},
     "output_type": "execute_result"
    }
   ],
   "source": [
    "%R require(ggplot2)"
   ]
  },
  {
   "cell_type": "code",
   "execution_count": 19,
   "metadata": {
    "scrolled": true
   },
   "outputs": [
    {
     "data": {
      "text/plain": [
       " [1] \"EC20 (48H)\"         \"EC20 (72H)\"         \"EC50 (48H)\"        \n",
       " [4] \"EC50 (72H)\"         \"L.L. (LOWER LIMIT)\" \"LC20\"              \n",
       " [7] \"LC50\"               \"U.L. (UPPER LIMIT)\" \"EC20 (48H)\"        \n",
       "[10] \"EC20 (72H)\"         \"EC50 (48H)\"         \"EC50 (72H)\"        \n",
       "   value.lo_min value.lo_max value.lo_mean value.lo_std value.lo_count\n",
       "2        100.00       100.00        100.00            0              3\n",
       "3        100.00       100.00        100.00            0              3\n",
       "10      1399.00      1399.00       1399.00            0              3\n",
       "11        22.26        22.26         22.26            0              3\n"
      ]
     },
     "metadata": {},
     "output_type": "display_data"
    },
    {
     "data": {
      "image/png": "[encoded data removed]"
     },
     "metadata": {},
     "output_type": "display_data"
    }
   ],
   "source": [
    "%%R -i tmp\n",
    "\n",
    "print(tmp[,3])\n",
    "#https://www.datacamp.com/community/blog/jupyter-notebook-r#gs.z0gxLNc\n",
    "name1 = strsplit(tmp[,3],' ')\n",
    "name2 = sapply(name1,function(x)x[[1]][1])\n",
    "\n",
    "name3 = which(name2 %in% 'EC50')\n",
    "tmp.sel <- tmp[name3,6:10]\n",
    "               \n",
    "print(tmp.sel)\n",
    "\n",
    "tmp.sel0 <- tmp.sel[,-c(4:5)]\n",
    "boxplot(tmp.sel0)"
   ]
  },
  {
   "cell_type": "code",
   "execution_count": 20,
   "metadata": {
    "scrolled": true
   },
   "outputs": [
    {
     "name": "stderr",
     "output_type": "stream",
     "text": [
      "2020-02-12 16:45:08,340  WARNING  R[write to console]: Error: With R version 3.5 or greater, install Bioconductor packages using BiocManager; see https://bioconductor.org/install\n",
      "\n"
     ]
    },
    {
     "ename": "RRuntimeError",
     "evalue": "Error: With R version 3.5 or greater, install Bioconductor packages using BiocManager; see https://bioconductor.org/install\n",
     "output_type": "error",
     "traceback": [
      "\u001b[0;31m---------------------------------------------------------------------------\u001b[0m",
      "\u001b[0;31mRRuntimeError\u001b[0m                             Traceback (most recent call last)",
      "\u001b[0;32m<ipython-input-20-0498769581f8>\u001b[0m in \u001b[0;36m<module>\u001b[0;34m\u001b[0m\n\u001b[1;32m     13\u001b[0m \u001b[0;31m# do the following _only the first time_, to install the package seqLogo\u001b[0m\u001b[0;34m\u001b[0m\u001b[0;34m\u001b[0m\u001b[0;34m\u001b[0m\u001b[0m\n\u001b[1;32m     14\u001b[0m \u001b[0mbase\u001b[0m \u001b[0;34m=\u001b[0m \u001b[0mimportr\u001b[0m\u001b[0;34m(\u001b[0m\u001b[0;34m'base'\u001b[0m\u001b[0;34m)\u001b[0m\u001b[0;34m\u001b[0m\u001b[0;34m\u001b[0m\u001b[0m\n\u001b[0;32m---> 15\u001b[0;31m \u001b[0mbase\u001b[0m\u001b[0;34m.\u001b[0m\u001b[0msource\u001b[0m\u001b[0;34m(\u001b[0m\u001b[0;34m\"http://www.bioconductor.org/biocLite.R\"\u001b[0m\u001b[0;34m)\u001b[0m\u001b[0;34m\u001b[0m\u001b[0;34m\u001b[0m\u001b[0m\n\u001b[0m\u001b[1;32m     16\u001b[0m \u001b[0mbiocinstaller\u001b[0m \u001b[0;34m=\u001b[0m \u001b[0mimportr\u001b[0m\u001b[0;34m(\u001b[0m\u001b[0;34m\"BiocInstaller\"\u001b[0m\u001b[0;34m)\u001b[0m\u001b[0;34m\u001b[0m\u001b[0;34m\u001b[0m\u001b[0m\n\u001b[1;32m     17\u001b[0m \u001b[0mbiocinstaller\u001b[0m\u001b[0;34m.\u001b[0m\u001b[0mbiocLite\u001b[0m\u001b[0;34m(\u001b[0m\u001b[0;34m\"seqLogo\"\u001b[0m\u001b[0;34m)\u001b[0m\u001b[0;34m\u001b[0m\u001b[0;34m\u001b[0m\u001b[0m\n",
      "\u001b[0;32m/Library/Frameworks/Python.framework/Versions/3.7/lib/python3.7/site-packages/rpy2/robjects/functions.py\u001b[0m in \u001b[0;36m__call__\u001b[0;34m(self, *args, **kwargs)\u001b[0m\n\u001b[1;32m    190\u001b[0m                 \u001b[0mkwargs\u001b[0m\u001b[0;34m[\u001b[0m\u001b[0mr_k\u001b[0m\u001b[0;34m]\u001b[0m \u001b[0;34m=\u001b[0m \u001b[0mv\u001b[0m\u001b[0;34m\u001b[0m\u001b[0;34m\u001b[0m\u001b[0m\n\u001b[1;32m    191\u001b[0m         return (super(SignatureTranslatedFunction, self)\n\u001b[0;32m--> 192\u001b[0;31m                 .__call__(*args, **kwargs))\n\u001b[0m\u001b[1;32m    193\u001b[0m \u001b[0;34m\u001b[0m\u001b[0m\n\u001b[1;32m    194\u001b[0m \u001b[0;34m\u001b[0m\u001b[0m\n",
      "\u001b[0;32m/Library/Frameworks/Python.framework/Versions/3.7/lib/python3.7/site-packages/rpy2/robjects/functions.py\u001b[0m in \u001b[0;36m__call__\u001b[0;34m(self, *args, **kwargs)\u001b[0m\n\u001b[1;32m    119\u001b[0m             \u001b[0;32melse\u001b[0m\u001b[0;34m:\u001b[0m\u001b[0;34m\u001b[0m\u001b[0;34m\u001b[0m\u001b[0m\n\u001b[1;32m    120\u001b[0m                 \u001b[0mnew_kwargs\u001b[0m\u001b[0;34m[\u001b[0m\u001b[0mk\u001b[0m\u001b[0;34m]\u001b[0m \u001b[0;34m=\u001b[0m \u001b[0mconversion\u001b[0m\u001b[0;34m.\u001b[0m\u001b[0mpy2rpy\u001b[0m\u001b[0;34m(\u001b[0m\u001b[0mv\u001b[0m\u001b[0;34m)\u001b[0m\u001b[0;34m\u001b[0m\u001b[0;34m\u001b[0m\u001b[0m\n\u001b[0;32m--> 121\u001b[0;31m         \u001b[0mres\u001b[0m \u001b[0;34m=\u001b[0m \u001b[0msuper\u001b[0m\u001b[0;34m(\u001b[0m\u001b[0mFunction\u001b[0m\u001b[0;34m,\u001b[0m \u001b[0mself\u001b[0m\u001b[0;34m)\u001b[0m\u001b[0;34m.\u001b[0m\u001b[0m__call__\u001b[0m\u001b[0;34m(\u001b[0m\u001b[0;34m*\u001b[0m\u001b[0mnew_args\u001b[0m\u001b[0;34m,\u001b[0m \u001b[0;34m**\u001b[0m\u001b[0mnew_kwargs\u001b[0m\u001b[0;34m)\u001b[0m\u001b[0;34m\u001b[0m\u001b[0;34m\u001b[0m\u001b[0m\n\u001b[0m\u001b[1;32m    122\u001b[0m         \u001b[0mres\u001b[0m \u001b[0;34m=\u001b[0m \u001b[0mconversion\u001b[0m\u001b[0;34m.\u001b[0m\u001b[0mrpy2py\u001b[0m\u001b[0;34m(\u001b[0m\u001b[0mres\u001b[0m\u001b[0;34m)\u001b[0m\u001b[0;34m\u001b[0m\u001b[0;34m\u001b[0m\u001b[0m\n\u001b[1;32m    123\u001b[0m         \u001b[0;32mreturn\u001b[0m \u001b[0mres\u001b[0m\u001b[0;34m\u001b[0m\u001b[0;34m\u001b[0m\u001b[0m\n",
      "\u001b[0;32m/Library/Frameworks/Python.framework/Versions/3.7/lib/python3.7/site-packages/rpy2/rinterface_lib/conversion.py\u001b[0m in \u001b[0;36m_\u001b[0;34m(*args, **kwargs)\u001b[0m\n\u001b[1;32m     26\u001b[0m \u001b[0;32mdef\u001b[0m \u001b[0m_cdata_res_to_rinterface\u001b[0m\u001b[0;34m(\u001b[0m\u001b[0mfunction\u001b[0m\u001b[0;34m)\u001b[0m\u001b[0;34m:\u001b[0m\u001b[0;34m\u001b[0m\u001b[0;34m\u001b[0m\u001b[0m\n\u001b[1;32m     27\u001b[0m     \u001b[0;32mdef\u001b[0m \u001b[0m_\u001b[0m\u001b[0;34m(\u001b[0m\u001b[0;34m*\u001b[0m\u001b[0margs\u001b[0m\u001b[0;34m,\u001b[0m \u001b[0;34m**\u001b[0m\u001b[0mkwargs\u001b[0m\u001b[0;34m)\u001b[0m\u001b[0;34m:\u001b[0m\u001b[0;34m\u001b[0m\u001b[0;34m\u001b[0m\u001b[0m\n\u001b[0;32m---> 28\u001b[0;31m         \u001b[0mcdata\u001b[0m \u001b[0;34m=\u001b[0m \u001b[0mfunction\u001b[0m\u001b[0;34m(\u001b[0m\u001b[0;34m*\u001b[0m\u001b[0margs\u001b[0m\u001b[0;34m,\u001b[0m \u001b[0;34m**\u001b[0m\u001b[0mkwargs\u001b[0m\u001b[0;34m)\u001b[0m\u001b[0;34m\u001b[0m\u001b[0;34m\u001b[0m\u001b[0m\n\u001b[0m\u001b[1;32m     29\u001b[0m         \u001b[0;31m# TODO: test cdata is of the expected CType\u001b[0m\u001b[0;34m\u001b[0m\u001b[0;34m\u001b[0m\u001b[0;34m\u001b[0m\u001b[0m\n\u001b[1;32m     30\u001b[0m         \u001b[0;32mreturn\u001b[0m \u001b[0m_cdata_to_rinterface\u001b[0m\u001b[0;34m(\u001b[0m\u001b[0mcdata\u001b[0m\u001b[0;34m)\u001b[0m\u001b[0;34m\u001b[0m\u001b[0;34m\u001b[0m\u001b[0m\n",
      "\u001b[0;32m/Library/Frameworks/Python.framework/Versions/3.7/lib/python3.7/site-packages/rpy2/rinterface.py\u001b[0m in \u001b[0;36m__call__\u001b[0;34m(self, *args, **kwargs)\u001b[0m\n\u001b[1;32m    771\u001b[0m                     error_occured))\n\u001b[1;32m    772\u001b[0m             \u001b[0;32mif\u001b[0m \u001b[0merror_occured\u001b[0m\u001b[0;34m[\u001b[0m\u001b[0;36m0\u001b[0m\u001b[0;34m]\u001b[0m\u001b[0;34m:\u001b[0m\u001b[0;34m\u001b[0m\u001b[0;34m\u001b[0m\u001b[0m\n\u001b[0;32m--> 773\u001b[0;31m                 \u001b[0;32mraise\u001b[0m \u001b[0membedded\u001b[0m\u001b[0;34m.\u001b[0m\u001b[0mRRuntimeError\u001b[0m\u001b[0;34m(\u001b[0m\u001b[0m_rinterface\u001b[0m\u001b[0;34m.\u001b[0m\u001b[0m_geterrmessage\u001b[0m\u001b[0;34m(\u001b[0m\u001b[0;34m)\u001b[0m\u001b[0;34m)\u001b[0m\u001b[0;34m\u001b[0m\u001b[0;34m\u001b[0m\u001b[0m\n\u001b[0m\u001b[1;32m    774\u001b[0m         \u001b[0;32mreturn\u001b[0m \u001b[0mres\u001b[0m\u001b[0;34m\u001b[0m\u001b[0;34m\u001b[0m\u001b[0m\n\u001b[1;32m    775\u001b[0m \u001b[0;34m\u001b[0m\u001b[0m\n",
      "\u001b[0;31mRRuntimeError\u001b[0m: Error: With R version 3.5 or greater, install Bioconductor packages using BiocManager; see https://bioconductor.org/install\n"
     ]
    }
   ],
   "source": [
    "#import rpy2.robjects as robjects\n",
    "#from rpy2.robjects.packages import importr\n",
    "#base = importr('base')\n",
    "## evaluate locally a remote R script\n",
    "#base.source(\"http://www.bioconductor.org/biocLite.R\")\n",
    "#bioclite = robjects.globalenv['biocLite']\n",
    "\n",
    "## download and install a bioconductor package\n",
    "#bioclite(\"org.Hs.eg.db\")\n",
    "\n",
    "from rpy2.robjects.packages import importr\n",
    "\n",
    "# do the following _only the first time_, to install the package seqLogo\n",
    "base = importr('base')\n",
    "base.source(\"http://www.bioconductor.org/biocLite.R\")\n",
    "biocinstaller = importr(\"BiocInstaller\")\n",
    "biocinstaller.biocLite(\"seqLogo\")\n",
    "\n",
    "# load the installed package \"seqLogo\"\n",
    "seqlogo = importr(\"seqLogo\")\n",
    "biocinstaller.bioclite(\"org.Hs.eg.db\")"
   ]
  },
  {
   "cell_type": "code",
   "execution_count": null,
   "metadata": {},
   "outputs": [],
   "source": []
  }
 ],
 "metadata": {
  "kernelspec": {
   "display_name": "Python 3",
   "language": "python",
   "name": "python3"
  },
  "language_info": {
   "codemirror_mode": {
    "name": "ipython",
    "version": 3
   },
   "file_extension": ".py",
   "mimetype": "text/x-python",
   "name": "python",
   "nbconvert_exporter": "python",
   "pygments_lexer": "ipython3",
   "version": "3.7.2"
  },
  "toc": {
   "base_numbering": 1,
   "nav_menu": {},
   "number_sections": false,
   "sideBar": false,
   "skip_h1_title": false,
   "title_cell": "Table of Contents",
   "title_sidebar": "Contents",
   "toc_cell": false,
   "toc_position": {},
   "toc_section_display": false,
   "toc_window_display": false
  }
 },
 "nbformat": 4,
 "nbformat_minor": 2
}
