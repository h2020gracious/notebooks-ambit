{
 "cells": [
  {
   "cell_type": "markdown",
   "metadata": {},
   "source": [
    "# Nanosafety Data Interface Survey\n",
    "\n",
    "Nanosafety data interface – online user interface enabling user friendly access to the aggregated search index of (sub)set of eNanoMapper database instances. Usually the user interface is project specific and protected but can be also publicly available. Multiple project specific interfaces at https://search.data.enanomapper.net/.\n"
   ]
  },
  {
   "cell_type": "code",
   "execution_count": 31,
   "metadata": {},
   "outputs": [
    {
     "name": "stderr",
     "output_type": "stream",
     "text": [
      "2020-06-27 13:39:10,643  INFO     Started at nt \t1593254350.6420085\n"
     ]
    }
   ],
   "source": [
    "import yaml\n",
    "from pynanomapper import aa\n",
    "from pynanomapper import units\n",
    "import ipywidgets as widgets\n",
    "from ipywidgets import interact, interactive, fixed, interact_manual\n",
    "import requests\n",
    "from importlib import reload \n",
    "from pynanomapper import client_solr\n",
    "from pynanomapper import client_ambit\n",
    "from pynanomapper import annotation\n",
    "import pandas as pd\n",
    "import numpy as np\n",
    "import json\n",
    "import pandas as pd\n",
    "import importlib\n",
    "import warnings\n",
    "import qgrid \n",
    "\n",
    "import matplotlib.pyplot as plt\n",
    "import io\n",
    "from measurement.utils import guess\n",
    "from measurement.measures import Distance, Temperature, Volume, Area, Frequency, Mass, Time\n",
    "#init_notebook_mode(connected=True)\n",
    "warnings.simplefilter(\"ignore\")\n",
    "\n",
    "import logging,os,time\n",
    "from logging.config import fileConfig\n",
    "fileConfig('logging_endpoints_config.ini')\n",
    "logger = logging.getLogger()\n",
    "logger.info('Started at %s \\t%s',os.name, time.time())"
   ]
  },
  {
   "cell_type": "code",
   "execution_count": 32,
   "metadata": {},
   "outputs": [
    {
     "name": "stdout",
     "output_type": "stream",
     "text": [
      "Select enanoMapper aggregated search service:\n",
      "Enter `X-Gravitee-Api-Key` you have received upon subscription to http://api.ideaconsult.net\n"
     ]
    },
    {
     "data": {
      "application/vnd.jupyter.widget-view+json": {
       "model_id": "0e45e3c25732410ba898cd247f4a1af8",
       "version_major": 2,
       "version_minor": 0
      },
      "text/plain": [
       "interactive(children=(Dropdown(description='Service:', options=('https://api.ideaconsult.net/enanomapper', 'ht…"
      ]
     },
     "metadata": {},
     "output_type": "display_data"
    }
   ],
   "source": [
    "print('Select enanoMapper aggregated search service:')\n",
    "style = {'description_width': 'initial'}\n",
    "config,config_servers, config_security, auth_object, msg = aa.parseOpenAPI3()    \n",
    "service_widget = widgets.Dropdown(\n",
    "    options=config_servers['url'],\n",
    "    description='Service:',\n",
    "    disabled=False,\n",
    "    style=style\n",
    ")\n",
    "if config_security is None:\n",
    "    service = interactive(aa.search_service_open,url=service_widget)\n",
    "else:\n",
    "    print(msg)\n",
    "    apikey_widget=widgets.Text(\n",
    "            placeholder='',\n",
    "            description=config_security,\n",
    "            disabled=False,\n",
    "            style=style\n",
    "    )    \n",
    "    service = interactive(aa.search_service_protected,url=service_widget,apikey=apikey_widget)    \n",
    "\n",
    "display(service)"
   ]
  },
  {
   "cell_type": "code",
   "execution_count": 37,
   "metadata": {},
   "outputs": [
    {
     "name": "stdout",
     "output_type": "stream",
     "text": [
      "Sending queries to https://api.ideaconsult.net/nanoreg1\n"
     ]
    }
   ],
   "source": [
    "service_uri=service_widget.value\n",
    "if auth_object!=None:\n",
    "    auth_object.setKey(apikey_widget.value)\n",
    "print(\"Sending queries to {}\".format(service_uri))"
   ]
  },
  {
   "cell_type": "code",
   "execution_count": 40,
   "metadata": {},
   "outputs": [],
   "source": [
    "def log_query(q):\n",
    "    #logger.debug(q)\n",
    "    pass\n",
    "    \n",
    "def beautify(r):\n",
    "    pass\n",
    "facets = client_solr.Facets()    "
   ]
  },
  {
   "cell_type": "markdown",
   "metadata": {},
   "source": [
    "# Database records"
   ]
  },
  {
   "cell_type": "code",
   "execution_count": 41,
   "metadata": {},
   "outputs": [
    {
     "name": "stdout",
     "output_type": "stream",
     "text": [
      "Project `NANoREG` Materials 147 Studies 5144 Data 39196\n"
     ]
    }
   ],
   "source": [
    "projects = [\"NanoReg2\",\"OMICS_DATA\",\"NANoREG\",\"NanoTest\",\"ENPRA\",\"MARINA\",\"NanoGenotox\",\"SANOWORK\",\"caNanoLab\",\"eNanoMapper\"]\n",
    "for project in projects:\n",
    "    dfm = facets.summary(service_uri,auth_object, query=\"owner_name_hs:{}\".format(project),fields=[\"owner_name_hs\",\"substanceType_hs\",\"s_uuid_hs\",\"publicname_hs\",\"name_hs\"],fq='type_s:substance',log_query=log_query,log_result=beautify)    \n",
    "\n",
    "    if dfm.shape[0]>0:\n",
    "        dfm.to_csv(\"materials_{}.csv\".format(project))  \n",
    "        dfs = facets.summary(service_uri,auth_object, query=\"owner_name_s:{}\".format(project),fields=[\"owner_name_s\",\"document_uuid_s\"],fq='type_s:study',log_query=log_query,log_result=beautify)    \n",
    "\n",
    "        dfs.to_csv(\"study_{}.csv\".format(project))\n",
    "        print(\"Project `{}` Materials {} Studies {} Data {}\".format(project,dfm.shape[0],dfs.shape[0],dfs[\"Number of data points\"].sum()))\n"
   ]
  },
  {
   "cell_type": "markdown",
   "metadata": {},
   "source": [
    "# Endpoints"
   ]
  },
  {
   "cell_type": "code",
   "execution_count": 42,
   "metadata": {},
   "outputs": [
    {
     "data": {
      "application/vnd.jupyter.widget-view+json": {
       "model_id": "61bdfff7dfb54ac099f8f2261e262273",
       "version_major": 2,
       "version_minor": 0
      },
      "text/plain": [
       "QgridWidget(grid_options={'fullWidthRows': True, 'syncColumnCellResize': True, 'forceFitColumns': True, 'defau…"
      ]
     },
     "metadata": {},
     "output_type": "display_data"
    }
   ],
   "source": [
    "\n",
    "facets = client_solr.Facets()\n",
    "df = facets.summary(service_uri,auth_object, query=\"*:*\",fields=[\"topcategory_s\",\"endpointcategory_s\"],log_query=log_query,log_result=beautify)    \n",
    "\n",
    "df.rename(columns={'owner_name_s':'project','endpointcategory_name' : 'endpoint', 'topcategory_s' : 'category'},inplace=True)\n",
    "df.to_csv(\"endpoints_all.csv\")  \n",
    "qgrid.show_grid(df[[\"category\",\"endpoint\",\"Number of data points\"]])\n"
   ]
  },
  {
   "cell_type": "code",
   "execution_count": 43,
   "metadata": {},
   "outputs": [],
   "source": [
    "facets = client_solr.Facets()\n",
    "df = facets.summary(service_uri,auth_object, query=\"*:*\",fields=[\"topcategory_s\",\"endpointcategory_s\",\"owner_name_s\"],log_query=log_query,log_result=beautify)    \n",
    "\n",
    "df.rename(columns={'owner_name_s':'project','endpointcategory_name' : 'endpoint', 'topcategory_s' : 'category'},inplace=True)"
   ]
  },
  {
   "cell_type": "code",
   "execution_count": 44,
   "metadata": {},
   "outputs": [
    {
     "data": {
      "application/vnd.jupyter.widget-view+json": {
       "model_id": "5fc6f9358c9944429ad9baa0eac0810a",
       "version_major": 2,
       "version_minor": 0
      },
      "text/plain": [
       "QgridWidget(grid_options={'fullWidthRows': True, 'syncColumnCellResize': True, 'forceFitColumns': True, 'defau…"
      ]
     },
     "metadata": {},
     "output_type": "display_data"
    }
   ],
   "source": [
    "qgrid.show_grid(df[[\"project\",\"category\",\"endpoint\",\"Number of data points\"]])"
   ]
  },
  {
   "cell_type": "markdown",
   "metadata": {},
   "source": [
    "# Material types"
   ]
  },
  {
   "cell_type": "code",
   "execution_count": 45,
   "metadata": {},
   "outputs": [
    {
     "name": "stdout",
     "output_type": "stream",
     "text": [
      "Project `NANoREG` Material types 25\n"
     ]
    }
   ],
   "source": [
    "\n",
    "for project in projects:\n",
    "    dfm = facets.summary(service_uri,auth_object, query=\"owner_name_hs:{}\".format(project),fields=[\"owner_name_hs\",\"substanceType_hs\"],fq='type_s:substance',log_query=log_query,log_result=beautify)    \n",
    "    if dfm.shape[0]>0:\n",
    "        dfm.to_csv(\"materialtypes_{}.csv\".format(project))  \n",
    "        print(\"Project `{}` Material types {}\".format(project,dfm.shape[0]))\n",
    "        #display(dfm)"
   ]
  },
  {
   "cell_type": "code",
   "execution_count": 48,
   "metadata": {},
   "outputs": [
    {
     "data": {
      "text/html": [
       "<div>\n",
       "<style scoped>\n",
       "    .dataframe tbody tr th:only-of-type {\n",
       "        vertical-align: middle;\n",
       "    }\n",
       "\n",
       "    .dataframe tbody tr th {\n",
       "        vertical-align: top;\n",
       "    }\n",
       "\n",
       "    .dataframe thead th {\n",
       "        text-align: right;\n",
       "    }\n",
       "</style>\n",
       "<table border=\"1\" class=\"dataframe\">\n",
       "  <thead>\n",
       "    <tr style=\"text-align: right;\">\n",
       "      <th></th>\n",
       "      <th>substanceType_hs</th>\n",
       "      <th>Number of data points</th>\n",
       "      <th>substanceType_name</th>\n",
       "    </tr>\n",
       "  </thead>\n",
       "  <tbody>\n",
       "    <tr>\n",
       "      <th>0</th>\n",
       "      <td>NPO_1373</td>\n",
       "      <td>38</td>\n",
       "      <td>SiO2 nanoparticle</td>\n",
       "    </tr>\n",
       "    <tr>\n",
       "      <th>1</th>\n",
       "      <td>NPO_354</td>\n",
       "      <td>30</td>\n",
       "      <td>MWCNT</td>\n",
       "    </tr>\n",
       "    <tr>\n",
       "      <th>2</th>\n",
       "      <td>CHEBI_133349</td>\n",
       "      <td>12</td>\n",
       "      <td>nanofibrillar cellulose</td>\n",
       "    </tr>\n",
       "    <tr>\n",
       "      <th>3</th>\n",
       "      <td>NPO_1486</td>\n",
       "      <td>11</td>\n",
       "      <td>TiO2 nanoparticle</td>\n",
       "    </tr>\n",
       "    <tr>\n",
       "      <th>4</th>\n",
       "      <td>NPO_1892</td>\n",
       "      <td>8</td>\n",
       "      <td>Ag nanoparticle</td>\n",
       "    </tr>\n",
       "    <tr>\n",
       "      <th>5</th>\n",
       "      <td>CHEBI_3311</td>\n",
       "      <td>7</td>\n",
       "      <td>CaCO3</td>\n",
       "    </tr>\n",
       "    <tr>\n",
       "      <th>6</th>\n",
       "      <td>CHEBI_51050</td>\n",
       "      <td>7</td>\n",
       "      <td>TiO2 nanoparticle</td>\n",
       "    </tr>\n",
       "    <tr>\n",
       "      <th>7</th>\n",
       "      <td>NPO_1542</td>\n",
       "      <td>7</td>\n",
       "      <td>ZnO nanoparticle</td>\n",
       "    </tr>\n",
       "    <tr>\n",
       "      <th>8</th>\n",
       "      <td>ENM_9000006</td>\n",
       "      <td>5</td>\n",
       "      <td>CeO nanoparticle</td>\n",
       "    </tr>\n",
       "    <tr>\n",
       "      <th>9</th>\n",
       "      <td>CHEBI_59999</td>\n",
       "      <td>3</td>\n",
       "      <td>chemical substance</td>\n",
       "    </tr>\n",
       "    <tr>\n",
       "      <th>10</th>\n",
       "      <td>CHEBI_133326</td>\n",
       "      <td>2</td>\n",
       "      <td>barium sulfate</td>\n",
       "    </tr>\n",
       "    <tr>\n",
       "      <th>11</th>\n",
       "      <td>CHEBI_18246</td>\n",
       "      <td>2</td>\n",
       "      <td>(14)-beta-D-glucan</td>\n",
       "    </tr>\n",
       "    <tr>\n",
       "      <th>12</th>\n",
       "      <td>CHEBI_51135</td>\n",
       "      <td>2</td>\n",
       "      <td>poly(acrylamide) macromolecule</td>\n",
       "    </tr>\n",
       "    <tr>\n",
       "      <th>13</th>\n",
       "      <td>NPO_1550</td>\n",
       "      <td>2</td>\n",
       "      <td>Fe (III) oxide nanoparticle</td>\n",
       "    </tr>\n",
       "    <tr>\n",
       "      <th>14</th>\n",
       "      <td>CHEBI:18246</td>\n",
       "      <td>1</td>\n",
       "      <td>(14)-beta-D-glucan</td>\n",
       "    </tr>\n",
       "    <tr>\n",
       "      <th>15</th>\n",
       "      <td>CHEBI_133333</td>\n",
       "      <td>1</td>\n",
       "      <td>Ni ferrite</td>\n",
       "    </tr>\n",
       "    <tr>\n",
       "      <th>16</th>\n",
       "      <td>CHEBI_133337</td>\n",
       "      <td>1</td>\n",
       "      <td>Zn ferrite</td>\n",
       "    </tr>\n",
       "    <tr>\n",
       "      <th>17</th>\n",
       "      <td>CHEBI_133340</td>\n",
       "      <td>1</td>\n",
       "      <td>Ni-Zn ferrite</td>\n",
       "    </tr>\n",
       "    <tr>\n",
       "      <th>18</th>\n",
       "      <td>CHEBI_33418</td>\n",
       "      <td>1</td>\n",
       "      <td>graphite</td>\n",
       "    </tr>\n",
       "    <tr>\n",
       "      <th>19</th>\n",
       "      <td>CHEBI_36973</td>\n",
       "      <td>1</td>\n",
       "      <td>graphene</td>\n",
       "    </tr>\n",
       "    <tr>\n",
       "      <th>20</th>\n",
       "      <td>ENM_9000007</td>\n",
       "      <td>1</td>\n",
       "      <td>nanoclay</td>\n",
       "    </tr>\n",
       "    <tr>\n",
       "      <th>21</th>\n",
       "      <td>NPO_157</td>\n",
       "      <td>1</td>\n",
       "      <td>SWNT</td>\n",
       "    </tr>\n",
       "    <tr>\n",
       "      <th>22</th>\n",
       "      <td>NPO_401</td>\n",
       "      <td>1</td>\n",
       "      <td>Au nanoparticle</td>\n",
       "    </tr>\n",
       "    <tr>\n",
       "      <th>23</th>\n",
       "      <td>NPO_606</td>\n",
       "      <td>1</td>\n",
       "      <td>CNT</td>\n",
       "    </tr>\n",
       "    <tr>\n",
       "      <th>24</th>\n",
       "      <td>NPO_943</td>\n",
       "      <td>1</td>\n",
       "      <td>SWCNT</td>\n",
       "    </tr>\n",
       "  </tbody>\n",
       "</table>\n",
       "</div>"
      ],
      "text/plain": [
       "   substanceType_hs  Number of data points              substanceType_name\n",
       "0          NPO_1373                     38               SiO2 nanoparticle\n",
       "1           NPO_354                     30                           MWCNT\n",
       "2      CHEBI_133349                     12         nanofibrillar cellulose\n",
       "3          NPO_1486                     11               TiO2 nanoparticle\n",
       "4          NPO_1892                      8                 Ag nanoparticle\n",
       "5        CHEBI_3311                      7                           CaCO3\n",
       "6       CHEBI_51050                      7               TiO2 nanoparticle\n",
       "7          NPO_1542                      7                ZnO nanoparticle\n",
       "8       ENM_9000006                      5                CeO nanoparticle\n",
       "9       CHEBI_59999                      3              chemical substance\n",
       "10     CHEBI_133326                      2                  barium sulfate\n",
       "11      CHEBI_18246                      2              (14)-beta-D-glucan\n",
       "12      CHEBI_51135                      2  poly(acrylamide) macromolecule\n",
       "13         NPO_1550                      2     Fe (III) oxide nanoparticle\n",
       "14      CHEBI:18246                      1              (14)-beta-D-glucan\n",
       "15     CHEBI_133333                      1                      Ni ferrite\n",
       "16     CHEBI_133337                      1                      Zn ferrite\n",
       "17     CHEBI_133340                      1                   Ni-Zn ferrite\n",
       "18      CHEBI_33418                      1                        graphite\n",
       "19      CHEBI_36973                      1                        graphene\n",
       "20      ENM_9000007                      1                        nanoclay\n",
       "21          NPO_157                      1                            SWNT\n",
       "22          NPO_401                      1                 Au nanoparticle\n",
       "23          NPO_606                      1                             CNT\n",
       "24          NPO_943                      1                           SWCNT"
      ]
     },
     "execution_count": 48,
     "metadata": {},
     "output_type": "execute_result"
    }
   ],
   "source": [
    "# All material types\n",
    "dfm = facets.summary(service_uri,auth_object, query=\"*:*\".format(project),fields=[\"substanceType_hs\"],fq='type_s:substance',log_query=log_query,log_result=beautify)    \n",
    "dfm.to_csv(\"materialtypes_all.csv\".format(project))  \n",
    "dfm    "
   ]
  },
  {
   "cell_type": "code",
   "execution_count": null,
   "metadata": {},
   "outputs": [],
   "source": []
  }
 ],
 "metadata": {
  "kernelspec": {
   "display_name": "Python 3",
   "language": "python",
   "name": "python3"
  },
  "language_info": {
   "codemirror_mode": {
    "name": "ipython",
    "version": 3
   },
   "file_extension": ".py",
   "mimetype": "text/x-python",
   "name": "python",
   "nbconvert_exporter": "python",
   "pygments_lexer": "ipython3",
   "version": "3.7.6"
  }
 },
 "nbformat": 4,
 "nbformat_minor": 4
}
