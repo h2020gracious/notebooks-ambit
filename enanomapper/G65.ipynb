{
 "cells": [
  {
   "cell_type": "code",
   "execution_count": null,
   "metadata": {},
   "outputs": [],
   "source": [
    "import yaml\n",
    "from pynanomapper import aa\n",
    "from pynanomapper import units\n",
    "import ipywidgets as widgets\n",
    "from ipywidgets import interact, interactive, fixed, interact_manual\n",
    "import requests\n",
    "from importlib import reload \n",
    "from pynanomapper import client_solr\n",
    "\n",
    "import io\n",
    "import numpy as np\n",
    "import pandas as pd\n",
    "import qgrid\n",
    "\n",
    "%matplotlib inline\n",
    "import matplotlib.pyplot as plt\n",
    "import seaborn as sns\n",
    "\n",
    "from tdigest import TDigest\n",
    "\n",
    "import warnings\n",
    "warnings.simplefilter(\"ignore\")"
   ]
  },
  {
   "cell_type": "code",
   "execution_count": null,
   "metadata": {},
   "outputs": [],
   "source": [
    "print('Select enanoMapper aggregated search service:')\n",
    "style = {'description_width': 'initial'}\n",
    "config,config_servers, config_security, auth_object, msg = aa.parseOpenAPI3()    \n",
    "service_widget = widgets.Dropdown(\n",
    "    options=config_servers['url'],\n",
    "    description='Service:',\n",
    "    disabled=False,\n",
    "    style=style\n",
    ")\n",
    "if config_security is None:\n",
    "    service = interactive(aa.search_service_open,url=service_widget)\n",
    "else:\n",
    "    print(msg)\n",
    "    apikey_widget=widgets.Text(\n",
    "            placeholder='',\n",
    "            description=config_security,\n",
    "            disabled=False,\n",
    "            style=style\n",
    "    )    \n",
    "    service = interactive(aa.search_service_protected,url=service_widget,apikey=apikey_widget)    \n",
    "\n",
    "display(service)"
   ]
  },
  {
   "cell_type": "code",
   "execution_count": null,
   "metadata": {},
   "outputs": [],
   "source": [
    "service_uri=service_widget.value\n",
    "if auth_object!=None:\n",
    "    auth_object.setKey(apikey_widget.value)\n",
    "print(\"Sending queries to {}\".format(service_uri))"
   ]
  },
  {
   "cell_type": "markdown",
   "metadata": {},
   "source": [
    "# Endpoints"
   ]
  },
  {
   "cell_type": "code",
   "execution_count": null,
   "metadata": {},
   "outputs": [],
   "source": [
    "query_widget=widgets.Text(\n",
    "        placeholder='',\n",
    "        value=\"owner_name_s:GRACIOUS\",\n",
    "        description=\"Query\",\n",
    "        disabled=False,\n",
    "        style=style\n",
    ")\n",
    "display(query_widget)"
   ]
  },
  {
   "cell_type": "code",
   "execution_count": null,
   "metadata": {
    "scrolled": true
   },
   "outputs": [],
   "source": [
    "reload(client_solr)\n",
    "\n",
    "facets = client_solr.Facets()\n",
    "\n",
    "q=query_widget.value\n",
    "df = facets.summary(service_uri,auth_object, query=q,fields=[\"topcategory_s\",\"endpointcategory_s\",\"effectendpoint_s\",\"unit_s\"])    \n",
    "qgrid_widget = qgrid.show_grid(df)\n",
    "qgrid_widget"
   ]
  },
  {
   "cell_type": "code",
   "execution_count": null,
   "metadata": {},
   "outputs": [],
   "source": [
    "df_filtered = qgrid_widget.get_changed_df()\n",
    "df_filtered[\"effectendpoint_s\"].values\n"
   ]
  },
  {
   "cell_type": "code",
   "execution_count": null,
   "metadata": {},
   "outputs": [],
   "source": [
    "import math\n",
    "\n",
    "def endpoint2digest(endpoint,maxrows=10000,q=query_widget.value, debug=False):\n",
    "        \n",
    "    _fl = \"s_uuid_s,effectendpoint_s,loValue_d,unit_s\"\n",
    "    _query = {\"fl\":_fl,\"fq\":\"type_s:study\",\"wt\":\"csv\", \"rows\":maxrows, \"q\":'effectendpoint_s:\"{}\" AND {}'.format(endpoint,q) }\n",
    "    r = client_solr.get(service_uri,query=_query,auth=auth_object)\n",
    "    df=pd.read_csv(io.StringIO(r.content.decode('utf-8')))\n",
    "    df = df[df[\"loValue_d\"].notna()]\n",
    "    if df.shape[0]<=1:\n",
    "        return ({ \"endpoint\" : endpoint, \"digest\" : None})\n",
    "    try:\n",
    "        digest = TDigest()\n",
    "        digest.batch_update(df[\"loValue_d\"])\n",
    "        df[\"CDF\"] = df[\"loValue_d\"].apply(lambda x: digest.cdf(x))\n",
    "        df[\"PQ\"] = df[\"loValue_d\"].apply(lambda x: math.ceil(20*digest.cdf(x)))\n",
    "        if debug:\n",
    "            display(df.head())    \n",
    "        return ({ \"endpoint\" : endpoint, \"digest\" : digest})\n",
    "    except Exception as err:\n",
    "        return ({ \"endpoint\" : endpoint, \"digest\" : None})\n",
    "\n",
    "map_iterator = map(endpoint2digest,df_filtered[\"effectendpoint_s\"].values)\n",
    "for m in map_iterator:\n",
    "    if m[\"digest\"] is None:\n",
    "        continue\n",
    "    else:        \n",
    "        print(\"{} {}\".format(m[\"endpoint\"],m[\"digest\"]))\n",
    "    "
   ]
  },
  {
   "cell_type": "code",
   "execution_count": null,
   "metadata": {},
   "outputs": [],
   "source": [
    "def plot_cdf(m):\n",
    "    _x_label=\"m\"\n",
    "    tmp = pd.DataFrame(digest.centroids_to_list())   \n",
    "    tmp['CDF'] = tmp[_x_label].apply(lambda x: digest.cdf(x))\n",
    "    #tmp['PQ'] = tmp[_x_label].apply(lambda x: 'C ' * math.ceil(20*digest.cdf(x)))\n",
    "    tmp['PQ'] = tmp[_x_label].apply(lambda x:  math.ceil(20*digest.cdf(x)))\n",
    "    #display(tmp)\n",
    "    ax = sns.relplot(x=_x_label, y=\"CDF\", data=tmp,kind=\"line\")\n",
    "    plt.title(\"Cumulative distribution function {}\".format(m[\"endpoint\"]))\n",
    "    display(ax)    \n",
    "\n",
    "map_iterator = map(endpoint2digest,df_filtered[\"effectendpoint_s\"].values)\n",
    "for m in map_iterator:\n",
    "    digest = m[\"digest\"]\n",
    "    if digest is None:\n",
    "        continue\n",
    "    plot_cdf(m)   \n",
    "    #print(digest.to_dict())\n",
    "\n",
    "    #digest.to_dict()"
   ]
  }
 ],
 "metadata": {
  "kernelspec": {
   "display_name": "Python 3",
   "language": "python",
   "name": "python3"
  },
  "language_info": {
   "codemirror_mode": {
    "name": "ipython",
    "version": 3
   },
   "file_extension": ".py",
   "mimetype": "text/x-python",
   "name": "python",
   "nbconvert_exporter": "python",
   "pygments_lexer": "ipython3",
   "version": "3.7.3"
  },
  "toc": {
   "base_numbering": 1,
   "nav_menu": {},
   "number_sections": false,
   "sideBar": false,
   "skip_h1_title": false,
   "title_cell": "Table of Contents",
   "title_sidebar": "Contents",
   "toc_cell": false,
   "toc_position": {},
   "toc_section_display": false,
   "toc_window_display": false
  }
 },
 "nbformat": 4,
 "nbformat_minor": 2
}
