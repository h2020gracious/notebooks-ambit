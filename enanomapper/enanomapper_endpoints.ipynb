{
 "cells": [
  {
   "cell_type": "markdown",
   "metadata": {},
   "source": [
    "# Endpoints"
   ]
  },
  {
   "cell_type": "code",
   "execution_count": null,
   "metadata": {},
   "outputs": [],
   "source": [
    "import yaml\n",
    "from pynanomapper import aa\n",
    "import ipywidgets as widgets\n",
    "from ipywidgets import interact, interactive, fixed, interact_manual\n",
    "import requests\n",
    "from importlib import reload \n",
    "from pynanomapper import client_solr\n",
    "from pynanomapper import client_ambit\n",
    "from pynanomapper import annotation\n",
    "import pandas as pd\n",
    "import numpy as np\n",
    "import json\n",
    "import pandas as pd\n",
    "import qgrid\n",
    "import warnings\n",
    "warnings.simplefilter(\"ignore\")"
   ]
  },
  {
   "cell_type": "code",
   "execution_count": null,
   "metadata": {},
   "outputs": [],
   "source": [
    "print('Select enanoMapper aggregated search service:')\n",
    "style = {'description_width': 'initial'}\n",
    "config,config_servers, config_security, auth_object, msg = aa.parseOpenAPI3()    \n",
    "service_widget = widgets.Dropdown(\n",
    "    options=config_servers['url'],\n",
    "    description='Service:',\n",
    "    disabled=False,\n",
    "    style=style\n",
    ")\n",
    "if config_security is None:\n",
    "    service = interactive(aa.search_service_open,url=service_widget)\n",
    "else:\n",
    "    print(msg)\n",
    "    apikey_widget=widgets.Text(\n",
    "            placeholder='',\n",
    "            description=config_security,\n",
    "            disabled=False,\n",
    "            style=style\n",
    "    )    \n",
    "    service = interactive(aa.search_service_protected,url=service_widget,apikey=apikey_widget)    \n",
    "\n",
    "display(service)"
   ]
  },
  {
   "cell_type": "code",
   "execution_count": null,
   "metadata": {},
   "outputs": [],
   "source": [
    "service_uri=service_widget.value\n",
    "if auth_object!=None:\n",
    "    auth_object.setKey(apikey_widget.value)\n",
    "print(\"Sending queries to {}\".format(service_uri))\n",
    "\n"
   ]
  },
  {
   "cell_type": "code",
   "execution_count": null,
   "metadata": {},
   "outputs": [],
   "source": [
    "query_category=\"ASPECT_RATIO_SHAPE_SECTION\"\n",
    "query_endpoint='ASPECT'\n",
    "data = {'fq': 'type_s:study', 'q': 'endpointcategory_s:'+query_category, 'wt':'json', 'indent':'on', 'rows': 1000000}\n",
    "results = client_solr.post(service_uri,query=data,auth=auth_object)    \n",
    "response_json=results.json()"
   ]
  },
  {
   "cell_type": "code",
   "execution_count": null,
   "metadata": {},
   "outputs": [],
   "source": [
    "from pandas.io.json import json_normalize\n",
    "df=json_normalize( response_json[\"response\"][\"docs\"])\n",
    "df.fillna(\"\",inplace=True)\n",
    "#print(df.columns)\n",
    "#df = df[df['effectendpoint_s'].str.contains(query_endpoint)]\n",
    "try:\n",
    "    df['loValue_d'] = pd.to_numeric(df['loValue_d'],errors='coerce')\n",
    "except Exception as e:\n",
    "    pass\n",
    "try:\n",
    "    df['upValue_d'] = pd.to_numeric(df['upValue_d'],errors='coerce')\n",
    "except Exception as e:\n",
    "    pass\n",
    "try:\n",
    "    df['err_d'] = pd.to_numeric(df['upValue_d'],errors='coerce')\n",
    "except Exception as e:\n",
    "    pass\n",
    "try:\n",
    "    a = annotation.DictionarySubstancetypes()\n",
    "    df[ 'substanceType_name']=df[ 'substanceType_s'].apply(a.annotate)    \n",
    "except Exception as e:\n",
    "    pass\n",
    "if \"endpointcategory_s\" in df.columns:    \n",
    "    a = annotation.DictionaryEndpointCategory()\n",
    "    df[ 'endpointcategory_term']=df[ 'endpointcategory_s'].apply(a.annotate)\n",
    "    a = annotation.DictionaryEndpointCategoryNames()\n",
    "    df[ 'endpointcategory_name']=df[ 'endpointcategory_s'].apply(a.annotate)\n",
    "#df.info()"
   ]
  },
  {
   "cell_type": "code",
   "execution_count": null,
   "metadata": {
    "scrolled": false
   },
   "outputs": [],
   "source": [
    "cols=[]\n",
    "for col in [\"owner_name_s\",\"substanceType_name\",\"publicname_s\",\"endpointcategory_name\",\"guidance_s\",\"reference_s\",\"reference_owner_s\",\"effectendpoint_s\",\"effectendpoint_type_s\",\"loQualifier_s\",\"loValue_d\",\"upQualifier_s\",\"upValue_d\",\"err_qualifier_s\",\"err_d\",\"unit_s\",\"textValue_s\"]:\n",
    "    if col in df.columns:\n",
    "        cols.append(col)        \n",
    "display(df[cols].head())\n"
   ]
  },
  {
   "cell_type": "code",
   "execution_count": null,
   "metadata": {},
   "outputs": [],
   "source": [
    "table = pd.pivot_table(df, values='loValue_d', columns=['effectendpoint_s','effectendpoint_type_s','reference_owner_s'], index=[\"publicname_s\"], aggfunc=np.mean).fillna(\"\").reset_index()\n",
    "table"
   ]
  }
 ],
 "metadata": {
  "kernelspec": {
   "display_name": "Python 3",
   "language": "python",
   "name": "python3"
  },
  "language_info": {
   "codemirror_mode": {
    "name": "ipython",
    "version": 3
   },
   "file_extension": ".py",
   "mimetype": "text/x-python",
   "name": "python",
   "nbconvert_exporter": "python",
   "pygments_lexer": "ipython3",
   "version": "3.7.3"
  },
  "toc": {
   "base_numbering": 1,
   "nav_menu": {},
   "number_sections": false,
   "sideBar": false,
   "skip_h1_title": false,
   "title_cell": "Table of Contents",
   "title_sidebar": "Contents",
   "toc_cell": false,
   "toc_position": {},
   "toc_section_display": false,
   "toc_window_display": false
  }
 },
 "nbformat": 4,
 "nbformat_minor": 2
}
