{
 "cells": [
  {
   "cell_type": "markdown",
   "metadata": {},
   "source": [
    "# NanoSafety data exploration\n",
    "\n"
   ]
  },
  {
   "cell_type": "code",
   "execution_count": null,
   "metadata": {
    "scrolled": true
   },
   "outputs": [],
   "source": [
    "import yaml\n",
    "from solrscope import aa\n",
    "from solrscope import units\n",
    "import ipywidgets as widgets\n",
    "from ipywidgets import interact, interactive, fixed, interact_manual\n",
    "import requests\n",
    "from importlib import reload \n",
    "from solrscope import client_solr\n",
    "from solrscope import client_ambit\n",
    "from solrscope import annotation\n",
    "import pandas as pd\n",
    "import numpy as np\n",
    "import json\n",
    "import pandas as pd\n",
    "import importlib\n",
    "import qgrid\n",
    "import warnings\n",
    "import seaborn as sns\n",
    "\n",
    "import matplotlib.pyplot as plt\n",
    "import io\n",
    "import qgrid\n",
    "from measurement.utils import guess\n",
    "from measurement.measures import Distance, Temperature, Volume, Area, Frequency, Mass, Time\n",
    "#init_notebook_mode(connected=True)\n",
    "warnings.simplefilter(\"ignore\")"
   ]
  },
  {
   "cell_type": "code",
   "execution_count": null,
   "metadata": {
    "scrolled": true
   },
   "outputs": [],
   "source": [
    "print('Select enanoMapper aggregated search service:')\n",
    "style = {'description_width': 'initial'}\n",
    "config,config_servers, config_security, auth_object, msg = aa.parseOpenAPI3()    \n",
    "service_widget = widgets.Dropdown(\n",
    "    options=config_servers['url'],\n",
    "    description='Service:',\n",
    "    disabled=False,\n",
    "    style=style\n",
    ")\n",
    "if config_security is None:\n",
    "    service = interactive(aa.search_service_open,url=service_widget)\n",
    "else:\n",
    "    print(msg)\n",
    "    apikey_widget=widgets.Text(\n",
    "            placeholder='',\n",
    "            description=config_security,\n",
    "            disabled=False,\n",
    "            style=style\n",
    "    )    \n",
    "    service = interactive(aa.search_service_protected,url=service_widget,apikey=apikey_widget)    \n",
    "\n",
    "display(service)"
   ]
  },
  {
   "cell_type": "code",
   "execution_count": null,
   "metadata": {
    "scrolled": true
   },
   "outputs": [],
   "source": [
    "service_uri=service_widget.value\n",
    "if auth_object!=None:\n",
    "    auth_object.setKey(apikey_widget.value)\n",
    "print(\"Sending queries to {}\".format(service_uri))\n",
    "facets = client_solr.Facets()\n"
   ]
  },
  {
   "cell_type": "markdown",
   "metadata": {},
   "source": [
    "##  Study query"
   ]
  },
  {
   "cell_type": "code",
   "execution_count": null,
   "metadata": {
    "scrolled": true
   },
   "outputs": [],
   "source": [
    "    query_widget=widgets.Text(\n",
    "        placeholder='',\n",
    "        value=\"NANOREG\",\n",
    "        description=\"Query\",\n",
    "        disabled=False,\n",
    "        style=style\n",
    "    )\n",
    "    display(query_widget)"
   ]
  },
  {
   "cell_type": "code",
   "execution_count": null,
   "metadata": {},
   "outputs": [],
   "source": []
  },
  {
   "cell_type": "code",
   "execution_count": null,
   "metadata": {
    "scrolled": true
   },
   "outputs": [],
   "source": [
    "reload(client_solr)\n",
    "facets = client_solr.Facets()\n",
    "\n",
    "f_method=\"E.method_s\"\n",
    "f_materialtype=\"substanceType_s\"\n",
    "f_materialtypename=\"substanceType_name\"\n",
    "f_materialname=\"publicname_s\"\n",
    "f_value=\"Number of data points\"\n",
    "\n",
    "\n",
    "\n",
    "df = facets.summary(service_uri,auth_object, query=query_widget.value,fields=[\"topcategory_s\",\"endpointcategory_s\",\"owner_name_s\",f_method,f_materialtype,f_materialname])    \n",
    "A = df.groupby([f_materialtypename,f_materialname]).agg({f_method: \"count\", f_value : sum}).reset_index()\n",
    "#A\n",
    "B = A.groupby([f_materialtypename]).agg({f_materialname : \"count\", f_method: sum, f_value : sum}).reset_index()\n",
    "qgrid.show_grid(df)\n",
    "#qgrid.show_grid(A)\n",
    "#qgrid.show_grid(B)"
   ]
  },
  {
   "cell_type": "code",
   "execution_count": null,
   "metadata": {
    "scrolled": false
   },
   "outputs": [],
   "source": [
    "from matplotlib import rcParams\n",
    "rcParams['figure.figsize'] = 11.7,8.27\n",
    "#sns.set(rc={'figure.figsize':(10,10)})\n",
    "dict = annotation.DictionarySubstancetypes()\n",
    "ax = sns.scatterplot(x=f_method, y=f_value, size=f_materialname,hue=f_materialtypename,data=B, sizes=(200, 2000)\n",
    "#                     ,hue_order=dict.lookup.properties.values()\n",
    "                    )\n",
    "ax.legend(loc='center left', bbox_to_anchor=(1.25, 0.5), ncol=1)\n",
    "plt.title(query_widget.value)\n",
    "# Set x-axis label\n",
    "plt.xlabel(\"Method\")\n",
    "\n",
    "for line in range(0,B.shape[0]):\n",
    "     if B[f_materialname][line]>12:\n",
    "         ax.text(B[f_method][line]+0.01, B[f_value][line], \n",
    "         B.substanceType_name[line], horizontalalignment='left', \n",
    "         size='medium', color='black')"
   ]
  },
  {
   "cell_type": "markdown",
   "metadata": {},
   "source": [
    "## Get the study results"
   ]
  },
  {
   "cell_type": "code",
   "execution_count": null,
   "metadata": {
    "scrolled": true
   },
   "outputs": [],
   "source": [
    "\n",
    "url=service_uri + \"/select?\"\n",
    "maxrows=100000\n",
    "q = {\"fl\": \"name:name_s,material_name:publicname_s,project:owner_name_s,material_type_annotation:substanceType_s,category:topcategory_s,endpointcategory_s,protocol:guidance_s,descriptor:effectendpoint_s,descriptor_type:effectendpoint_type_s,descriptor_annotation:effectendpoint_synonym_ss,provider:reference_owner_s,citation:reference_s,citation_year:reference_year_s,text_value:textValue_s,loValue:loValue_d,upValue:upValue_d,uncertainty:err_value_d,unit:unit_s,method:E.method_s,method_annotation:E.method_synonym_ss,descriptor_annotation:effectendpoint_synonym_ss,textValue:textValue_s\",\n",
    "      \"fq\":\"type_s:study\",\"wt\":\"csv\", \"rows\":maxrows,\n",
    "     \"q\":query_widget.value\n",
    "\n",
    "#     \"q\":\"(endpointcategory_s:PC_GRANULOMETRY_SECTION) AND (owner_name_s:SANOWORK)\"\n",
    "#       \"q\":\"endpointcategory_s:SPECIFIC_SURFACE_AREA_SECTION\"\n",
    "#       \"q\":\"endpointcategory_s:DUSTINESS_SECTION\"     \n",
    "#       \"q\":\"endpointcategory_s:CRYSTALLINE_PHASE_SECTION\"          \n",
    "#       \"q\":\"endpointcategory_s:POROSITY_SECTION\"          \n",
    "#        \"q\":\"endpointcategory_s:AGGLOMERATION_AGGREGATION_SECTION\"          \n",
    "#        \"q\":\"endpointcategory_s:PC_DENSITY_SECTION\"               \n",
    "#        \"q\":\"endpointcategory_s:TO_GENETIC_IN_VITRO_SECTION\"             \n",
    "#        \"q\":\"TO_GENETIC_IN_VITRO_SECTION  AND COMET\"                \n",
    "#         \"q\" : \"ENM_0000068_SECTION\"\n",
    "#         \"q\" : \"NPO_1339_SECTION\"\n",
    "#         \"q\" : \"TO_REPEATED_ORAL_SECTION\"\n",
    "#         \"q\" : \"TO_REPEATED_INHAL_SECTION\"\n",
    "#         \"q\" : \"ENM_0000037_SECTION\"     \n",
    "    }\n",
    "r = client_solr.get(url,query=q,auth=auth_object)\n",
    "df=pd.read_csv(io.StringIO(r.content.decode('utf-8')))\n",
    "df.head()\n",
    "\n",
    "try:\n",
    "    a = annotation.DictionarySubstancetypes()\n",
    "    df[ 'material_type']=df[ 'material_type_annotation'].apply(a.annotate)\n",
    "except:\n",
    "    pass\n",
    "    \n",
    "a = annotation.DictionaryEndpointCategoryNames()\n",
    "df[ 'endpoint']=df[ 'endpointcategory_s'].apply(a.annotate)\n",
    "\n"
   ]
  },
  {
   "cell_type": "code",
   "execution_count": null,
   "metadata": {
    "scrolled": true
   },
   "outputs": [],
   "source": [
    "\n",
    "qgrid_widget = qgrid.show_grid(df[['project','material_type','material_name','endpoint','method','method_annotation','descriptor','descriptor_annotation','descriptor_type','unit','loValue','upValue','uncertainty','textValue']])\n",
    "qgrid_widget"
   ]
  },
  {
   "cell_type": "markdown",
   "metadata": {},
   "source": [
    "### Unit conversion (if needed)"
   ]
  },
  {
   "cell_type": "code",
   "execution_count": null,
   "metadata": {
    "scrolled": false
   },
   "outputs": [],
   "source": [
    "df_filtered = qgrid_widget.get_changed_df()\n",
    "uq = df_filtered[\"unit\"].unique()\n",
    "    \n",
    "def convert_units_df(to_unit=None,debug=True):\n",
    "    if to_unit==None:\n",
    "        df_filtered['loValue_std'] =  df_filtered['loValue']\n",
    "        df_filtered['upValue_std'] =   df_filtered['upValue']\n",
    "        df_filtered['uncertainty_std'] = df_filtered['uncertainty']\n",
    "        df_filtered['unit_std'] = df_filtered['unit']   \n",
    "        if debug:\n",
    "            display(df_filtered.head(3))\n",
    "    else:    \n",
    "        df_filtered['loValue_std'] = df_filtered.apply(lambda x: units.convert_units(x.loValue, x.unit,  to_unit), axis=1)\n",
    "        df_filtered['upValue_std'] = df_filtered.apply(lambda x: units.convert_units(x.upValue, x.unit,to_unit), axis=1)\n",
    "        df_filtered['uncertainty_std'] = df_filtered.apply(lambda x: units.convert_units(x.uncertainty, x.unit, to_unit), axis=1)\n",
    "        df_filtered['unit_std'] = to_unit\n",
    "        \n",
    "        \n",
    "        if debug:\n",
    "            display(df_filtered[df_filtered[\"unit\"]!=to_unit].head(3))\n",
    "    \n",
    "    return to_unit\n",
    "\n",
    "\n",
    "convert_units_df(None,debug=False)\n",
    "try:\n",
    "    interact(convert_units_df, to_unit=uq);\n",
    "except Exception as err:    \n",
    "    print(err)\n",
    "    pass;"
   ]
  },
  {
   "cell_type": "markdown",
   "metadata": {},
   "source": [
    "# Boxplot"
   ]
  },
  {
   "cell_type": "code",
   "execution_count": null,
   "metadata": {
    "scrolled": true
   },
   "outputs": [],
   "source": [
    "x_widget = widgets.Dropdown(\n",
    "    options= df_filtered.select_dtypes(include=[object]),\n",
    "    description='X:',\n",
    "    value='material_type',\n",
    "    disabled=False\n",
    ")\n",
    "y_widget = widgets.Dropdown(\n",
    "    options= [\"loValue_std\",\"upValue_std\",\"uncertainty_std\",\"loValue\",\"upValue\",\"uncertainty\"],\n",
    "    description='Y:',\n",
    "    value='loValue_std',\n",
    "    disabled=False\n",
    ")\n",
    "hue_widget = widgets.Dropdown(\n",
    "    options= df_filtered.select_dtypes(include=[object]),\n",
    "    description='hue:',\n",
    "    value='descriptor',\n",
    "    disabled=False\n",
    ")\n",
    "col_widget = widgets.Dropdown(\n",
    "    options= df_filtered.select_dtypes(include=[object]),\n",
    "    description='col:',\n",
    "    value='endpoint',\n",
    "    disabled=False\n",
    ")\n"
   ]
  },
  {
   "cell_type": "code",
   "execution_count": null,
   "metadata": {},
   "outputs": [],
   "source": [
    "sns.set(style=\"ticks\")\n",
    "sns.set(rc={'figure.figsize':(20,10)})\n",
    "def striplot(x,y, hue, boxplot):\n",
    "    try:    \n",
    "        if boxplot:\n",
    "            ax = sns.boxplot(x,y, data=df_filtered, whis=np.inf)\n",
    "        ax = sns.stripplot(x,y,  hue=hue, dodge=True, data=df_filtered, jitter=True)\n",
    "        ax.legend(loc='center left', bbox_to_anchor=(1.25, 0.5), ncol=1)\n",
    "        ylabel = '{} [{}]'.format(','.join(df_filtered['descriptor'].unique()), ','.join(df_filtered['unit_std'].unique()))\n",
    "        print(ylabel)\n",
    "        ax.ylabel(ylabel)\n",
    "        ax.xlabel(x)\n",
    "    except:\n",
    "        pass\n",
    "interact(striplot,x= x_widget, y=y_widget, hue = hue_widget, boxplot=True);    "
   ]
  },
  {
   "cell_type": "markdown",
   "metadata": {},
   "source": [
    "## Heat map"
   ]
  },
  {
   "cell_type": "code",
   "execution_count": null,
   "metadata": {
    "scrolled": false
   },
   "outputs": [],
   "source": [
    "p = df_filtered.pivot_table(index=[\"endpoint\",\"method\",\"descriptor\",\"unit_std\"],columns=[\"material_type\",\"material_name\"],values=[y_widget.value])\n",
    "p"
   ]
  },
  {
   "cell_type": "code",
   "execution_count": null,
   "metadata": {
    "scrolled": false
   },
   "outputs": [],
   "source": [
    "sns.set(rc={'figure.figsize':(10,10)})\n",
    "sns.heatmap(p)\n"
   ]
  },
  {
   "cell_type": "markdown",
   "metadata": {
    "scrolled": true
   },
   "source": [
    "## Endpoints"
   ]
  },
  {
   "cell_type": "code",
   "execution_count": null,
   "metadata": {},
   "outputs": [],
   "source": [
    "import matplotlib.pyplot as plt\n",
    "binary = [\"#ff0000\",\"#00ff00\"]\n",
    "sns.set_palette(binary)\n",
    "#red/green palette\n",
    "\n",
    "  \n",
    "def plot_heatmap(table,q, cmap=binary,save=False):    \n",
    "    sns.palplot(cmap)\n",
    "    sns.set_style('ticks')\n",
    "    fig, ax = plt.subplots()\n",
    "    fig.set_size_inches(10,10)\n",
    "    sns_plot = sns.heatmap(table, cmap=cmap)\n",
    "    sns_plot.set_title(q)\n",
    "    if save:\n",
    "        sns_plot.get_figure().savefig(q+\".png\")\n",
    "    return (sns_plot)"
   ]
  },
  {
   "cell_type": "code",
   "execution_count": null,
   "metadata": {},
   "outputs": [],
   "source": [
    "def queryEndpoints(top=\"TOX\",q=\"*:*\"):\n",
    "    try:\n",
    "        df = facets.summary(service_uri,auth_object,query=\"(topcategory_s:\"+top + \") AND (\" + q + \")\",fq=\"type_s:study\",statistics=\"Number of data points\", fields=[\"topcategory_s\",\"endpointcategory_s\",\"effectendpoint_s\",\"substanceType_s\",\"publicname_s\"])        \n",
    "        df.rename(columns={\"owner_name_s\" : \"Project\",\"topcategory_s\":\"Study type\",\"substanceType_name\": \"NM type\",\"endpointcategory_name\":\"endpoint\"},inplace=True)\n",
    "        table = pd.pivot_table(df, values=\"Number of data points\", index=['NM type'], columns=['endpoint' ], aggfunc='any').fillna(False)\n",
    "        plot_heatmap(table,q)\n",
    "    except:\n",
    "        pass\n",
    "    #display(df.head())\n",
    "    #display(table)\n",
    "    \n",
    "    \n",
    "\n",
    "interact(queryEndpoints,top=[\"TOX\",\"P-CHEM\",\"ECOTOX\",\"ENV FATE\"],q=\"*:*\")"
   ]
  },
  {
   "cell_type": "markdown",
   "metadata": {},
   "source": [
    "## Composition"
   ]
  },
  {
   "cell_type": "code",
   "execution_count": null,
   "metadata": {},
   "outputs": [],
   "source": [
    "url=service_uri + \"/select?\"\n",
    "\n",
    "maxrows=10000\n",
    "q = {\"fl\" : \"s_uuid_hs,component_s,ChemicalName_s,CASRN_s,SMILES_s\",\n",
    "      \"fq\":\"type_s:composition\",\"wt\":\"csv\", \"rows\":maxrows,\n",
    "     \"q\":\"*:*\"\n",
    "     \n",
    "    }\n",
    "r = client_solr.get(url,query=q,auth=auth_object)\n",
    "df=pd.read_csv(io.StringIO(r.content.decode('utf-8')))\n",
    "qgrid.show_grid(df)"
   ]
  },
  {
   "cell_type": "code",
   "execution_count": null,
   "metadata": {},
   "outputs": [],
   "source": []
  }
 ],
 "metadata": {
  "kernelspec": {
   "display_name": "Python 3",
   "language": "python",
   "name": "python3"
  },
  "language_info": {
   "codemirror_mode": {
    "name": "ipython",
    "version": 3
   },
   "file_extension": ".py",
   "mimetype": "text/x-python",
   "name": "python",
   "nbconvert_exporter": "python",
   "pygments_lexer": "ipython3",
   "version": "3.7.3"
  },
  "toc": {
   "base_numbering": 1,
   "nav_menu": {},
   "number_sections": false,
   "sideBar": false,
   "skip_h1_title": false,
   "title_cell": "Table of Contents",
   "title_sidebar": "Contents",
   "toc_cell": false,
   "toc_position": {},
   "toc_section_display": false,
   "toc_window_display": false
  }
 },
 "nbformat": 4,
 "nbformat_minor": 2
}
