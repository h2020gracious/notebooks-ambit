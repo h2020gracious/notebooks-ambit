{
 "cells": [
  {
   "cell_type": "markdown",
   "metadata": {},
   "source": [
    "# Chemical structure standardisation with AMBIT\n",
    "\n",
    "- ambitcli - command line \n",
    "- Guide and download: http://ambit.sourceforge.net/ambitcli_standardisation.html\n",
    "- Download: https://zenodo.org/record/1145812\n",
    "- Used to standardize [ExCAPE-DB](https://jcheminf.springeropen.com/articles/10.1186/s13321-017-0203-5)"
   ]
  },
  {
   "cell_type": "markdown",
   "metadata": {},
   "source": [
    "This is a Jupyter notebook using BeakerX kernels. The main kernel is Python, mainly to demonstrate the usage of Java code in Python notebook.  "
   ]
  },
  {
   "cell_type": "markdown",
   "metadata": {},
   "source": [
    "### Configuring Maven repositories and Maven dependencies"
   ]
  },
  {
   "cell_type": "code",
   "execution_count": null,
   "metadata": {},
   "outputs": [],
   "source": [
    "%%java\n",
    "%classpath config resolver mvnLocal\n",
    "%classpath config resolver nexus-idea-releases https://nexus.ideaconsult.net/content/repositories/releases\n",
    "%classpath config resolver nexus-idea-snapshots https://nexus.ideaconsult.net/content/repositories/snapshots\n",
    "%classpath add mvn ambit ambit2-tautomers 4.0.0-SNAPSHOT\n",
    "%classpath add mvn ambit ambit2-dbcli 4.0.0-SNAPSHOT"
   ]
  },
  {
   "cell_type": "markdown",
   "metadata": {},
   "source": [
    "### Standardize single structure"
   ]
  },
  {
   "cell_type": "code",
   "execution_count": null,
   "metadata": {},
   "outputs": [],
   "source": [
    "%%java\n",
    "import ambit2.tautomers.processor.StructureStandardizer;\n",
    "import org.openscience.cdk.interfaces.IAtomContainer;\n",
    "import org.openscience.cdk.smiles.SmilesGenerator;\n",
    "import org.openscience.cdk.smiles.SmilesParser;\n",
    "import org.openscience.cdk.silent.SilentChemObjectBuilder;\n",
    "\n",
    "SmilesParser sp = new SmilesParser(SilentChemObjectBuilder.getInstance());\n",
    "IAtomContainer mol = sp.parseSmiles(\"CC(=O)CC(C1=CC=CC=C1)C2=C(C3=CC=CC=C3OC2=O)O\");\n",
    "StructureStandardizer std = new StructureStandardizer();\n",
    "System.out.println(String.format(\"Clear isotopes %s\\tGenerate 2D %s\\tGenerate InChI %s\\tGenerate SMILES %s\\tAromatic %s\\tCanonical %s\\nStereo from 2D %s\\tTautomers %s\\tImplicit H %s\\tNeutralise %s\\tSplit fragments %s\",\n",
    "        std.isClearIsotopes(),\n",
    "        std.isGenerate2D(),\n",
    "        std.isGenerateInChI(),\n",
    "        std.isGenerateSMILES(),\n",
    "        std.isGenerateSMILES_Aromatic(),\n",
    "        std.isGenerateSMILES_Canonical(),\n",
    "        std.isGenerateStereofrom2D(),\n",
    "        std.isGenerateTautomers(),\n",
    "        std.isImplicitHydrogens(),\n",
    "        std.isNeutralise(),\n",
    "        std.isSplitFragments()\n",
    "                                ));\n",
    "IAtomContainer mol_std = std.process(mol);\n",
    "return SmilesGenerator.generic().create(mol_std);"
   ]
  },
  {
   "cell_type": "markdown",
   "metadata": {},
   "source": [
    "### Standardize file with chemical structures\n",
    "- using tab-delimited file with SMILES column"
   ]
  },
  {
   "cell_type": "code",
   "execution_count": 3,
   "metadata": {},
   "outputs": [
    {
     "data": {
      "text/html": [
       "<div>\n",
       "<style scoped>\n",
       "    .dataframe tbody tr th:only-of-type {\n",
       "        vertical-align: middle;\n",
       "    }\n",
       "\n",
       "    .dataframe tbody tr th {\n",
       "        vertical-align: top;\n",
       "    }\n",
       "\n",
       "    .dataframe thead th {\n",
       "        text-align: right;\n",
       "    }\n",
       "</style>\n",
       "<table border=\"1\" class=\"dataframe\">\n",
       "  <thead>\n",
       "    <tr style=\"text-align: right;\">\n",
       "      <th></th>\n",
       "      <th>SMILES</th>\n",
       "    </tr>\n",
       "  </thead>\n",
       "  <tbody>\n",
       "    <tr>\n",
       "      <th>0</th>\n",
       "      <td>CC(=O)CC(C1=CC=CC=C1)C2=C(C3=CC=CC=C3OC2=O)O</td>\n",
       "    </tr>\n",
       "    <tr>\n",
       "      <th>1</th>\n",
       "      <td>c1cc(oc1/C=C/[N+](=O)[O-])[N+](=O)[O-]</td>\n",
       "    </tr>\n",
       "  </tbody>\n",
       "</table>\n",
       "</div>"
      ],
      "text/plain": [
       "                                         SMILES\n",
       "0  CC(=O)CC(C1=CC=CC=C1)C2=C(C3=CC=CC=C3OC2=O)O\n",
       "1        c1cc(oc1/C=C/[N+](=O)[O-])[N+](=O)[O-]"
      ]
     },
     "execution_count": 3,
     "metadata": {},
     "output_type": "execute_result"
    }
   ],
   "source": [
    "import pandas as pd\n",
    "df = pd.read_csv(\"test.txt\")\n",
    "(df)"
   ]
  },
  {
   "cell_type": "code",
   "execution_count": null,
   "metadata": {},
   "outputs": [],
   "source": [
    "%%java\n",
    "import ambit2.dbcli.AmbitCli;\n",
    "import ambit2.dbcli.CliOptions;\n",
    "\n",
    "String infile=\"test.txt\";\n",
    "String out = \"test_std.txt\";\n",
    "\n",
    "String[] args = new String[] { \"-a\", \"standardize\", \"-i\", infile, \"-m\", \"post\", \"-o\", out, \"-d\",\n",
    "            \"smiles=true\", \"-d\", \"inchi=true\", \"-d\", \"tautomers=true\" };\n",
    "CliOptions options = new CliOptions();\n",
    "if (options.parse(args))\n",
    "try {\n",
    "    AmbitCli cli = new AmbitCli(options);\n",
    "    cli.go(options.getCmd(), options.getSubcommand().name());\n",
    "} finally {\n",
    "    // (new File(out)).delete();\n",
    "}\n",
    "return out;"
   ]
  },
  {
   "cell_type": "code",
   "execution_count": 5,
   "metadata": {},
   "outputs": [
    {
     "data": {
      "text/html": [
       "<div>\n",
       "<style scoped>\n",
       "    .dataframe tbody tr th:only-of-type {\n",
       "        vertical-align: middle;\n",
       "    }\n",
       "\n",
       "    .dataframe tbody tr th {\n",
       "        vertical-align: top;\n",
       "    }\n",
       "\n",
       "    .dataframe thead th {\n",
       "        text-align: right;\n",
       "    }\n",
       "</style>\n",
       "<table border=\"1\" class=\"dataframe\">\n",
       "  <thead>\n",
       "    <tr style=\"text-align: right;\">\n",
       "      <th></th>\n",
       "      <th>InChIKey</th>\n",
       "      <th>InChI</th>\n",
       "      <th>SMILES</th>\n",
       "      <th>RANK</th>\n",
       "      <th>ERROR</th>\n",
       "      <th>cdk:Title</th>\n",
       "    </tr>\n",
       "  </thead>\n",
       "  <tbody>\n",
       "    <tr>\n",
       "      <th>0</th>\n",
       "      <td>FQEPJUOLUDFINX-UHFFFAOYNA-N</td>\n",
       "      <td>InChI=1/C19H16O4/c1-12(20)11-15(13-7-3-2-4-8-1...</td>\n",
       "      <td>CC(=O)CC(C1=CC=CC=C1)C2C(C3=CC=CC=C3OC2=O)=O</td>\n",
       "      <td>-1.0350e+01</td>\n",
       "      <td></td>\n",
       "      <td></td>\n",
       "    </tr>\n",
       "    <tr>\n",
       "      <th>1</th>\n",
       "      <td>NMZDNQIJZAERIO-ONEGZZNKNA-N</td>\n",
       "      <td>InChI=1/C6H4N2O5/c9-7(10)4-3-5-1-2-6(13-5)8(11...</td>\n",
       "      <td>C=1C=C(OC1/C=C/[N+](=O)[O-])[N+](=O)[O-]</td>\n",
       "      <td></td>\n",
       "      <td></td>\n",
       "      <td></td>\n",
       "    </tr>\n",
       "  </tbody>\n",
       "</table>\n",
       "</div>"
      ],
      "text/plain": [
       "                      InChIKey  \\\n",
       "0  FQEPJUOLUDFINX-UHFFFAOYNA-N   \n",
       "1  NMZDNQIJZAERIO-ONEGZZNKNA-N   \n",
       "\n",
       "                                               InChI  \\\n",
       "0  InChI=1/C19H16O4/c1-12(20)11-15(13-7-3-2-4-8-1...   \n",
       "1  InChI=1/C6H4N2O5/c9-7(10)4-3-5-1-2-6(13-5)8(11...   \n",
       "\n",
       "                                         SMILES         RANK ERROR cdk:Title  \n",
       "0  CC(=O)CC(C1=CC=CC=C1)C2C(C3=CC=CC=C3OC2=O)=O  -1.0350e+01                  \n",
       "1      C=1C=C(OC1/C=C/[N+](=O)[O-])[N+](=O)[O-]                               "
      ]
     },
     "execution_count": 5,
     "metadata": {},
     "output_type": "execute_result"
    }
   ],
   "source": [
    "df=pd.read_csv(\"./test_std.txt\",sep='\\t', keep_default_na=False)\n",
    "(df)"
   ]
  },
  {
   "cell_type": "code",
   "execution_count": null,
   "metadata": {},
   "outputs": [],
   "source": []
  }
 ],
 "metadata": {
  "kernelspec": {
   "display_name": "Python 3",
   "language": "python",
   "name": "python3"
  },
  "language_info": {
   "codemirror_mode": {
    "name": "ipython",
    "version": 3
   },
   "file_extension": ".py",
   "mimetype": "text/x-python",
   "name": "python",
   "nbconvert_exporter": "python",
   "pygments_lexer": "ipython3",
   "version": "3.7.3"
  },
  "toc": {
   "base_numbering": 1,
   "nav_menu": {},
   "number_sections": false,
   "sideBar": false,
   "skip_h1_title": false,
   "title_cell": "Table of Contents",
   "title_sidebar": "Contents",
   "toc_cell": false,
   "toc_position": {},
   "toc_section_display": false,
   "toc_window_display": false
  }
 },
 "nbformat": 4,
 "nbformat_minor": 2
}
