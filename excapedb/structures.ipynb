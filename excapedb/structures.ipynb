{
 "cells": [
  {
   "cell_type": "markdown",
   "metadata": {},
   "source": [
    "# ExCAPEDB structures"
   ]
  },
  {
   "cell_type": "code",
   "execution_count": 2,
   "metadata": {},
   "outputs": [
    {
     "name": "stderr",
     "output_type": "stream",
     "text": [
      "2019-01-20 12:30:29,180  DEBUG    Started at nt \t2019-01-20 12:30:29.180331\n"
     ]
    }
   ],
   "source": [
    "import os,path\n",
    "import datetime\n",
    "import urllib.request\n",
    "import logging\n",
    "from logging.config import fileConfig\n",
    "from  rdkit  import  Chem\n",
    "fileConfig('logging.ini')\n",
    "%run settings.py\n",
    "logger= logging.getLogger()\n",
    "logger.debug('Started at %s \\t%s',os.name, datetime.datetime.now())\n",
    "%run EXCAPEDB"
   ]
  },
  {
   "cell_type": "code",
   "execution_count": 3,
   "metadata": {},
   "outputs": [],
   "source": [
    "excapedb=ExCAPEDB(local_path,file_in=\"pubchem.chembl.dataset4publication_inchi_smiles_v2.tsv.xz\",file_patched=None)"
   ]
  },
  {
   "cell_type": "code",
   "execution_count": null,
   "metadata": {},
   "outputs": [],
   "source": [
    "structures_fh = open(\"{}/{}\".format(excapedb.path,\"structures_v2.txt\"),\"w\") \n",
    "structures_fh.write(\"{}\\t{}\\t{}\\t{}\\t{}\\n\".format('Original_Entry_ID','DB','Ambit_InchiKey','SMILES','InChI'))\n",
    "\n",
    "def extract_smiles(num,line,prev_line=None):\n",
    "    if num % 1000000 == 0:\n",
    "            logger.info(num)\n",
    "    _smiles = excapedb.getSmiles(line)\n",
    "    if prev_line is None or (_smiles != excapedb.getSmiles(prev_line)):\n",
    "        _id = excapedb.getIdentifier(line)\n",
    "        _db = excapedb.getDB(line)\n",
    "        _inchi = excapedb.getInchi(line)\n",
    "        _inchikey = excapedb.getInchiKey(line)\n",
    "        structures_fh.write(\"{}\\t{}\\t{}\\t{}\\t{}\\n\".format(_id,_db,_inchikey,_smiles,_inchi))\n",
    "        prev_line=line\n",
    "        \n",
    "        \n",
    "        \n",
    "excapedb.read(process=extract_smiles,_max_records=-1,process_header=None)\n",
    "structures_fh.close()"
   ]
  }
 ],
 "metadata": {
  "kernelspec": {
   "display_name": "Python 3",
   "language": "python",
   "name": "python3"
  },
  "language_info": {
   "codemirror_mode": {
    "name": "ipython",
    "version": 3
   },
   "file_extension": ".py",
   "mimetype": "text/x-python",
   "name": "python",
   "nbconvert_exporter": "python",
   "pygments_lexer": "ipython3",
   "version": "3.6.4"
  },
  "toc": {
   "base_numbering": 1,
   "nav_menu": {},
   "number_sections": false,
   "sideBar": false,
   "skip_h1_title": false,
   "title_cell": "Table of Contents",
   "title_sidebar": "Contents",
   "toc_cell": false,
   "toc_position": {},
   "toc_section_display": false,
   "toc_window_display": false
  }
 },
 "nbformat": 4,
 "nbformat_minor": 2
}
