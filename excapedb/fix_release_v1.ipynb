{
 "cells": [
  {
   "cell_type": "markdown",
   "metadata": {},
   "source": [
    "# ExCAPEDB v1 fix\n",
    "\n",
    "ExCAPEDB is described in\n",
    "\n",
    "> Sun J, Jeliazkova N, Chupakin V, Golib-Dzib J-F, Engkvist O, Carlsson L, Wegner J, Ceulemans H, Georgiev I, Jeliazkov V, Kochev N, Ashby TJ, Chen H: ExCAPE-DB: an integrated large scale dataset facilitating Big Data analysis in chemogenomics. J Cheminform 2017, 9:17.  https://jcheminf.biomedcentral.com/articles/10.1186/s13321-017-0203-5\n",
    "\n",
    "The original release at Zenodo https://zenodo.org/record/173258#.XECnKVUzZlY contains a number of broken SMILES. This notebook:\n",
    "- Downloads the file from Zenodo\n",
    "- Check if RDKit is happy with the SMILES\n",
    "- If not, retrieves the MOL files from the original source (PubChem or ChEMBL)\n",
    "- Runs standadization with ambit-cli\n",
    "- Patches the Zenodo file with the new SMILES"
   ]
  },
  {
   "cell_type": "code",
   "execution_count": 1,
   "metadata": {},
   "outputs": [
    {
     "name": "stderr",
     "output_type": "stream",
     "text": [
      "2019-01-20 12:13:57,429  DEBUG    Started at nt \t2019-01-20 12:13:57.429606\n"
     ]
    }
   ],
   "source": [
    "import os,path\n",
    "import datetime\n",
    "import urllib.request\n",
    "import logging\n",
    "from logging.config import fileConfig\n",
    "from  rdkit  import  Chem\n",
    "fileConfig('logging.ini')\n",
    "%run settings.py\n",
    "%run EXCAPEDB\n",
    "logger= logging.getLogger()\n",
    "logger.debug('Started at %s \\t%s',os.name, datetime.datetime.now())\n"
   ]
  },
  {
   "cell_type": "code",
   "execution_count": 3,
   "metadata": {},
   "outputs": [],
   "source": [
    "import pandas as pd\n",
    "\n",
    "    #print(excapedb.getDB(line))\n",
    "    #print(excapedb.getIdentifier(line))\n",
    "    #print(excapedb.getSmiles(line))        \n",
    "#if os.path.isfile(excapedb[\"\"]) \n",
    "\n",
    "excapedb = ExCAPEDB(local_path)\n",
    "if not os.path.isfile(excapedb.file):\n",
    "    logger.info(\"Retrieving file ...\")\n",
    "    urllib.request.urlretrieve(excapedb.zenodo, excapedb.file)\n",
    "#print(excapedb.file)"
   ]
  },
  {
   "cell_type": "markdown",
   "metadata": {},
   "source": [
    "## Check SMILES\n"
   ]
  },
  {
   "cell_type": "code",
   "execution_count": 4,
   "metadata": {},
   "outputs": [],
   "source": [
    "if not os.path.isfile(excapedb.error_file(\"pubchem\")):\n",
    "    logger.info(\"checking smiles ...\")\n",
    "    excapedb.read(excapedb.check_smiles,_max_records=-1)\n",
    "    #Write identifiers of error SMILES into files (per data source)\n",
    "    excapedb.write_errors()\n",
    "else: # already stored , read them back                      \n",
    "    excapedb.read_errors()"
   ]
  },
  {
   "cell_type": "code",
   "execution_count": 5,
   "metadata": {},
   "outputs": [
    {
     "name": "stdout",
     "output_type": "stream",
     "text": [
      "pubchem \tRDkit errors: 7812\n",
      "chembl20 \tRDkit errors: 7043\n"
     ]
    }
   ],
   "source": [
    "for _db in excapedb.smiles_errors:\n",
    "    print(\"{} \\tRDkit errors: {}\".format(_db,len(excapedb.smiles_errors[_db])))\n"
   ]
  },
  {
   "cell_type": "markdown",
   "metadata": {},
   "source": [
    "## Retrieve from data source"
   ]
  },
  {
   "cell_type": "code",
   "execution_count": 6,
   "metadata": {},
   "outputs": [],
   "source": [
    "import requests\n",
    "\n",
    "def retrieve(dbsource,_max_records=-1):\n",
    "    for db in dbsource:\n",
    "        try:\n",
    "            os.mkdir(\"{}/{}\".format(excapedb.path,db))\n",
    "        except:\n",
    "            pass\n",
    "                     \n",
    "        n=0\n",
    "        if db == \"chembl20\":\n",
    "            #chembl 'SDF' files are neither SDF nor mol ... \n",
    "            #they have no $$$$ record tag, but have properties after M END ...\n",
    "            url=\"https://www.ebi.ac.uk/chembl/api/data/molecule/{}.sdf\"\n",
    "            file_path=\"{}/{}/{}.sdf\"\n",
    "            suffix=\"$$$$\"         \n",
    "        else:\n",
    "            url=\"https://pubchem.ncbi.nlm.nih.gov/rest/pug/compound/cid/{}/record/sdf\"\n",
    "            file_path=\"{}/{}/{}.sdf\"\n",
    "            suffix=None\n",
    "        \n",
    "        for _id in excapedb.smiles_errors[db]:\n",
    "            file=file_path.format(excapedb.path,db,_id)\n",
    "            #logger.debug(file)\n",
    "            if not os.path.isfile(file):\n",
    "                #urllib.request.urlretrieve(url.format(_id), file)\n",
    "                try:\n",
    "                    r = requests.get(url.format(_id))\n",
    "                    if r.status_code == 200:\n",
    "                        with open(file, 'wb') as f:  \n",
    "                            f.write(r.content)\n",
    "                            if not suffix is None:\n",
    "                                f.write(suffix.encode())\n",
    "                    else:\n",
    "                        logger.error(url.format(_id))\n",
    "                except Exception as err:\n",
    "                    logger.error(\"%s %s\",err, url.format(_id))\n",
    "                    \n",
    "            n=n+1\n",
    "            if _max_records>0 and n>_max_records:\n",
    "                break\n",
    "\n",
    "excapedb.read_errors()        \n",
    "dbsource=excapedb.smiles_errors.keys()\n",
    "retrieve([\"pubchem\",\"chembl20\"])            "
   ]
  },
  {
   "cell_type": "markdown",
   "metadata": {},
   "source": [
    "These CHEMBL20 structures do not exists anymore in ChEMBL\n",
    "- https://www.ebi.ac.uk/chembl/api/data/molecule/CHEMBL554792.sdf\n",
    "- https://www.ebi.ac.uk/chembl/api/data/molecule/CHEMBL561096.sdf\n",
    "- https://www.ebi.ac.uk/chembl/api/data/molecule/CHEMBL1628593.sdf\n",
    "- https://www.ebi.ac.uk/chembl/api/data/molecule/CHEMBL561095.sdf\n",
    "- https://www.ebi.ac.uk/chembl/api/data/molecule/CHEMBL3210799.sdf\n",
    "- https://www.ebi.ac.uk/chembl/api/data/molecule/CHEMBL76164.sdf\n",
    "\n",
    "The mol files are extracted from MySQL ChEMBL20 dump instead of online query\n",
    "\n",
    "```\n",
    " SELECT chembl_id, concat(molfile,\"\\n> <chembl_id>\\n\",chembl_id,\"\\n\\n\") FROM molecule_dictionary join  compound_structures using(molregno)\n",
    " where chembl_id in (\"CHEMBL554792\",\"CHEMBL561096\",\"CHEMBL1628593\",\"CHEMBL561095\",\"CHEMBL3210799\",\"CHEMBL76164\")\n",
    "``` "
   ]
  },
  {
   "cell_type": "markdown",
   "metadata": {},
   "source": [
    "## Standardization\n",
    "\n",
    "- Download ambitcli-4.0.0-20181208.jar from  https://sourceforge.net/projects/ambit/files/Ambit2/AMBIT%20applications/ambitcli/ambitcli-4.0.0/\n",
    "- Run standardization as in  https://www.ncbi.nlm.nih.gov/pmc/articles/PMC5340785/"
   ]
  },
  {
   "cell_type": "code",
   "execution_count": 7,
   "metadata": {},
   "outputs": [],
   "source": [
    "#Runs ambitcli as external file. Java has to be installed and on the path\n",
    "import subprocess\n",
    "\n",
    "tags = {\"pubchem\" : \"-d tag_tokeep=PUBCHEM_CID,PUBCHEM_OPENEYE_ISO_SMILES\", \"chembl20\" : \"-d tag_tokeep=chembl_id\"}\n",
    "ambit_bin=\"{}/ambitcli-4.0.0-20181208.jar\".format(excapedb.path)\n",
    "\n",
    "#for db in [\"chembl20\",\"pubchem\"]:\n",
    "for db in [\"chembl20\"]:\n",
    "    infile  = \"{}/{}/\".format(excapedb.path,db);\n",
    "    outfile_step1 = \"{}/{}_step01.txt\".format(excapedb.path,db);\n",
    "    outfile_step2 = \"{}/{}_step02.txt\".format(excapedb.path,db);\n",
    "    logfile= \"{}/{}.log\".format(excapedb.path,db)\n",
    "    \n",
    "    if not os.path.isfile(outfile_step1):\n",
    "        cmp_step1 = \"java -jar {} -a standardize -m post -d page=0 -d pagesize=-1 –d tautomers=false {} -d smilescanonical=false –d smiles=true -d inchi=true -i {} -o {}\".format(ambit_bin,tags[db],infile,outfile_step1)\n",
    "        print(cmp_step1)\n",
    "        subprocess.run(cmp_step1)    \n",
    "\n",
    "    if not os.path.isfile(outfile_step2):\n",
    "        cmp_step2 = \"java -jar {} -a standardize -m post -d page=0 -d pagesize=-1 –d tag_smiles=AMBIT_SMILES -d tag_inchi=AMBIT_InChI -d tag_inchikey=AMBIT_InChIKey –d tautomers=true -d splitfragments=true -d implicith=true -d smilescanonical=false -d smiles=true -d inchi=true -d neutralise=true -d isotopes=true {} -i {} -o {}\".format(ambit_bin,tags[db],outfile_step1,outfile_step2)\n",
    "        print(cmp_step2)\n",
    "        subprocess.run(cmp_step2)    "
   ]
  },
  {
   "cell_type": "markdown",
   "metadata": {},
   "source": [
    "## Patch the distribution"
   ]
  },
  {
   "cell_type": "code",
   "execution_count": 8,
   "metadata": {},
   "outputs": [
    {
     "data": {
      "application/vnd.jupyter.widget-view+json": {
       "model_id": "fe31a87bdefd42b3b1a9902ec1517ae7",
       "version_major": 2,
       "version_minor": 0
      }
     },
     "metadata": {},
     "output_type": "display_data"
    },
    {
     "data": {
      "application/vnd.jupyter.widget-view+json": {
       "model_id": "bbd61719d3d94847ae73dc68f495a780",
       "version_major": 2,
       "version_minor": 0
      }
     },
     "metadata": {},
     "output_type": "display_data"
    }
   ],
   "source": [
    "smiles_std={}\n",
    "ids = {\"pubchem\" : \"PUBCHEM_CID\", \"chembl20\" : \"chembl_id\"}\n",
    "for db in [\"chembl20\",\"pubchem\"]:\n",
    "    outfile_step2 = \"{}/{}_step02.txt\".format(excapedb.path,db);\n",
    "    smiles_std[db] = pd.read_csv(outfile_step2,sep=\"\\t\")\n",
    "    \n",
    "    display(smiles_std[db].head())"
   ]
  },
  {
   "cell_type": "code",
   "execution_count": null,
   "metadata": {},
   "outputs": [],
   "source": [
    "def process_header(line):\n",
    "    patched_fh.write(\"\\t\".join(line))\n",
    "    patched_fh.write(\"\\tupdated\")\n",
    "    patched_fh.write(\"\\n\")\n",
    "    \n",
    "def patch_smiles(num,line,prev_line=None):\n",
    "    _id = excapedb.getIdentifier(line)\n",
    "    _db = excapedb.getDB(line)\n",
    "    _smiles = excapedb.getSmiles(line)\n",
    "    if (_db==\"pubchem\"):\n",
    "        _id=int(_id)\n",
    "    \n",
    "    updated=\"\"\n",
    "    if _id in excapedb.smiles_errors[_db]:\n",
    "        if num % 100000 == 0:\n",
    "            logger.info(num)\n",
    "        #print(_smiles)\n",
    "        if _db in smiles_std:\n",
    "            try:\n",
    "                _tag=ids[_db]\n",
    "                tmp=smiles_std[_db]\n",
    "                rows = tmp.loc[tmp[_tag]==_id]\n",
    "                \n",
    "                new_smiles=rows['SMILES'].values[0]\n",
    "                new_inchi=rows['InChI'].values[0]\n",
    "                new_inchikey=rows['InChIKey'].values[0]\n",
    "                line = excapedb.replace(line, new_smiles,new_inchikey,new_inchi)\n",
    "                updated=\"v2\"\n",
    "            except Exception as err:\n",
    "                logger.error(err)\n",
    "                updated=\"(v2)\"\n",
    "                pass\n",
    "    #write it        \n",
    "    patched_fh.write(\"\\t\".join(line))\n",
    "    patched_fh.write(\"\\t\")\n",
    "    patched_fh.write(updated)\n",
    "    patched_fh.write(\"\\n\")\n",
    "    \n",
    "            \n",
    "excapedb.read_errors()        \n",
    "print( excapedb.smiles_errors[\"pubchem\"])\n",
    "print( excapedb.smiles_errors[\"chembl20\"])\n",
    "\n",
    "patched_fh = open(excapedb.file_patched,\"w\") \n",
    "excapedb.read(patch_smiles,_max_records=-1,process_header=process_header)\n",
    "patched_fh.close()"
   ]
  },
  {
   "cell_type": "markdown",
   "metadata": {},
   "source": [
    "## Verify the new file"
   ]
  },
  {
   "cell_type": "code",
   "execution_count": 10,
   "metadata": {},
   "outputs": [
    {
     "name": "stdout",
     "output_type": "stream",
     "text": [
      "{}\n",
      "['Ambit_InchiKey', 'Original_Entry_ID', 'Entrez_ID', 'Activity_Flag', 'pXC50', 'DB', 'Original_Assay_ID', 'Tax_ID', 'Gene_Symbol', 'Ortholog_Group', 'InChI', 'SMILES', 'updated']\n"
     ]
    }
   ],
   "source": [
    "#compress with xz\n",
    "#and read it\n",
    "excapedb2=ExCAPEDB(local_path,file_in=\"pubchem.chembl.dataset4publication_inchi_smiles_v2.tsv.xz\",file_patched=None)\n",
    "\n",
    "#and check the smiles in the new file\n",
    "excapedb2.read(excapedb2.check_smiles,_max_records=-1,process_header=None)\n",
    "print(excapedb2.smiles_errors)"
   ]
  },
  {
   "cell_type": "markdown",
   "metadata": {},
   "source": [
    "- RDKit still fails to parse 40 ChEMBL SMILES and 127 PubChem SMILES\n",
    "- No obvious errors in SMILES though"
   ]
  },
  {
   "cell_type": "code",
   "execution_count": 11,
   "metadata": {},
   "outputs": [
    {
     "name": "stdout",
     "output_type": "stream",
     "text": [
      "\n",
      "pubchem \tRDkit errors: 40\n",
      "CHEMBL458835  \tN=1C(=CC=2/C(=C/C3=[NH]C4=C([CH]3)C=C(C(=C4)OC)F)/OC(=O)C2C1S)C\n",
      "CHEMBL447352  \tN=1C(=CC=2/C(=C/C3=[NH]C4=C([CH]3)C=CC(=C4)OC)/OC(=O)C2C1S)C\n",
      "CHEMBL1342622  \tS1C(=C([N+]2=CC=C(C=C2)C3=CC=NC=C3)N=C1O)C=NNC(=O)C=4C([OH2])=[C]C=CC4\n",
      "CHEMBL501661  \tC=1(C=C2C(=CC1)N(CCC(=O)N)C(NC(C=3SC(=CC3)/C=C/C4=NC(=[C]C=C4)[NH3])=O)=N2)N(C)C(C=5C=CC=CC5)=O\n",
      "CHEMBL211932  \tC1=C(C2=CC(OC[C@H](CC=3C4=C(NC3)C=CC=C4)[NH2]C5=[C]C=C6C(=C5)C(=C(N6)O)C(C)=C)=CN=C2)C=C7C(NC(=C7C(C)=C)O)=C1\n",
      "CHEMBL2047017  \tC=1([NH2]C(CCCCCC(O)=NO)=O)C=C(C(=O)NC=2C=C(C(=CC2)F)F)C(=C[C]1)O\n",
      "CHEMBL458963  \tN=1C(C)=CC\\2=C(C(=O)O/C2=C\\C3=C4C(=CC=C3)[CH]C=[NH]4)C1S\n",
      "CHEMBL221496  \tC1(=CC=C2N=C(C(=CC2=C1)C3=[NH]C4=C(C=C(C=C4)CN5CCCCC5)[CH]3)O)C6=NNC=C6\n",
      "CHEMBL220902  \tC=1(C=C2C=C(C(=NC2=CC1)O)C3=[NH]C4=C(C=C(C=C4)CN5CCCCC5)[CH]3)C6=CC=CC(=[C]6)[OH2]\n",
      "CHEMBL2047015  \tC=1([NH2]C(CCCCCC(O)=NO)=O)C=C(C(=O)NC=2C=CC=CC2)C([OH2])=[C][C]1\n",
      "CHEMBL183803  \tC=12C(=C(O)NC1)C([NH3])=[C]C=C2C3=C[C]=C([NH2]C([NH2]C4=[C]C(C)=CC=C4)=O)C=C3\n",
      "CHEMBL1314924  \tOC1=C2C(=C(C=3C4=C(C(O)=C5C3C=CC=C5O[C@@H]6OC(C(O)C(O)C6O)CO)C([OH2])=[C]C(=C4)C(=O)O)C7=C1C(O[C@@H]8OC(C(O)C(O)C8O)CO)=CC=C7)C=C([C]=C2[OH2])C(=O)O\n",
      "CHEMBL220903  \tC=1(C=C2C=C(C(O)=NC2=CC1)C3=[NH]C=4C=CC(=CC4[CH]3)CN5CCCCC5)C6=C[C]=C(C(=C6)OC)[OH2]\n",
      "CHEMBL2047023  \tC=1(C=C(C([OH2])=[C][C]1)C(=O)NC2=CC(=C(OCC3=CC=CC(=C3)F)C=C2)Cl)[NH2]C(CCCCCC(O)=NO)=O\n",
      "CHEMBL227170  \tC=1[C]=C(C=CC1C2=CC=C[C]=C2[NH2]C([C@@H](N)CC3=C[C]=C(C=C3)[OH2])=O)[NH2]C(=O)CCCCCCC(=NO)O\n",
      "CHEMBL1794057  \tO=C1[NH2]C2=[C]C=CC=C2[C]1C=[NH]C3=CC=C4NC(O)=NC4=C3\n",
      "CHEMBL461162  \tC1(=C(C=C2NC3=C(C(=CN=C3O)C4=C[C]=C(C=C4)[OH2])C2=C1)OC)OC\n",
      "CHEMBL280766  \tC=1(C=C2C(=CC1)N(CCC(=O)N)C(NC(C=3SC(=CC3)/C=C/C4=C[C]=C(C=C4)[OH2])=O)=N2)N(C)C(C=5C=CC=CC5)=O\n",
      "CHEMBL388878  \t[N]1C(=O)C=2N=C(C[NH2]C=3C=CC(C(N[C@@H](CCC(=O)N4CCC[C@H]4C(=NO)O)C(=O)O)=O)=C[C]3)C=NC2NC1=[NH2]\n",
      "CHEMBL487885  \tC=1(C(O)=C(O)OC1C2=C[C]=C(C(=[C]2)[OH2])[OH2])C=3C=CC([OH2])=[C]C3\n",
      "CHEMBL2047024  \tC=1([NH2]C(CCCCCCC(O)=NO)=O)C=C(C(=O)NC=2C=C(C#C)C=CC2)C(=[C][C]1)[OH2]\n",
      "CHEMBL2204844  \tN1([C@H](C(N[C@H](C(N[C@H](C(NCC(=NO)O)=O)CC2=C[C]=C(C=C2)[OH2])=O)CC3=C[C]=C(C=C3)[OH2])=O)CCC1)C(C)=O\n",
      "CHEMBL267548  \tC=1/2\\N=C(C=C3N=C(/C=C/4\\[NH2]C(=[C]C5=NC(/C1)=C(C5C)CCC(O)=O)C(=C4C)C=C)C(=C3C)C=C)C(=C2CCC(O)=O)C\n",
      "CHEMBL184274  \tC1=2C(C(C=3C=CC([NH2]C([NH2]C4=[C]C(C)=CC=C4)=O)=[C]C3)=C[C]=C1[NH2]C(C=5C=NC=CC5)=O)=CNC2O\n",
      "CHEMBL3144212  \tN1(C(NC(C(=C1)CN2C=3C(=NC(=NC3CCC2C[NH2]C=4C=CC(C(NC(C(O)=O)CCC(O)=O)=O)=C[C]4)N)O)=O)=O)[C@@H]5O[C@H](COP(O)O)[C@H](C5)O\n",
      "CHEMBL3144214  \tN1(C(NC(C(=C1)CN2C=3C(=NC(=NC3CCC2C[NH2]C=4C=CC(C(NC(C(O)=O)CCC(O)=O)=O)=C[C]4)N)O)=O)=O)[C@@H]5O[C@H](CO)[C@H](C5)O\n",
      "CHEMBL262069  \tC=1C=C(C=CC1C2=CC=CC=C2)C3=CC(=NC(SCCCCC([NH2]C4=[C]C=CC=5C4=C(C=CC5)N)=O)=N3)O\n",
      "CHEMBL427910  \tC=1C=C(C=CC1)C=2N=C(N=C(C2)O)SCCCCC([NH2]C3=[C]C=CC=4C3=C(C=CC4)N)=O\n",
      "CHEMBL327146  \tC(C(C([NH2]C1=[C]C2=CC=CN=C2C=C1)=O)CCCCCC(O)=NO)(NC=3C=C4C=CC=NC4=CC3)=O\n",
      "CHEMBL249441  \tC1(C=2C=NNC2)=CC3=C4C(O)=NC=C(C4=CC(=C3C=C1)CCCN)C=5C=C[C]=C(C5)[OH2]\n",
      "CHEMBL456668  \tN=1C(C)=CC\\2=C(C(=O)O/C2=C\\C3=[NH]C4=C([CH]3)C=CC=C4)C1S\n",
      "CHEMBL183025  \tC1=2C(C(C=3C=CC([NH2]C([NH2]C4=[C]C(C)=CC=C4)=O)=[C]C3)=C[C]=C1[NH2]C(=O)C5=CC=CC=C5)=CNC2O\n",
      "CHEMBL306524  \tC1(=CNC2=C1C=CC=C2)C[C@H](NC([C@@H](CC(O)=NO)CC(C)C)=O)C(=O)NCCC3=C[C]=C(C=C3)[OH2]\n",
      "CHEMBL1801376  \tN1=C(C=C2C(C=CC=3C=4C(=CNC4O)NC23)=C1)[NH2]C5=[C]C=CC(=C5)F\n",
      "CHEMBL514125  \tN=1C(=CC=2/C(=C/C3=[NH]C4=C([CH]3)C=C(C=C4)OC)/OC(=O)C2C1S)C\n",
      "CHEMBL3210799  \tO(C[CH]N1C=2C(N=[CH-]1CCNC(=O)C3CCCCC3)=CC=CC2)C4=CC=C(C=C4)C\n",
      "CHEMBL2413254  \tC1(=CC=C(C(=C1)C(O)=O)C2C=3C(OC4=C2C=CC(=C4)O)=CC(=[C]C3)[OH2])NC(NCCCOCCOCCCOCCOCCCNC=5N6C(C=7C(N5)=NN(C7)C)=NC(=N6)C8=CC=CO8)=S\n",
      "CHEMBL427906  \tC=1C=C(C2=CC(=NC(CCCCCC([NH2]C3=[C]C=CC=4C3=C(C=CC4)N)=O)=N2)O)C=CC1\n",
      "CHEMBL2413250  \tN=1C=2C(C=3N(C1NCCCNC(=S)NC4=CC=C(C(=C4)C(O)=O)C5C=6C(OC7=C5C=CC(=C7)O)=CC(=[C]C6)[OH2])N=C(N3)C8=CC=CO8)=CN(N2)C\n",
      "CHEMBL2047019  \tC=1([NH2]C(CCCCCC(O)=NO)=O)C=C(C(=O)NC=2C=C(C(F)(F)F)C=CC2)C(O)=C[C]1\n",
      "\n",
      "pubchem \tRDkit errors: 127\n",
      "54757399  \tFC1=CC2=C(N3C4=C(C(NCC=N(O)(C)C)=CC=C4N=C3C)C2=O)C=C1\n",
      "9497288  \tON(=CC1=C(C(=C(C(=C1C)C)C)C)C)=C\n",
      "5389055  \tS1C(C(N(C1=S)C)=N(O)=CC2=CC=CN=C2)(C)C\n",
      "10050156  \tOC1CCC(NC(=O)C2=CC=3CC\\4C(=NN/C4=C/5\\C=[C]C(=C=C5)C6=CC=C([OH2])C=C6)C3C=C2)CC1\n",
      "14589187  \tON12=C(CC(C(C1)C=C)CC2)C(O)C=3C4=C(N=CC3)C=CC(OC)=C4\n",
      "5777516  \tClC1=C(COC=2C(=C3C(=CC2)C=CC=C3)C=N(O)=C)C=CC(Cl)=C1\n",
      "49863261  \tFC(F)(F)C=1C=C(N2C(O)=C3C([C@]4(O[C@@]3(C(=O)N(O)(C4=O)=C(C)C)C)C)=C2O)C=CC1C#N\n",
      "16760026  \tON=1([C@H](CCC1)C2=CC=CN=C2)C\n",
      "5914201  \tS1C(C(N(CCC)C1=S)=N(O)=CC2=CC=CN=C2)(C)C\n",
      "326750  \tClC=1C(C=N(O)=CC2(O)CCCCC2)=C(Cl)C=CC1\n",
      "44429007  \tOC1CCC(NCC2=CC=3CC4=C(NN=C4C=5C=CC(=[C]C5)C6C=CC(=[OH])C=C6)C3C=C2)CC1\n",
      "11690159  \tO(C=1C=C2C(C(=C(C2=N(O)=C)C(OCC)=O)C3=CC=CC=C3)=CC1)CC4=NC=CC=C4\n",
      "5913771  \tS1C(C(N(CCCC)C1=S)=N(O)=CC2=CC=CN=C2)(C)C\n",
      "44432098  \tO(C1=C(CN2CCN(CC2)C)C=C3CC\\4C(=NN/C4=C/5\\C=[C]C(=C=C5)C6=CC=C([OH2])C=C6)C3=C1)C\n",
      "24031025  \tFC1=CC=C(C(=O)[CH]C(=[NH]C2=CC=3NC(=O)NC3C=C2)C(O)=O)C=C1\n",
      "326747  \tOC1(CCCCC1)C=N(O)=CC=2C=CC=CC2\n",
      "6097960  \tO(C=1C=C(NC2=NC(=NC=3C2=CC=C[CH2]3)C=4C(O)=CC=[C]C4)C=CC1)C\n",
      "5372884  \tS1C(C(N(C1=S)C2=CC=CC=C2)=N(O)=CC=3C=CC(N(C)C)=CC3)(C)C\n",
      "24867650  \tON1=2C([C@@H](CC1)COC(=O)C(O)(C(C)C)C(O)C)CCC2\n",
      "54757401  \tON(=CCNC=1C2=C3N(C4=C(C2=O)C=CC=C4)C(=NC3=CC1)C)(C)C\n",
      "10195027  \tFC=1C(C2=NN(C(CCCC=N(O)(C)C)(C2)C3=CC=CC=C3)C(=O)NCC)=CC(F)=CC1\n",
      "5938737  \tS1C(C(N(C1=S)C2=CC=CC=C2)=N(O)=CC3=CC(OC)=C(OC)C=C3)(C)C\n",
      "2540784  \tO(CC(=O)[NH2]C1=[C]C=2N=C(O)NC2C=C1)C(=O)C3=CC(N(=O)=O)=C(C=C3)C\n",
      "5389047  \tS1C(=N(O)=CC=2SC=CC2)C(N(C1=S)C)(C)C\n",
      "5389054  \tS1C(=N(O)=CC=2OC=CC2)C(N(C1=S)C)(C)C\n",
      "44511001  \tON1=2[C@@H]3[C@@]4([C@]5(NC6=C4C=CC=C6)C([C@@]3(C[C@H]5C(OC)=O)C=CC1)C)CC2\n",
      "223186  \tOC1=C(C=C(C(CC(C)(C)C)(C)C)C=C1)C=N(O)(C)C\n",
      "46883445  \tON=1(CCCCC1)C(=O)CCCCC(=O)NC2=CC=C(NC3=C4C(=NC5=C3C=CC(NC(=O)CCN6CCCC6)=C5)C=C(NC(=O)CCN7CCCC7)C=C4)C=C2\n",
      "46231284  \tON(=CCNC=1C2=C3N(N=NC3=CC1)C4=C(C2=O)C=C(OC)C=C4)(C)C\n",
      "5923263  \tS1C(=N(O)=CC2=C(OC)C=CC=C2)C(N(C1=S)C)(C)C\n",
      "661292  \tON=12CCN(CC1)C=3C2=CC=CC3\n",
      "5289890  \tClC1=C(C=N(O)=C2SC(=S)N(C2(C)C)C)C(F)=CC=C1\n",
      "5289892  \tS1C(C(N(C1=S)C2=CC=CC=C2)=N(O)=CC3=CC(N(=O)=O)=CC=C3)(C)C\n",
      "44432096  \tO(C=1C=C2C3=NN/C(/C3CC2=CC1CNCCO)=C/4\\C=C=C([C]=C4)C5=CC=C([OH2])C=C5)C\n",
      "90386591  \t[O]C1=NC(=NC=2C1=CC=CC2)C=3C[CH](=O)C(=O)CC3\n",
      "13895170  \tON1(C=2C3=C(CC1)C=C4OCOC4=C3C5=C(C2)C=C(OC)C=C5)C\n",
      "44443563  \tO1CCN(CC1)CCOC2=CC3=C(C(=CC3=N(O)=C)C4=CC=CC=C4)C=C2\n",
      "4384008  \tON=1(C2CCC1CC(OC(=O)C3=CC(OC)=C(OC)C=C3)C2)C\n",
      "24867658  \tO[C@@H]1[C@@]23C4N(O)(C[C@@](C2CC4[C@@]56C3CC(O)=C(C5)C(C6=O)C)(CC1)C)=CC\n",
      "53315775  \tON1=2C3=C(CCC1)C=CC=C3CCC2\n",
      "42628277  \tON(=CC1=C(CCC#C)C=CC=C1)=C\n",
      "11530143  \tO(C(=O)C1=C(C2=C(C1=N(O)=C)C=C(OC)C=C2)C3=CC=CC=C3)CC\n",
      "62452  \tON(=CCCCCCCCCC)(C)C\n",
      "2839631  \tON1=2CCN(O)(C=C1)=C3C2C=CC=C3\n",
      "9551660  \tS1C(=N(O)=CC=2C=CC(=CC2)C)C(N(C1=S)C)(C)C\n",
      "660555  \tO=C1C(=N(O)=C)CC2=C1C=CC=C2\n",
      "16745511  \tON=1([C@H]2CC=3C(C1CC=4C2=CC=5OCOC5C4)=CC=6OCOC6C3)C\n",
      "71519193  \tS(=O)(=O)(C1=CC(F)=C(N2N=C3CN(O)(C4CCN(CC4)C5=NC=C(C=N5)CC)=CC3=C2)C=C1)C\n",
      "44427824  \tClC1=C(N2CCN(O)(CC2)=C/C=C/CNC(=O)C=3C=CC(=CC3)C4=NC=CC=C4)C=CC=C1Cl\n",
      "45485774  \tON1(=CCN(CC1)CC2=CC3=C(OC(=C3)C4=C(NC5=C(C6=C(NC=C6)C=C5)C)C(=CN=C4)C#N)C=C2)C\n",
      "44443530  \tS1C=C(C=2C=3C(C(=N(O)=C)C2C(OCC)=O)=CC(OCCCC4=CC=CC=C4)=CC3)C=C1\n",
      "5898598  \tS1C(C(N(CCCC)C1=S)=N(O)=CC=2C=CC(S(=O)(=O)NC)=CC2)(C)C\n",
      "16412857  \tClC1=C(N2CCN(CC2)CCOC=3C=C(C=CC3)C=N(O)=C)N=CC(=C1)C(F)(F)F\n",
      "44825351  \tO=C1/[CH](=C/2\\[N]C=3C(N\\C2=C/4\\C(=O)CC(=O)C=C4)=CC=CC3)/C=CC(=O)C1\n",
      "5735510  \tO(C=1C(NC2=NC(=NC=3C2=CC=C[CH2]3)C=4C(O)=CC=[C]C4)=CC=CC1)C\n",
      "44395259  \tFC(F)(F)C=1C=C(C2(O)CCN(O)(CC2)=CCC(C3=CC=CC=C3)C4=CC=CC=C4)C=CC1\n",
      "44394967  \tFC(F)(F)CNC(=O)C1(CCCCN=2(O)CCC(NC(=O)C3=C(C=CC=C3)C4=CC=C(C=C4)C(F)(F)F)CC2)C=5C(C=6C1=CC=CC6)=CC=CC5\n",
      "46231286  \tBrC1=CC2=C(N3N=NC=4C3=C(C(NCC=N(O)(C)C)=CC4)C2=O)C=C1\n",
      "11698089  \tO(CCN1CCN(CC1)C)C=2C=C3C(C(=C(C3=N(O)=C)C(OCC)=O)C4=CC=CC=C4)=CC2\n",
      "10714216  \tO(C(=O)N[C@@H](CCC=N(O)=CC=1C=CC=CC1)C(=O)O)CC2=CC=CC=C2\n",
      "5389051  \tS1C(=N(O)=CC2=CC=CN=C2)C(N(C1=S)C)(C)C\n",
      "5389045  \tS1C(=N(O)=CC=2C=CC(N(C)C)=CC2)C(N(C1=S)C)(C)C\n",
      "5194722  \tOC1=NC2=C(N1)C=CC([NH2]C(=O)[NH2]C3=[C]C=C(N(=O)=O)C=C3)=[C]2\n",
      "11553704  \tO(C=1C=C2C(C(=C(C2=N(O)=C)C(OCC)=O)C3=CC=CC=C3)=CC1)CCC4=NC=CC=C4\n",
      "283716  \tOC1=[NH]C2=C(C3=C1C=C(N)C=C3)C=CC([NH])=C2\n",
      "13895168  \tON=1(C(C2=C(CC1)C=C(OC)C(O)=C2)CC=3C=CC(O)=CC3)C\n",
      "11639210  \tS1C=2N=CC=C(N(O)(C)=C)C2C=3N=CN(C(=O)C13)C4=CC=C(C=C4)CC\n",
      "5771580  \tON=1([C@@H]2CCC1CC(OC(=O)[C@@H](CO)C3=CC=CC=C3)C2)C\n",
      "3246272  \tON=1([C@H]2CCC1CC(OC(=O)[C@@H](CO)C3=CC=CC=C3)C2)C\n",
      "6419888  \tON=1([C@H]2CCC1CC(OC(=O)C(CO)C3=CC=CC=C3)C2)C\n",
      "11532493  \tO1CCN(CC1)CCOC=2C=C3C(C(=C(C3=N(O)=C)C(OC(C)C)=O)C4=CC=CC=C4)=CC2\n",
      "11569310  \tO(C=1C=C2C(C(=C(C2=N(O)=C)C(OCC)=O)C3=CC=4OCOC4C=C3)=CC1)CCCC5=CC=CC=C5\n",
      "11546596  \tO1CCN(CC1)CCOC=2C=C3C(C(=C(C3=N(O)=C)C(OCC)=O)C4=CC=CC=C4)=CC2\n",
      "224948  \tON(=CC=1C=C(C=CC1O)C2=CC=CC=C2)(C)C\n",
      "9551615  \tS1C(=N(O)=CC=2C=CC=CC2)C(N(C1=S)C)(C)C\n",
      "2231145  \tS(CC(=O)NC1=CC=C(C=C1)C(=O)C)C=2N=C([O])C(NC(=O)C)=C(O)[NH]2\n",
      "11697915  \tO(C=1C=C2C(C(=C(C2=N(O)=C)C(OCC)=O)C3=CC=CC=C3)=CC1)CCCC4=CC=CC=C4\n",
      "11597691  \tO(C=1C=C2C(C(=C(C2=N(O)=C)C(OCC)=O)C3=CC=C(C=C3)C)=CC1)CCCC4=CC=CC=C4\n",
      "44429005  \tOCCNCC1=CC=2CC3=C(NN=C3[CH]=4C=[C]C(=[C]C4)C=5C=CC([OH2])=CC5)C2C=C1\n",
      "71457382  \tOC=1N2C(CCCC2)=C3C1C=CC=C3NC(=O)NC4=[NH]C=5C(C(=O)[CH]4)=CC=CC5\n",
      "5351837  \tON(CCO)(=CCO)C1=NC=NC=2N=CNC12\n",
      "1476242  \tO(C=1C(=C2C(=CC1)C=CC=C2)C=N(O)=C)CC3=CC=CC=C3\n",
      "16410318  \tON(=C1C(=N(O)=CC=2OC(N(=O)=O)=CC2)CCCC1)=CC=3OC(N(=O)=O)=CC3\n",
      "5910161  \tO1C(C=N(O)CC=O)=CC=C1N(=O)=O\n",
      "53315531  \tON(N=C1C=2C(C=C1)=CC=CC2)=C3C=4C(C=C3)=CC=CC4\n",
      "1899031  \tON([C@H]1C(=N(O)=CC=2C=CC=CC2)C=CCC1)=CC=3C=CC=CC3\n",
      "11524635  \tO1CCN(CC1)CCOC=2C=C3C(C(=C(C3=N(O)=C)C(OC)=O)C4=CC=CC=C4)=CC2\n",
      "54757396  \tON(=CCNC=1C2=C3N(C4=C(C2=O)C=C(OC)C=C4)C=NC3=CC1)(C)C\n",
      "172268  \tON=1(CCN=2(O)CCCCC2)CCCCC1\n",
      "24868325  \tO=N(N=C1CCCCC1)NOCOC(=O)C\n",
      "302291  \tON(=C1CCCCC1)=CC=2N(CCOC(=O)C)C(N(=O)=O)=CN2\n",
      "11575609  \tO(C=1C=C2C(C(=C(C2=N(O)=C)C(OCC)=O)C=3C=COC3)=CC1)CCCC4=CC=CC=C4\n",
      "16016001  \tS1C(C2C3=C(N=[CH]2C4=CC=CC=C4)N=C([O])N=C3O)=C(O)C(=C1C)C(OCC)=O\n",
      "6368869  \tO=C(C=1C=CC(C2=CC=CC=C2)=CC1)CC=N(O)=C\n",
      "11669835  \tO(CCN(C1CCCCC1)C)C=2C=C3C(C(=C(C3=N(O)=C)C(OCC)=O)C4=CC=CC=C4)=CC2\n",
      "20313  \tON(=CC=CC1C=2C(CCC=3C1=CC=CC3)=CC=CC2)(C)C\n",
      "5903593  \tS1C(C(N(CCC)C1=S)=N(O)=CC=2C=CC(S(=O)(=O)NC)=CC2)(C)C\n",
      "2097076  \tOC1=NC2=C(N1)C=CC([NH2]C(=O)COC(=O)/C=C/C=3C(N(=O)=O)=CC=CC3)=[C]2\n",
      "23645738  \tON=1([C@@H]2N(C3=C([C@@]2(CC1)C)C=C(OC(=O)NC4=C(CC)C=CC=C4)C=C3)C)C\n",
      "11537767  \tS1C=2C(=O)N(N3CCCCCC3)C=NC2C=4C(N(O)(C)=C)=CC=NC14\n",
      "24013833  \tON1=2C3C4(CC1)C(=NC=5C4=CC=CC5OC)C(C(C3CC)CC2)C(OC)=O\n",
      "24868327  \tO(NN(=O)N=C(C)C)COC(=O)C\n",
      "16278263  \tFC=1C=CC(/C(=N\\O)/C(=N(O)=C/C=C/C)C)=CC1\n",
      "44443538  \tClC1=CC=C(C=2C=3C(C(=N(O)=C)C2C(OCC)=O)=CC(OCCCC4=CC=CC=C4)=CC3)C=C1\n",
      "5859614  \tO=C1CC(CC(=O)C1C=N(O)=C)(C)C\n",
      "46229155  \tO1[C@]23N(C4=C([C@@]25[C@]([C@H]\\6C[C@@H]3N(O)([C@@H]1C5)=C/C6=C/C)(COC(=O)C7=CC(OC)=C(OC)C=C7)C(OC)=O)C=C(OC)C=C4)C\n",
      "16283203  \tOC1=NC2=C(N1)C=CC([NH2]C(=O)COC(=O)/C=C/C3=CC=C(N(=O)=O)C=C3)=[C]2\n",
      "15433  \tON(=CCCCCCCCCCCC)(C)C\n",
      "24892270  \tFC(F)(F)C=1C=CC(C=N(O)=C(CC2=CC=CC=C2)C)=CC1\n",
      "6604327  \tO1[C@H]2[C@@H]1[C@@H]3N(O)(=C2CC(OC(=O)[C@@H](CO)C4=CC=CC=C4)C3)C\n",
      "3000667  \tO1[C@@H]2[C@H]1[C@@H]3N(O)(=C2CC(OC(=O)[C@H](CO)C4=CC=CC=C4)C3)C\n",
      "6419978  \tO1[C@@H]2[C@H]1[C@@H]3N(O)(=C2CC(OC(=O)[C@H](CO)C4=CC=CC=C4)C3)C\n",
      "6713673  \tO1[C@H]2[C@@H]1[C@@H]3N(O)(=C2CC(OC(=O)[C@@H](CO)C4=CC=CC=C4)C3)C\n",
      "5289896  \tClC=1C=CC(C=N(O)=C2SC(=S)N(C2(C)C)C)=CC1\n",
      "9551616  \tClC=1C=CC(C=N(O)=C2SC(=S)N(C2(C)C)C)=CC1\n",
      "114850  \tON1=2[C@@H]3[C@@H]([C@@H]4N(C[C@@H]3CCC1)C(=O)CCC4)CCC2\n",
      "24867691  \tON1=2C3C(C4N(C[C@H]3CCC1)C(=O)CCC4)CCC2\n",
      "16678009  \tON1=2[C@H]3[C@]4([C@H](NC5=C4C=CC=C5)[C@@H]6[C@H](C3)C(C1)=CCO[C@@H]6CC(=O)O)CC2\n",
      "3246431  \tON1=2[C@H]3[C@@]4([C@H](NC5=C4C=CC=C5)[C@@H]6[C@@H](C3)C(C1)=CCO[C@@H]6CC(=O)O)CC2\n",
      "234540  \tON1=2C(CCCC1CO)CCCC2\n",
      "16410285  \tS1C(=N(O)=CC2=C(F)C=CC=C2)C(N(C1=S)C)(C)C\n",
      "24818151  \tON(=C1CCCCC1)=CC=2N(C=3C(N2)=CC=CC3)CC#CC(C)(C)C\n",
      "44443529  \tO(C=1C=C2C(C(=C(C2=N(O)=C)C(OCC)=O)C3=CC=CC=C3)=CC1)CCCCC4=CC=CC=C4\n",
      "328042  \tON1=2C(CC3=C(C1)C(OC)=C(OC)C=C3)C=4C(CC2)=CC=5OCOC5C4\n",
      "9550024  \tO1C2=C(C(=O)C(=C1)C=N(O)=C)C=CC=C2\n",
      "11712195  \tO(C=1C=C2C(C(=C(C2=N(O)=C)C(OCC)=O)C=3C=C(C=CC3)C)=CC1)CCCC4=CC=CC=C4\n",
      "371204  \tON1=2C(CC3=C(C1)C(OC)=C(OC)C=C3)C=4C(CC2)=CC(OC)=C(OC)C4\n"
     ]
    }
   ],
   "source": [
    "for _db in excapedb2.smiles_errors:\n",
    "    print(\"\\n{} \\tRDkit errors: {}\".format(db,len(excapedb2.smiles_errors[_db])))\n",
    "    tmp=smiles_std[_db]\n",
    "    _id=ids[_db]\n",
    "    \n",
    "    for _value in excapedb2.smiles_errors[_db]:\n",
    "        if (_db==\"pubchem\"):\n",
    "            row = tmp.loc[tmp[_id]==int(_value)]\n",
    "        else:    \n",
    "            row = tmp.loc[tmp[_id]==_value]\n",
    "        smiles=row[\"SMILES\"].values[0]    \n",
    "        \n",
    "        entry_id=row[_id].values[0]\n",
    "        \n",
    "        print(\"{}  \\t{}\".format(entry_id,smiles))\n",
    "        \n",
    "        "
   ]
  },
  {
   "cell_type": "markdown",
   "metadata": {},
   "source": [
    "Find the new version https://zenodo.org/record/173258  (v2)"
   ]
  }
 ],
 "metadata": {
  "kernelspec": {
   "display_name": "Python 3",
   "language": "python",
   "name": "python3"
  },
  "language_info": {
   "codemirror_mode": {
    "name": "ipython",
    "version": 3
   },
   "file_extension": ".py",
   "mimetype": "text/x-python",
   "name": "python",
   "nbconvert_exporter": "python",
   "pygments_lexer": "ipython3",
   "version": "3.6.4"
  },
  "toc": {
   "base_numbering": 1,
   "nav_menu": {},
   "number_sections": false,
   "sideBar": false,
   "skip_h1_title": false,
   "title_cell": "Table of Contents",
   "title_sidebar": "Contents",
   "toc_cell": false,
   "toc_position": {},
   "toc_section_display": false,
   "toc_window_display": false
  }
 },
 "nbformat": 4,
 "nbformat_minor": 2
}
